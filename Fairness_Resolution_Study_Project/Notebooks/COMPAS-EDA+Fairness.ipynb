{
 "cells": [
  {
   "cell_type": "code",
   "execution_count": 1,
   "metadata": {},
   "outputs": [],
   "source": [
    "from IPython.core.interactiveshell import InteractiveShell\n",
    "InteractiveShell.ast_node_interactivity = \"all\"\n",
    "\n",
    "import numpy as np\n",
    "import pandas as pd\n",
    "import matplotlib.pyplot as plt\n",
    "import matplotlib.cm as cm\n",
    "import seaborn as sns\n",
    "from sklearn.metrics import accuracy_score, confusion_matrix, precision_score, recall_score, roc_auc_score, roc_curve, f1_score\n",
    "from sklearn.model_selection import train_test_split\n",
    "from sklearn.preprocessing import OneHotEncoder, LabelEncoder\n",
    "from sklearn.compose import make_column_transformer\n",
    "from sklearn.ensemble import RandomForestClassifier\n",
    "from sklearn.pipeline import make_pipeline\n",
    "from sklearn.model_selection import RandomizedSearchCV\n",
    "from sklearn import clone\n",
    "from sklearn.base import BaseEstimator, ClassifierMixin\n",
    "from sklearn.utils.validation import check_is_fitted\n",
    "from sklearn.exceptions import NotFittedError\n",
    "import itertools\n",
    "from pprint import pprint\n",
    "from tempeh.configurations import datasets\n",
    "from fairlearn.postprocessing import ThresholdOptimizer\n",
    "%matplotlib inline"
   ]
  },
  {
   "cell_type": "code",
   "execution_count": 2,
   "metadata": {},
   "outputs": [
    {
     "name": "stdout",
     "output_type": "stream",
     "text": [
      "<class 'pandas.core.frame.DataFrame'>\n",
      "RangeIndex: 7214 entries, 0 to 7213\n",
      "Data columns (total 53 columns):\n",
      " #   Column                   Non-Null Count  Dtype  \n",
      "---  ------                   --------------  -----  \n",
      " 0   id                       7214 non-null   int64  \n",
      " 1   name                     7214 non-null   object \n",
      " 2   first                    7214 non-null   object \n",
      " 3   last                     7214 non-null   object \n",
      " 4   compas_screening_date    7214 non-null   object \n",
      " 5   sex                      7214 non-null   object \n",
      " 6   dob                      7214 non-null   object \n",
      " 7   age                      7214 non-null   int64  \n",
      " 8   age_cat                  7214 non-null   object \n",
      " 9   race                     7214 non-null   object \n",
      " 10  juv_fel_count            7214 non-null   int64  \n",
      " 11  decile_score             7214 non-null   int64  \n",
      " 12  juv_misd_count           7214 non-null   int64  \n",
      " 13  juv_other_count          7214 non-null   int64  \n",
      " 14  priors_count             7214 non-null   int64  \n",
      " 15  days_b_screening_arrest  6907 non-null   float64\n",
      " 16  c_jail_in                6907 non-null   object \n",
      " 17  c_jail_out               6907 non-null   object \n",
      " 18  c_case_number            7192 non-null   object \n",
      " 19  c_offense_date           6055 non-null   object \n",
      " 20  c_arrest_date            1137 non-null   object \n",
      " 21  c_days_from_compas       7192 non-null   float64\n",
      " 22  c_charge_degree          7214 non-null   object \n",
      " 23  c_charge_desc            7185 non-null   object \n",
      " 24  is_recid                 7214 non-null   int64  \n",
      " 25  r_case_number            3471 non-null   object \n",
      " 26  r_charge_degree          3471 non-null   object \n",
      " 27  r_days_from_arrest       2316 non-null   float64\n",
      " 28  r_offense_date           3471 non-null   object \n",
      " 29  r_charge_desc            3413 non-null   object \n",
      " 30  r_jail_in                2316 non-null   object \n",
      " 31  r_jail_out               2316 non-null   object \n",
      " 32  violent_recid            0 non-null      float64\n",
      " 33  is_violent_recid         7214 non-null   int64  \n",
      " 34  vr_case_number           819 non-null    object \n",
      " 35  vr_charge_degree         819 non-null    object \n",
      " 36  vr_offense_date          819 non-null    object \n",
      " 37  vr_charge_desc           819 non-null    object \n",
      " 38  type_of_assessment       7214 non-null   object \n",
      " 39  decile_score.1           7214 non-null   int64  \n",
      " 40  score_text               7214 non-null   object \n",
      " 41  screening_date           7214 non-null   object \n",
      " 42  v_type_of_assessment     7214 non-null   object \n",
      " 43  v_decile_score           7214 non-null   int64  \n",
      " 44  v_score_text             7214 non-null   object \n",
      " 45  v_screening_date         7214 non-null   object \n",
      " 46  in_custody               6978 non-null   object \n",
      " 47  out_custody              6978 non-null   object \n",
      " 48  priors_count.1           7214 non-null   int64  \n",
      " 49  start                    7214 non-null   int64  \n",
      " 50  end                      7214 non-null   int64  \n",
      " 51  event                    7214 non-null   int64  \n",
      " 52  two_year_recid           7214 non-null   int64  \n",
      "dtypes: float64(4), int64(16), object(33)\n",
      "memory usage: 2.9+ MB\n"
     ]
    }
   ],
   "source": [
    "path = 'compas-scores-two-years.csv'\n",
    "#csv_url = 'https://raw.githubusercontent.com/propublica/compas-analysis/master/compas-scores-two-years.csv'\n",
    "df = pd.read_csv(path)\n",
    "df.info()"
   ]
  },
  {
   "cell_type": "code",
   "execution_count": 3,
   "metadata": {},
   "outputs": [
    {
     "data": {
      "text/html": [
       "<div>\n",
       "<style scoped>\n",
       "    .dataframe tbody tr th:only-of-type {\n",
       "        vertical-align: middle;\n",
       "    }\n",
       "\n",
       "    .dataframe tbody tr th {\n",
       "        vertical-align: top;\n",
       "    }\n",
       "\n",
       "    .dataframe thead th {\n",
       "        text-align: right;\n",
       "    }\n",
       "</style>\n",
       "<table border=\"1\" class=\"dataframe\">\n",
       "  <thead>\n",
       "    <tr style=\"text-align: right;\">\n",
       "      <th></th>\n",
       "      <th>id</th>\n",
       "      <th>age</th>\n",
       "      <th>juv_fel_count</th>\n",
       "      <th>decile_score</th>\n",
       "      <th>juv_misd_count</th>\n",
       "      <th>juv_other_count</th>\n",
       "      <th>priors_count</th>\n",
       "      <th>days_b_screening_arrest</th>\n",
       "      <th>c_days_from_compas</th>\n",
       "      <th>is_recid</th>\n",
       "      <th>r_days_from_arrest</th>\n",
       "      <th>violent_recid</th>\n",
       "      <th>is_violent_recid</th>\n",
       "      <th>decile_score.1</th>\n",
       "      <th>v_decile_score</th>\n",
       "      <th>priors_count.1</th>\n",
       "      <th>start</th>\n",
       "      <th>end</th>\n",
       "      <th>event</th>\n",
       "      <th>two_year_recid</th>\n",
       "    </tr>\n",
       "  </thead>\n",
       "  <tbody>\n",
       "    <tr>\n",
       "      <th>count</th>\n",
       "      <td>7214.000000</td>\n",
       "      <td>7214.000000</td>\n",
       "      <td>7214.000000</td>\n",
       "      <td>7214.000000</td>\n",
       "      <td>7214.000000</td>\n",
       "      <td>7214.000000</td>\n",
       "      <td>7214.000000</td>\n",
       "      <td>6907.000000</td>\n",
       "      <td>7192.000000</td>\n",
       "      <td>7214.000000</td>\n",
       "      <td>2316.000000</td>\n",
       "      <td>0.0</td>\n",
       "      <td>7214.000000</td>\n",
       "      <td>7214.000000</td>\n",
       "      <td>7214.000000</td>\n",
       "      <td>7214.000000</td>\n",
       "      <td>7214.000000</td>\n",
       "      <td>7214.000000</td>\n",
       "      <td>7214.000000</td>\n",
       "      <td>7214.000000</td>\n",
       "    </tr>\n",
       "    <tr>\n",
       "      <th>mean</th>\n",
       "      <td>5501.255753</td>\n",
       "      <td>34.817993</td>\n",
       "      <td>0.067230</td>\n",
       "      <td>4.509565</td>\n",
       "      <td>0.090934</td>\n",
       "      <td>0.109371</td>\n",
       "      <td>3.472415</td>\n",
       "      <td>3.304763</td>\n",
       "      <td>57.731368</td>\n",
       "      <td>0.481148</td>\n",
       "      <td>20.269430</td>\n",
       "      <td>NaN</td>\n",
       "      <td>0.113529</td>\n",
       "      <td>4.509565</td>\n",
       "      <td>3.691849</td>\n",
       "      <td>3.472415</td>\n",
       "      <td>11.465068</td>\n",
       "      <td>553.436651</td>\n",
       "      <td>0.382867</td>\n",
       "      <td>0.450652</td>\n",
       "    </tr>\n",
       "    <tr>\n",
       "      <th>std</th>\n",
       "      <td>3175.706870</td>\n",
       "      <td>11.888922</td>\n",
       "      <td>0.473972</td>\n",
       "      <td>2.856396</td>\n",
       "      <td>0.485239</td>\n",
       "      <td>0.501586</td>\n",
       "      <td>4.882538</td>\n",
       "      <td>75.809505</td>\n",
       "      <td>329.740215</td>\n",
       "      <td>0.499679</td>\n",
       "      <td>74.871668</td>\n",
       "      <td>NaN</td>\n",
       "      <td>0.317261</td>\n",
       "      <td>2.856396</td>\n",
       "      <td>2.510148</td>\n",
       "      <td>4.882538</td>\n",
       "      <td>46.954563</td>\n",
       "      <td>399.020583</td>\n",
       "      <td>0.486120</td>\n",
       "      <td>0.497593</td>\n",
       "    </tr>\n",
       "    <tr>\n",
       "      <th>min</th>\n",
       "      <td>1.000000</td>\n",
       "      <td>18.000000</td>\n",
       "      <td>0.000000</td>\n",
       "      <td>1.000000</td>\n",
       "      <td>0.000000</td>\n",
       "      <td>0.000000</td>\n",
       "      <td>0.000000</td>\n",
       "      <td>-414.000000</td>\n",
       "      <td>0.000000</td>\n",
       "      <td>0.000000</td>\n",
       "      <td>-1.000000</td>\n",
       "      <td>NaN</td>\n",
       "      <td>0.000000</td>\n",
       "      <td>1.000000</td>\n",
       "      <td>1.000000</td>\n",
       "      <td>0.000000</td>\n",
       "      <td>0.000000</td>\n",
       "      <td>0.000000</td>\n",
       "      <td>0.000000</td>\n",
       "      <td>0.000000</td>\n",
       "    </tr>\n",
       "    <tr>\n",
       "      <th>25%</th>\n",
       "      <td>2735.250000</td>\n",
       "      <td>25.000000</td>\n",
       "      <td>0.000000</td>\n",
       "      <td>2.000000</td>\n",
       "      <td>0.000000</td>\n",
       "      <td>0.000000</td>\n",
       "      <td>0.000000</td>\n",
       "      <td>-1.000000</td>\n",
       "      <td>1.000000</td>\n",
       "      <td>0.000000</td>\n",
       "      <td>0.000000</td>\n",
       "      <td>NaN</td>\n",
       "      <td>0.000000</td>\n",
       "      <td>2.000000</td>\n",
       "      <td>1.000000</td>\n",
       "      <td>0.000000</td>\n",
       "      <td>0.000000</td>\n",
       "      <td>148.250000</td>\n",
       "      <td>0.000000</td>\n",
       "      <td>0.000000</td>\n",
       "    </tr>\n",
       "    <tr>\n",
       "      <th>50%</th>\n",
       "      <td>5509.500000</td>\n",
       "      <td>31.000000</td>\n",
       "      <td>0.000000</td>\n",
       "      <td>4.000000</td>\n",
       "      <td>0.000000</td>\n",
       "      <td>0.000000</td>\n",
       "      <td>2.000000</td>\n",
       "      <td>-1.000000</td>\n",
       "      <td>1.000000</td>\n",
       "      <td>0.000000</td>\n",
       "      <td>0.000000</td>\n",
       "      <td>NaN</td>\n",
       "      <td>0.000000</td>\n",
       "      <td>4.000000</td>\n",
       "      <td>3.000000</td>\n",
       "      <td>2.000000</td>\n",
       "      <td>0.000000</td>\n",
       "      <td>530.500000</td>\n",
       "      <td>0.000000</td>\n",
       "      <td>0.000000</td>\n",
       "    </tr>\n",
       "    <tr>\n",
       "      <th>75%</th>\n",
       "      <td>8246.500000</td>\n",
       "      <td>42.000000</td>\n",
       "      <td>0.000000</td>\n",
       "      <td>7.000000</td>\n",
       "      <td>0.000000</td>\n",
       "      <td>0.000000</td>\n",
       "      <td>5.000000</td>\n",
       "      <td>0.000000</td>\n",
       "      <td>2.000000</td>\n",
       "      <td>1.000000</td>\n",
       "      <td>1.000000</td>\n",
       "      <td>NaN</td>\n",
       "      <td>0.000000</td>\n",
       "      <td>7.000000</td>\n",
       "      <td>5.000000</td>\n",
       "      <td>5.000000</td>\n",
       "      <td>1.000000</td>\n",
       "      <td>914.000000</td>\n",
       "      <td>1.000000</td>\n",
       "      <td>1.000000</td>\n",
       "    </tr>\n",
       "    <tr>\n",
       "      <th>max</th>\n",
       "      <td>11001.000000</td>\n",
       "      <td>96.000000</td>\n",
       "      <td>20.000000</td>\n",
       "      <td>10.000000</td>\n",
       "      <td>13.000000</td>\n",
       "      <td>17.000000</td>\n",
       "      <td>38.000000</td>\n",
       "      <td>1057.000000</td>\n",
       "      <td>9485.000000</td>\n",
       "      <td>1.000000</td>\n",
       "      <td>993.000000</td>\n",
       "      <td>NaN</td>\n",
       "      <td>1.000000</td>\n",
       "      <td>10.000000</td>\n",
       "      <td>10.000000</td>\n",
       "      <td>38.000000</td>\n",
       "      <td>937.000000</td>\n",
       "      <td>1186.000000</td>\n",
       "      <td>1.000000</td>\n",
       "      <td>1.000000</td>\n",
       "    </tr>\n",
       "  </tbody>\n",
       "</table>\n",
       "</div>"
      ],
      "text/plain": [
       "                 id          age  juv_fel_count  decile_score  juv_misd_count  \\\n",
       "count   7214.000000  7214.000000    7214.000000   7214.000000     7214.000000   \n",
       "mean    5501.255753    34.817993       0.067230      4.509565        0.090934   \n",
       "std     3175.706870    11.888922       0.473972      2.856396        0.485239   \n",
       "min        1.000000    18.000000       0.000000      1.000000        0.000000   \n",
       "25%     2735.250000    25.000000       0.000000      2.000000        0.000000   \n",
       "50%     5509.500000    31.000000       0.000000      4.000000        0.000000   \n",
       "75%     8246.500000    42.000000       0.000000      7.000000        0.000000   \n",
       "max    11001.000000    96.000000      20.000000     10.000000       13.000000   \n",
       "\n",
       "       juv_other_count  priors_count  days_b_screening_arrest  \\\n",
       "count      7214.000000   7214.000000              6907.000000   \n",
       "mean          0.109371      3.472415                 3.304763   \n",
       "std           0.501586      4.882538                75.809505   \n",
       "min           0.000000      0.000000              -414.000000   \n",
       "25%           0.000000      0.000000                -1.000000   \n",
       "50%           0.000000      2.000000                -1.000000   \n",
       "75%           0.000000      5.000000                 0.000000   \n",
       "max          17.000000     38.000000              1057.000000   \n",
       "\n",
       "       c_days_from_compas     is_recid  r_days_from_arrest  violent_recid  \\\n",
       "count         7192.000000  7214.000000         2316.000000            0.0   \n",
       "mean            57.731368     0.481148           20.269430            NaN   \n",
       "std            329.740215     0.499679           74.871668            NaN   \n",
       "min              0.000000     0.000000           -1.000000            NaN   \n",
       "25%              1.000000     0.000000            0.000000            NaN   \n",
       "50%              1.000000     0.000000            0.000000            NaN   \n",
       "75%              2.000000     1.000000            1.000000            NaN   \n",
       "max           9485.000000     1.000000          993.000000            NaN   \n",
       "\n",
       "       is_violent_recid  decile_score.1  v_decile_score  priors_count.1  \\\n",
       "count       7214.000000     7214.000000     7214.000000     7214.000000   \n",
       "mean           0.113529        4.509565        3.691849        3.472415   \n",
       "std            0.317261        2.856396        2.510148        4.882538   \n",
       "min            0.000000        1.000000        1.000000        0.000000   \n",
       "25%            0.000000        2.000000        1.000000        0.000000   \n",
       "50%            0.000000        4.000000        3.000000        2.000000   \n",
       "75%            0.000000        7.000000        5.000000        5.000000   \n",
       "max            1.000000       10.000000       10.000000       38.000000   \n",
       "\n",
       "             start          end        event  two_year_recid  \n",
       "count  7214.000000  7214.000000  7214.000000     7214.000000  \n",
       "mean     11.465068   553.436651     0.382867        0.450652  \n",
       "std      46.954563   399.020583     0.486120        0.497593  \n",
       "min       0.000000     0.000000     0.000000        0.000000  \n",
       "25%       0.000000   148.250000     0.000000        0.000000  \n",
       "50%       0.000000   530.500000     0.000000        0.000000  \n",
       "75%       1.000000   914.000000     1.000000        1.000000  \n",
       "max     937.000000  1186.000000     1.000000        1.000000  "
      ]
     },
     "execution_count": 3,
     "metadata": {},
     "output_type": "execute_result"
    }
   ],
   "source": [
    "df.describe()"
   ]
  },
  {
   "cell_type": "code",
   "execution_count": 4,
   "metadata": {
    "scrolled": true
   },
   "outputs": [
    {
     "data": {
      "text/html": [
       "<div>\n",
       "<style scoped>\n",
       "    .dataframe tbody tr th:only-of-type {\n",
       "        vertical-align: middle;\n",
       "    }\n",
       "\n",
       "    .dataframe tbody tr th {\n",
       "        vertical-align: top;\n",
       "    }\n",
       "\n",
       "    .dataframe thead th {\n",
       "        text-align: right;\n",
       "    }\n",
       "</style>\n",
       "<table border=\"1\" class=\"dataframe\">\n",
       "  <thead>\n",
       "    <tr style=\"text-align: right;\">\n",
       "      <th></th>\n",
       "      <th>id</th>\n",
       "      <th>name</th>\n",
       "      <th>first</th>\n",
       "      <th>last</th>\n",
       "      <th>compas_screening_date</th>\n",
       "      <th>sex</th>\n",
       "      <th>dob</th>\n",
       "      <th>age</th>\n",
       "      <th>age_cat</th>\n",
       "      <th>race</th>\n",
       "      <th>...</th>\n",
       "      <th>v_score_text</th>\n",
       "      <th>v_screening_date</th>\n",
       "      <th>in_custody</th>\n",
       "      <th>out_custody</th>\n",
       "      <th>priors_count.1</th>\n",
       "      <th>start</th>\n",
       "      <th>end</th>\n",
       "      <th>event</th>\n",
       "      <th>two_year_recid</th>\n",
       "      <th>will_recidivate</th>\n",
       "    </tr>\n",
       "  </thead>\n",
       "  <tbody>\n",
       "    <tr>\n",
       "      <th>0</th>\n",
       "      <td>1</td>\n",
       "      <td>miguel hernandez</td>\n",
       "      <td>miguel</td>\n",
       "      <td>hernandez</td>\n",
       "      <td>2013-08-14</td>\n",
       "      <td>Male</td>\n",
       "      <td>1947-04-18</td>\n",
       "      <td>69</td>\n",
       "      <td>Greater than 45</td>\n",
       "      <td>Other</td>\n",
       "      <td>...</td>\n",
       "      <td>Low</td>\n",
       "      <td>2013-08-14</td>\n",
       "      <td>2014-07-07</td>\n",
       "      <td>2014-07-14</td>\n",
       "      <td>0</td>\n",
       "      <td>0</td>\n",
       "      <td>327</td>\n",
       "      <td>0</td>\n",
       "      <td>0</td>\n",
       "      <td>0</td>\n",
       "    </tr>\n",
       "    <tr>\n",
       "      <th>1</th>\n",
       "      <td>3</td>\n",
       "      <td>kevon dixon</td>\n",
       "      <td>kevon</td>\n",
       "      <td>dixon</td>\n",
       "      <td>2013-01-27</td>\n",
       "      <td>Male</td>\n",
       "      <td>1982-01-22</td>\n",
       "      <td>34</td>\n",
       "      <td>25 - 45</td>\n",
       "      <td>African-American</td>\n",
       "      <td>...</td>\n",
       "      <td>Low</td>\n",
       "      <td>2013-01-27</td>\n",
       "      <td>2013-01-26</td>\n",
       "      <td>2013-02-05</td>\n",
       "      <td>0</td>\n",
       "      <td>9</td>\n",
       "      <td>159</td>\n",
       "      <td>1</td>\n",
       "      <td>1</td>\n",
       "      <td>0</td>\n",
       "    </tr>\n",
       "    <tr>\n",
       "      <th>2</th>\n",
       "      <td>4</td>\n",
       "      <td>ed philo</td>\n",
       "      <td>ed</td>\n",
       "      <td>philo</td>\n",
       "      <td>2013-04-14</td>\n",
       "      <td>Male</td>\n",
       "      <td>1991-05-14</td>\n",
       "      <td>24</td>\n",
       "      <td>Less than 25</td>\n",
       "      <td>African-American</td>\n",
       "      <td>...</td>\n",
       "      <td>Low</td>\n",
       "      <td>2013-04-14</td>\n",
       "      <td>2013-06-16</td>\n",
       "      <td>2013-06-16</td>\n",
       "      <td>4</td>\n",
       "      <td>0</td>\n",
       "      <td>63</td>\n",
       "      <td>0</td>\n",
       "      <td>1</td>\n",
       "      <td>0</td>\n",
       "    </tr>\n",
       "    <tr>\n",
       "      <th>3</th>\n",
       "      <td>5</td>\n",
       "      <td>marcu brown</td>\n",
       "      <td>marcu</td>\n",
       "      <td>brown</td>\n",
       "      <td>2013-01-13</td>\n",
       "      <td>Male</td>\n",
       "      <td>1993-01-21</td>\n",
       "      <td>23</td>\n",
       "      <td>Less than 25</td>\n",
       "      <td>African-American</td>\n",
       "      <td>...</td>\n",
       "      <td>Medium</td>\n",
       "      <td>2013-01-13</td>\n",
       "      <td>NaN</td>\n",
       "      <td>NaN</td>\n",
       "      <td>1</td>\n",
       "      <td>0</td>\n",
       "      <td>1174</td>\n",
       "      <td>0</td>\n",
       "      <td>0</td>\n",
       "      <td>1</td>\n",
       "    </tr>\n",
       "    <tr>\n",
       "      <th>4</th>\n",
       "      <td>6</td>\n",
       "      <td>bouthy pierrelouis</td>\n",
       "      <td>bouthy</td>\n",
       "      <td>pierrelouis</td>\n",
       "      <td>2013-03-26</td>\n",
       "      <td>Male</td>\n",
       "      <td>1973-01-22</td>\n",
       "      <td>43</td>\n",
       "      <td>25 - 45</td>\n",
       "      <td>Other</td>\n",
       "      <td>...</td>\n",
       "      <td>Low</td>\n",
       "      <td>2013-03-26</td>\n",
       "      <td>NaN</td>\n",
       "      <td>NaN</td>\n",
       "      <td>2</td>\n",
       "      <td>0</td>\n",
       "      <td>1102</td>\n",
       "      <td>0</td>\n",
       "      <td>0</td>\n",
       "      <td>0</td>\n",
       "    </tr>\n",
       "  </tbody>\n",
       "</table>\n",
       "<p>5 rows × 54 columns</p>\n",
       "</div>"
      ],
      "text/plain": [
       "   id                name   first         last compas_screening_date   sex  \\\n",
       "0   1    miguel hernandez  miguel    hernandez            2013-08-14  Male   \n",
       "1   3         kevon dixon   kevon        dixon            2013-01-27  Male   \n",
       "2   4            ed philo      ed        philo            2013-04-14  Male   \n",
       "3   5         marcu brown   marcu        brown            2013-01-13  Male   \n",
       "4   6  bouthy pierrelouis  bouthy  pierrelouis            2013-03-26  Male   \n",
       "\n",
       "          dob  age          age_cat              race  ...  v_score_text  \\\n",
       "0  1947-04-18   69  Greater than 45             Other  ...           Low   \n",
       "1  1982-01-22   34          25 - 45  African-American  ...           Low   \n",
       "2  1991-05-14   24     Less than 25  African-American  ...           Low   \n",
       "3  1993-01-21   23     Less than 25  African-American  ...        Medium   \n",
       "4  1973-01-22   43          25 - 45             Other  ...           Low   \n",
       "\n",
       "   v_screening_date  in_custody  out_custody  priors_count.1  start   end  \\\n",
       "0        2013-08-14  2014-07-07   2014-07-14               0      0   327   \n",
       "1        2013-01-27  2013-01-26   2013-02-05               0      9   159   \n",
       "2        2013-04-14  2013-06-16   2013-06-16               4      0    63   \n",
       "3        2013-01-13         NaN          NaN               1      0  1174   \n",
       "4        2013-03-26         NaN          NaN               2      0  1102   \n",
       "\n",
       "  event two_year_recid will_recidivate  \n",
       "0     0              0               0  \n",
       "1     1              1               0  \n",
       "2     0              1               0  \n",
       "3     0              0               1  \n",
       "4     0              0               0  \n",
       "\n",
       "[5 rows x 54 columns]"
      ]
     },
     "execution_count": 4,
     "metadata": {},
     "output_type": "execute_result"
    }
   ],
   "source": [
    "#Assumption/ Implication: Those with high decile score will recidivate again\n",
    "df['will_recidivate']  = (df['decile_score']>=5).astype(int)\n",
    "df.head()"
   ]
  },
  {
   "cell_type": "code",
   "execution_count": 5,
   "metadata": {},
   "outputs": [
    {
     "data": {
      "text/plain": [
       "'\\nTask: Calculating Accuracy where will recidivate attribtue matches whether the person \\nactually commited the crime or not. \\nResult: Too many false positives detected since 35 % of those classified as high risk are \\ninnocent\\n'"
      ]
     },
     "execution_count": 5,
     "metadata": {},
     "output_type": "execute_result"
    },
    {
     "data": {
      "text/plain": [
       "65.37288605489326"
      ]
     },
     "execution_count": 5,
     "metadata": {},
     "output_type": "execute_result"
    }
   ],
   "source": [
    "'''\n",
    "Task: Calculating Accuracy where will recidivate attribtue matches whether the person \n",
    "actually commited the crime or not. \n",
    "Result: Too many false positives detected since 35 % of those classified as high risk are \n",
    "innocent\n",
    "'''\n",
    "correct_predictions = df['will_recidivate'] == df['two_year_recid']\n",
    "prediction_accuracy = np.mean(correct_predictions)*100\n",
    "prediction_accuracy"
   ]
  },
  {
   "cell_type": "code",
   "execution_count": 6,
   "metadata": {},
   "outputs": [
    {
     "data": {
      "text/plain": [
       "'Calculating Precision and Recall the dataset'"
      ]
     },
     "execution_count": 6,
     "metadata": {},
     "output_type": "execute_result"
    },
    {
     "data": {
      "image/png": "[encoded data removed]",
      "text/plain": [
       "<Figure size 432x288 with 2 Axes>"
      ]
     },
     "metadata": {
      "needs_background": "light"
     },
     "output_type": "display_data"
    }
   ],
   "source": [
    "\"\"\"Calculating Precision and Recall the dataset\"\"\"\n",
    "error_matrix = pd.crosstab(df['two_year_recid'], df['will_recidivate'], rownames=['Ground Truth'], colnames=['Prediction'])\n",
    "\n",
    "labels = ['True Neg','False Pos','False Neg','True Pos']\n",
    "confusion_matrix_plot = sns.heatmap(error_matrix, annot= True, fmt=\"\", cmap= \"Blues\")"
   ]
  },
  {
   "cell_type": "code",
   "execution_count": 7,
   "metadata": {},
   "outputs": [
    {
     "data": {
      "text/plain": [
       "[[2681, 1282], [1216, 2035]]"
      ]
     },
     "execution_count": 7,
     "metadata": {},
     "output_type": "execute_result"
    }
   ],
   "source": [
    "confusion_values = confusion_matrix(df['two_year_recid'], df['will_recidivate'])\n",
    "[[true_negatives , false_positives],[false_negatives , true_positives]] = confusion_values\n",
    "[[true_negatives , false_positives],[false_negatives , true_positives]]"
   ]
  },
  {
   "cell_type": "code",
   "execution_count": 8,
   "metadata": {},
   "outputs": [
    {
     "data": {
      "text/plain": [
       "<matplotlib.axes._subplots.AxesSubplot at 0x7f91c2a6a1d0>"
      ]
     },
     "execution_count": 8,
     "metadata": {},
     "output_type": "execute_result"
    },
    {
     "data": {
      "image/png": "[encoded data removed]",
      "text/plain": [
       "<Figure size 432x288 with 1 Axes>"
      ]
     },
     "metadata": {
      "needs_background": "light"
     },
     "output_type": "display_data"
    }
   ],
   "source": [
    "# t = df[df[\"two_year_recid\"]==1]\n",
    "# t.describe()\n",
    "error_matrix.plot.bar()"
   ]
  },
  {
   "cell_type": "code",
   "execution_count": 9,
   "metadata": {},
   "outputs": [
    {
     "data": {
      "text/html": [
       "<div>\n",
       "<style scoped>\n",
       "    .dataframe tbody tr th:only-of-type {\n",
       "        vertical-align: middle;\n",
       "    }\n",
       "\n",
       "    .dataframe tbody tr th {\n",
       "        vertical-align: top;\n",
       "    }\n",
       "\n",
       "    .dataframe thead th {\n",
       "        text-align: right;\n",
       "    }\n",
       "</style>\n",
       "<table border=\"1\" class=\"dataframe\">\n",
       "  <thead>\n",
       "    <tr style=\"text-align: right;\">\n",
       "      <th>Prediction</th>\n",
       "      <th>0</th>\n",
       "      <th>1</th>\n",
       "    </tr>\n",
       "    <tr>\n",
       "      <th>Ground Truth</th>\n",
       "      <th></th>\n",
       "      <th></th>\n",
       "    </tr>\n",
       "  </thead>\n",
       "  <tbody>\n",
       "    <tr>\n",
       "      <th>0</th>\n",
       "      <td>0.676508</td>\n",
       "      <td>0.323492</td>\n",
       "    </tr>\n",
       "    <tr>\n",
       "      <th>1</th>\n",
       "      <td>0.374039</td>\n",
       "      <td>0.625961</td>\n",
       "    </tr>\n",
       "  </tbody>\n",
       "</table>\n",
       "</div>"
      ],
      "text/plain": [
       "Prediction           0         1\n",
       "Ground Truth                    \n",
       "0             0.676508  0.323492\n",
       "1             0.374039  0.625961"
      ]
     },
     "execution_count": 9,
     "metadata": {},
     "output_type": "execute_result"
    }
   ],
   "source": [
    "row_normalized_error_matrix = pd.crosstab(df['two_year_recid'], df['will_recidivate'], rownames=['Ground Truth'], normalize=\"index\", colnames=['Prediction'])\n",
    "\n",
    "row_normalized_error_matrix"
   ]
  },
  {
   "cell_type": "code",
   "execution_count": 10,
   "metadata": {},
   "outputs": [
    {
     "data": {
      "text/html": [
       "<div>\n",
       "<style scoped>\n",
       "    .dataframe tbody tr th:only-of-type {\n",
       "        vertical-align: middle;\n",
       "    }\n",
       "\n",
       "    .dataframe tbody tr th {\n",
       "        vertical-align: top;\n",
       "    }\n",
       "\n",
       "    .dataframe thead th {\n",
       "        text-align: right;\n",
       "    }\n",
       "</style>\n",
       "<table border=\"1\" class=\"dataframe\">\n",
       "  <thead>\n",
       "    <tr style=\"text-align: right;\">\n",
       "      <th>Prediction</th>\n",
       "      <th>0</th>\n",
       "      <th>1</th>\n",
       "    </tr>\n",
       "    <tr>\n",
       "      <th>Ground Truth</th>\n",
       "      <th></th>\n",
       "      <th></th>\n",
       "    </tr>\n",
       "  </thead>\n",
       "  <tbody>\n",
       "    <tr>\n",
       "      <th>0</th>\n",
       "      <td>0.687965</td>\n",
       "      <td>0.386494</td>\n",
       "    </tr>\n",
       "    <tr>\n",
       "      <th>1</th>\n",
       "      <td>0.312035</td>\n",
       "      <td>0.613506</td>\n",
       "    </tr>\n",
       "  </tbody>\n",
       "</table>\n",
       "</div>"
      ],
      "text/plain": [
       "Prediction           0         1\n",
       "Ground Truth                    \n",
       "0             0.687965  0.386494\n",
       "1             0.312035  0.613506"
      ]
     },
     "execution_count": 10,
     "metadata": {},
     "output_type": "execute_result"
    }
   ],
   "source": [
    "column_normalized_error_matrix = pd.crosstab(df['two_year_recid'], df['will_recidivate'], rownames=['Ground Truth'], normalize=\"columns\", colnames=['Prediction'])\n",
    "column_normalized_error_matrix"
   ]
  },
  {
   "cell_type": "code",
   "execution_count": 11,
   "metadata": {},
   "outputs": [
    {
     "data": {
      "text/plain": [
       "0.6259612426945556"
      ]
     },
     "execution_count": 11,
     "metadata": {},
     "output_type": "execute_result"
    }
   ],
   "source": [
    "recall = true_positives/ (true_positives + false_negatives)\n",
    "recall"
   ]
  },
  {
   "cell_type": "code",
   "execution_count": 12,
   "metadata": {},
   "outputs": [
    {
     "data": {
      "text/plain": [
       "0.6135061802833887"
      ]
     },
     "execution_count": 12,
     "metadata": {},
     "output_type": "execute_result"
    }
   ],
   "source": [
    "precision = true_positives/ (true_positives + false_positives)\n",
    "precision"
   ]
  },
  {
   "cell_type": "code",
   "execution_count": null,
   "metadata": {},
   "outputs": [],
   "source": []
  },
  {
   "cell_type": "code",
   "execution_count": 13,
   "metadata": {},
   "outputs": [
    {
     "data": {
      "image/png": "[encoded data removed]",
      "text/plain": [
       "<Figure size 432x288 with 1 Axes>"
      ]
     },
     "metadata": {
      "needs_background": "light"
     },
     "output_type": "display_data"
    }
   ],
   "source": [
    "'''\n",
    "seeing whether people with high recidivism score re-offended or not\n",
    "'''\n",
    "score_vs_gt = df.groupby('decile_score').agg({'two_year_recid': 'mean'})\n",
    "sns.scatterplot(data = score_vs_gt);\n",
    "plt.ylabel('Recidivism Percentage');\n",
    "plt.ylim(0,1);\n"
   ]
  },
  {
   "cell_type": "code",
   "execution_count": 14,
   "metadata": {},
   "outputs": [
    {
     "data": {
      "text/plain": [
       "African-American    3696\n",
       "Caucasian           2454\n",
       "Hispanic             637\n",
       "Other                377\n",
       "Asian                 32\n",
       "Native American       18\n",
       "Name: race, dtype: int64"
      ]
     },
     "execution_count": 14,
     "metadata": {},
     "output_type": "execute_result"
    }
   ],
   "source": [
    "df['race'].value_counts()"
   ]
  },
  {
   "cell_type": "code",
   "execution_count": 15,
   "metadata": {},
   "outputs": [
    {
     "data": {
      "image/png": "[encoded data removed]",
      "text/plain": [
       "<Figure size 432x288 with 1 Axes>"
      ]
     },
     "metadata": {
      "needs_background": "light"
     },
     "output_type": "display_data"
    }
   ],
   "source": [
    "fpr, tpr, thresholds = roc_curve(df['two_year_recid'], df['decile_score'])  \n",
    "sns.scatterplot(x=fpr, y=tpr, );\n",
    "sns.lineplot(x=fpr, y=tpr, );\n",
    "plt.ylabel(\"TPR\");\n",
    "plt.xlabel(\"FPR\");"
   ]
  },
  {
   "cell_type": "code",
   "execution_count": 16,
   "metadata": {},
   "outputs": [
    {
     "data": {
      "text/plain": [
       "0.7021662544019724"
      ]
     },
     "execution_count": 16,
     "metadata": {},
     "output_type": "execute_result"
    }
   ],
   "source": [
    "auc = roc_auc_score(df['two_year_recid'], df['decile_score'])\n",
    "auc"
   ]
  },
  {
   "cell_type": "code",
   "execution_count": 17,
   "metadata": {},
   "outputs": [
    {
     "data": {
      "text/plain": [
       "'\\nFinding accuracy of two_year_recid gt against high recidivism score grouped by race.\\n\\nFairness Type: Overall Accuracy Equality\\n'"
      ]
     },
     "execution_count": 17,
     "metadata": {},
     "output_type": "execute_result"
    },
    {
     "data": {
      "text/plain": [
       "race\n",
       "African-American    0.638258\n",
       "Caucasian           0.669927\n",
       "dtype: float64"
      ]
     },
     "execution_count": 17,
     "metadata": {},
     "output_type": "execute_result"
    }
   ],
   "source": [
    "'''\n",
    "Finding accuracy of two_year_recid gt against high recidivism score grouped by race.\n",
    "\n",
    "Fairness Type: Overall Accuracy Equality\n",
    "'''\n",
    "race_df = df[df['race'].isin(['Caucasian','African-American'])]\n",
    "(race_df['two_year_recid'] == race_df['will_recidivate']).astype(int).groupby(race_df['race']).mean()\n",
    "#race_df"
   ]
  },
  {
   "cell_type": "code",
   "execution_count": 18,
   "metadata": {},
   "outputs": [
    {
     "data": {
      "text/plain": [
       "'\\nchecking probability for recidivism for person classifier as medium/high risk\\n\\nFairness Type: Predictive Parity\\n'"
      ]
     },
     "execution_count": 18,
     "metadata": {},
     "output_type": "execute_result"
    },
    {
     "data": {
      "text/plain": [
       "race\n",
       "African-American    0.629715\n",
       "Caucasian           0.591335\n",
       "Name: two_year_recid, dtype: float64"
      ]
     },
     "execution_count": 18,
     "metadata": {},
     "output_type": "execute_result"
    }
   ],
   "source": [
    "'''\n",
    "checking probability for recidivism for person classifier as medium/high risk\n",
    "\n",
    "Fairness Type: Predictive Parity\n",
    "'''\n",
    "race_df[race_df['will_recidivate']==1]['two_year_recid'].groupby(race_df['race']).mean()"
   ]
  },
  {
   "cell_type": "code",
   "execution_count": 19,
   "metadata": {},
   "outputs": [
    {
     "data": {
      "image/png": "[encoded data removed]",
      "text/plain": [
       "<Figure size 432x288 with 1 Axes>"
      ]
     },
     "metadata": {
      "needs_background": "light"
     },
     "output_type": "display_data"
    }
   ],
   "source": [
    "'''\n",
    "checking if defendant with same score has \n",
    "similar probability for Caucasian and African-American groups both.\n",
    "\n",
    "Fairness Type: Calibration\n",
    "'''\n",
    "d = pd.DataFrame(race_df.groupby(['decile_score','race']).agg({'two_year_recid': 'mean'}))\n",
    "d = d.reset_index()\n",
    "im = sns.scatterplot(data=d, x='decile_score', y='two_year_recid', palette= 'deep', hue='race', hue_norm=(0, 5), style= 'race');\n",
    "im.set(ylim=(0,1));"
   ]
  },
  {
   "cell_type": "code",
   "execution_count": 20,
   "metadata": {},
   "outputs": [
    {
     "data": {
      "image/png": "[encoded data removed]",
      "text/plain": [
       "<Figure size 1296x216 with 6 Axes>"
      ]
     },
     "metadata": {
      "needs_background": "light"
     },
     "output_type": "display_data"
    }
   ],
   "source": [
    "# frequency plot\n",
    "g = sns.FacetGrid(df, col=\"race\",hue = 'race', margin_titles=True);\n",
    "g.map(plt.hist, \"decile_score\", bins=10);"
   ]
  },
  {
   "cell_type": "code",
   "execution_count": 21,
   "metadata": {},
   "outputs": [
    {
     "data": {
      "text/plain": [
       "'\\nChecking average reoffending probability of both groups and their average decile score.\\n'"
      ]
     },
     "execution_count": 21,
     "metadata": {},
     "output_type": "execute_result"
    },
    {
     "data": {
      "text/html": [
       "<div>\n",
       "<style scoped>\n",
       "    .dataframe tbody tr th:only-of-type {\n",
       "        vertical-align: middle;\n",
       "    }\n",
       "\n",
       "    .dataframe tbody tr th {\n",
       "        vertical-align: top;\n",
       "    }\n",
       "\n",
       "    .dataframe thead th {\n",
       "        text-align: right;\n",
       "    }\n",
       "</style>\n",
       "<table border=\"1\" class=\"dataframe\">\n",
       "  <thead>\n",
       "    <tr style=\"text-align: right;\">\n",
       "      <th>race</th>\n",
       "      <th>African-American</th>\n",
       "      <th>Caucasian</th>\n",
       "    </tr>\n",
       "  </thead>\n",
       "  <tbody>\n",
       "    <tr>\n",
       "      <th>two_year_recid</th>\n",
       "      <td>0.514340</td>\n",
       "      <td>0.393643</td>\n",
       "    </tr>\n",
       "    <tr>\n",
       "      <th>will_recidivate</th>\n",
       "      <td>0.588203</td>\n",
       "      <td>0.348003</td>\n",
       "    </tr>\n",
       "    <tr>\n",
       "      <th>decile_score</th>\n",
       "      <td>5.368777</td>\n",
       "      <td>3.735126</td>\n",
       "    </tr>\n",
       "  </tbody>\n",
       "</table>\n",
       "</div>"
      ],
      "text/plain": [
       "race             African-American  Caucasian\n",
       "two_year_recid           0.514340   0.393643\n",
       "will_recidivate          0.588203   0.348003\n",
       "decile_score             5.368777   3.735126"
      ]
     },
     "execution_count": 21,
     "metadata": {},
     "output_type": "execute_result"
    }
   ],
   "source": [
    "'''\n",
    "Checking average reoffending probability of both groups and their average decile score.\n",
    "'''\n",
    "race_df.groupby('race').agg({'two_year_recid': 'mean',  \n",
    "                        'will_recidivate': 'mean', \n",
    "                        'decile_score': 'mean'}).transpose()"
   ]
  },
  {
   "cell_type": "code",
   "execution_count": 22,
   "metadata": {},
   "outputs": [
    {
     "data": {
      "text/plain": [
       "[[1139, 349], [461, 505]]"
      ]
     },
     "execution_count": 22,
     "metadata": {},
     "output_type": "execute_result"
    },
    {
     "data": {
      "text/plain": [
       "[[990, 805], [532, 1369]]"
      ]
     },
     "execution_count": 22,
     "metadata": {},
     "output_type": "execute_result"
    }
   ],
   "source": [
    "caucasian_df = race_df[race_df['race'] == 'Caucasian']\n",
    "af_am_df = race_df[race_df['race'] == 'African-American']\n",
    "\n",
    "\n",
    "caucasian_confusion_values = confusion_matrix(caucasian_df['two_year_recid'], caucasian_df['will_recidivate'])\n",
    "[[white_tn , white_fp],[white_fn , white_tp]] = caucasian_confusion_values\n",
    "\n",
    "af_am_df_confusion_values = confusion_matrix(af_am_df['two_year_recid'], af_am_df['will_recidivate'])\n",
    "[[black_tn , black_fp],[black_fn , black_tp]] = af_am_df_confusion_values\n",
    "[[white_tn , white_fp],[white_fn , white_tp]]\n",
    "[[black_tn , black_fp],[black_fn , black_tp]]\n"
   ]
  },
  {
   "cell_type": "code",
   "execution_count": 23,
   "metadata": {},
   "outputs": [
    {
     "name": "stdout",
     "output_type": "stream",
     "text": [
      "FPR for African-American Group: 0.44846796657381616 | FPR for Caucasian Group: 0.23454301075268819\n",
      "FNR for African-American Group: 0.27985270910047344 | FNR for Caucasian Group: 0.4772256728778468\n"
     ]
    }
   ],
   "source": [
    "black_fpr = black_fp/ (black_fp + black_tn)\n",
    "white_fpr = white_fp/ (white_fp + white_tn)\n",
    "\n",
    "black_fnr = black_fn/ (black_fn + black_tp)\n",
    "white_fnr = white_fn/ (white_fn + white_tp)\n",
    "\n",
    "\n",
    "print(f'FPR for African-American Group: {black_fpr} | FPR for Caucasian Group: {white_fpr}')\n",
    "print(f'FNR for African-American Group: {black_fnr} | FNR for Caucasian Group: {white_fnr}')"
   ]
  },
  {
   "cell_type": "code",
   "execution_count": 24,
   "metadata": {},
   "outputs": [
    {
     "data": {
      "text/plain": [
       "id                            0\n",
       "name                          0\n",
       "first                         0\n",
       "last                          0\n",
       "compas_screening_date         0\n",
       "sex                           0\n",
       "dob                           0\n",
       "age                           0\n",
       "age_cat                       0\n",
       "race                          0\n",
       "juv_fel_count                 0\n",
       "decile_score                  0\n",
       "juv_misd_count                0\n",
       "juv_other_count               0\n",
       "priors_count                  0\n",
       "days_b_screening_arrest     307\n",
       "c_jail_in                   307\n",
       "c_jail_out                  307\n",
       "c_case_number                22\n",
       "c_offense_date             1159\n",
       "c_arrest_date              6077\n",
       "c_days_from_compas           22\n",
       "c_charge_degree               0\n",
       "c_charge_desc                29\n",
       "is_recid                      0\n",
       "r_case_number              3743\n",
       "r_charge_degree            3743\n",
       "r_days_from_arrest         4898\n",
       "r_offense_date             3743\n",
       "r_charge_desc              3801\n",
       "r_jail_in                  4898\n",
       "r_jail_out                 4898\n",
       "violent_recid              7214\n",
       "is_violent_recid              0\n",
       "vr_case_number             6395\n",
       "vr_charge_degree           6395\n",
       "vr_offense_date            6395\n",
       "vr_charge_desc             6395\n",
       "type_of_assessment            0\n",
       "decile_score.1                0\n",
       "score_text                    0\n",
       "screening_date                0\n",
       "v_type_of_assessment          0\n",
       "v_decile_score                0\n",
       "v_score_text                  0\n",
       "v_screening_date              0\n",
       "in_custody                  236\n",
       "out_custody                 236\n",
       "priors_count.1                0\n",
       "start                         0\n",
       "end                           0\n",
       "event                         0\n",
       "two_year_recid                0\n",
       "will_recidivate               0\n",
       "dtype: int64"
      ]
     },
     "execution_count": 24,
     "metadata": {},
     "output_type": "execute_result"
    }
   ],
   "source": [
    "df.isnull().sum()"
   ]
  },
  {
   "cell_type": "code",
   "execution_count": 25,
   "metadata": {},
   "outputs": [
    {
     "data": {
      "text/plain": [
       "array([nan, '(F3)', '(F2)', '(F1)', '(M1)', '(MO3)', '(M2)', '(F6)',\n",
       "       '(F7)', '(F5)'], dtype=object)"
      ]
     },
     "execution_count": 25,
     "metadata": {},
     "output_type": "execute_result"
    }
   ],
   "source": [
    "df['vr_charge_degree'].unique()"
   ]
  },
  {
   "cell_type": "markdown",
   "metadata": {},
   "source": [
    "# Training Random Forest on Original COMPAS Dataset"
   ]
  },
  {
   "cell_type": "code",
   "execution_count": 26,
   "metadata": {},
   "outputs": [
    {
     "data": {
      "text/html": [
       "<div>\n",
       "<style scoped>\n",
       "    .dataframe tbody tr th:only-of-type {\n",
       "        vertical-align: middle;\n",
       "    }\n",
       "\n",
       "    .dataframe tbody tr th {\n",
       "        vertical-align: top;\n",
       "    }\n",
       "\n",
       "    .dataframe thead th {\n",
       "        text-align: right;\n",
       "    }\n",
       "</style>\n",
       "<table border=\"1\" class=\"dataframe\">\n",
       "  <thead>\n",
       "    <tr style=\"text-align: right;\">\n",
       "      <th></th>\n",
       "      <th>age</th>\n",
       "      <th>c_days_from_compas</th>\n",
       "      <th>is_recid</th>\n",
       "      <th>juv_fel_count</th>\n",
       "      <th>juv_misd_count</th>\n",
       "      <th>juv_other_count</th>\n",
       "      <th>priors_count</th>\n",
       "      <th>r_days_from_arrest</th>\n",
       "    </tr>\n",
       "  </thead>\n",
       "  <tbody>\n",
       "    <tr>\n",
       "      <th>count</th>\n",
       "      <td>15201.000000</td>\n",
       "      <td>15165.000000</td>\n",
       "      <td>15201.000000</td>\n",
       "      <td>15201.000000</td>\n",
       "      <td>15201.000000</td>\n",
       "      <td>15201.000000</td>\n",
       "      <td>15201.000000</td>\n",
       "      <td>5738.000000</td>\n",
       "    </tr>\n",
       "    <tr>\n",
       "      <th>mean</th>\n",
       "      <td>33.802973</td>\n",
       "      <td>58.414837</td>\n",
       "      <td>0.497007</td>\n",
       "      <td>0.085192</td>\n",
       "      <td>0.110519</td>\n",
       "      <td>0.139070</td>\n",
       "      <td>4.343333</td>\n",
       "      <td>19.897525</td>\n",
       "    </tr>\n",
       "    <tr>\n",
       "      <th>std</th>\n",
       "      <td>11.557081</td>\n",
       "      <td>322.564627</td>\n",
       "      <td>0.500007</td>\n",
       "      <td>0.470350</td>\n",
       "      <td>0.543038</td>\n",
       "      <td>0.548323</td>\n",
       "      <td>5.488404</td>\n",
       "      <td>74.566588</td>\n",
       "    </tr>\n",
       "    <tr>\n",
       "      <th>min</th>\n",
       "      <td>18.000000</td>\n",
       "      <td>0.000000</td>\n",
       "      <td>0.000000</td>\n",
       "      <td>0.000000</td>\n",
       "      <td>0.000000</td>\n",
       "      <td>0.000000</td>\n",
       "      <td>0.000000</td>\n",
       "      <td>-1.000000</td>\n",
       "    </tr>\n",
       "    <tr>\n",
       "      <th>25%</th>\n",
       "      <td>25.000000</td>\n",
       "      <td>1.000000</td>\n",
       "      <td>0.000000</td>\n",
       "      <td>0.000000</td>\n",
       "      <td>0.000000</td>\n",
       "      <td>0.000000</td>\n",
       "      <td>1.000000</td>\n",
       "      <td>0.000000</td>\n",
       "    </tr>\n",
       "    <tr>\n",
       "      <th>50%</th>\n",
       "      <td>30.000000</td>\n",
       "      <td>1.000000</td>\n",
       "      <td>0.000000</td>\n",
       "      <td>0.000000</td>\n",
       "      <td>0.000000</td>\n",
       "      <td>0.000000</td>\n",
       "      <td>2.000000</td>\n",
       "      <td>0.000000</td>\n",
       "    </tr>\n",
       "    <tr>\n",
       "      <th>75%</th>\n",
       "      <td>41.000000</td>\n",
       "      <td>2.000000</td>\n",
       "      <td>1.000000</td>\n",
       "      <td>0.000000</td>\n",
       "      <td>0.000000</td>\n",
       "      <td>0.000000</td>\n",
       "      <td>6.000000</td>\n",
       "      <td>1.000000</td>\n",
       "    </tr>\n",
       "    <tr>\n",
       "      <th>max</th>\n",
       "      <td>83.000000</td>\n",
       "      <td>9485.000000</td>\n",
       "      <td>1.000000</td>\n",
       "      <td>13.000000</td>\n",
       "      <td>13.000000</td>\n",
       "      <td>17.000000</td>\n",
       "      <td>43.000000</td>\n",
       "      <td>993.000000</td>\n",
       "    </tr>\n",
       "  </tbody>\n",
       "</table>\n",
       "</div>"
      ],
      "text/plain": [
       "                age  c_days_from_compas      is_recid  juv_fel_count  \\\n",
       "count  15201.000000        15165.000000  15201.000000   15201.000000   \n",
       "mean      33.802973           58.414837      0.497007       0.085192   \n",
       "std       11.557081          322.564627      0.500007       0.470350   \n",
       "min       18.000000            0.000000      0.000000       0.000000   \n",
       "25%       25.000000            1.000000      0.000000       0.000000   \n",
       "50%       30.000000            1.000000      0.000000       0.000000   \n",
       "75%       41.000000            2.000000      1.000000       0.000000   \n",
       "max       83.000000         9485.000000      1.000000      13.000000   \n",
       "\n",
       "       juv_misd_count  juv_other_count  priors_count  r_days_from_arrest  \n",
       "count    15201.000000     15201.000000  15201.000000         5738.000000  \n",
       "mean         0.110519         0.139070      4.343333           19.897525  \n",
       "std          0.543038         0.548323      5.488404           74.566588  \n",
       "min          0.000000         0.000000      0.000000           -1.000000  \n",
       "25%          0.000000         0.000000      1.000000            0.000000  \n",
       "50%          0.000000         0.000000      2.000000            0.000000  \n",
       "75%          0.000000         0.000000      6.000000            1.000000  \n",
       "max         13.000000        17.000000     43.000000          993.000000  "
      ]
     },
     "execution_count": 26,
     "metadata": {},
     "output_type": "execute_result"
    }
   ],
   "source": [
    "reoffend_df = pd.read_csv('archive/cox-violent-parsed.csv')\n",
    "\n",
    "reqd_cols = ['age','c_charge_desc','c_charge_degree','c_days_from_compas',\n",
    "  'is_recid', \n",
    "  'juv_fel_count', \n",
    "  'juv_misd_count', \n",
    "  'juv_other_count',\n",
    "  'priors_count',\n",
    "  'r_days_from_arrest',\n",
    "  'race',\n",
    "  'sex',\n",
    "  'vr_charge_desc']\n",
    "\n",
    "reoffend_df = reoffend_df[reqd_cols]\n",
    "reoffend_df = reoffend_df[reoffend_df[\"is_recid\"] != -1] #removing people with unknown reoffending activity\n",
    "reoffend_df_race = reoffend_df[reoffend_df['race'].isin(['Caucasian','African-American'])]\n",
    "\n",
    "reoffend_df_race.describe()"
   ]
  },
  {
   "cell_type": "code",
   "execution_count": 27,
   "metadata": {},
   "outputs": [
    {
     "data": {
      "text/plain": [
       "age                       0\n",
       "c_charge_desc            50\n",
       "c_charge_degree          36\n",
       "c_days_from_compas       36\n",
       "is_recid                  0\n",
       "juv_fel_count             0\n",
       "juv_misd_count            0\n",
       "juv_other_count           0\n",
       "priors_count              0\n",
       "r_days_from_arrest     9463\n",
       "race                      0\n",
       "sex                       0\n",
       "vr_charge_desc        14017\n",
       "dtype: int64"
      ]
     },
     "execution_count": 27,
     "metadata": {},
     "output_type": "execute_result"
    }
   ],
   "source": [
    "reoffend_df_race.isnull().sum()"
   ]
  },
  {
   "cell_type": "code",
   "execution_count": 28,
   "metadata": {},
   "outputs": [
    {
     "data": {
      "text/plain": [
       "age                   0\n",
       "c_charge_desc         0\n",
       "c_charge_degree       0\n",
       "c_days_from_compas    0\n",
       "is_recid              0\n",
       "juv_fel_count         0\n",
       "juv_misd_count        0\n",
       "juv_other_count       0\n",
       "priors_count          0\n",
       "r_days_from_arrest    0\n",
       "race                  0\n",
       "sex                   0\n",
       "vr_charge_desc        0\n",
       "dtype: int64"
      ]
     },
     "execution_count": 28,
     "metadata": {},
     "output_type": "execute_result"
    },
    {
     "data": {
      "text/plain": [
       "age                     int64\n",
       "c_charge_desc          object\n",
       "c_charge_degree         int64\n",
       "c_days_from_compas    float64\n",
       "is_recid                int64\n",
       "juv_fel_count           int64\n",
       "juv_misd_count          int64\n",
       "juv_other_count         int64\n",
       "priors_count            int64\n",
       "r_days_from_arrest    float64\n",
       "race                   object\n",
       "sex                    object\n",
       "vr_charge_desc         object\n",
       "dtype: object"
      ]
     },
     "execution_count": 28,
     "metadata": {},
     "output_type": "execute_result"
    }
   ],
   "source": [
    "reoffend_df_race = reoffend_df_race[reoffend_df_race['c_charge_desc'].notna()]\n",
    "reoffend_df_race['r_days_from_arrest'] = reoffend_df_race['r_days_from_arrest'].fillna(reoffend_df_race['r_days_from_arrest'].mode()[0])\n",
    "reoffend_df_race['vr_charge_desc'] = reoffend_df_race['vr_charge_desc'].fillna('na')\n",
    "reoffend_df_race['c_charge_degree'] = reoffend_df_race['c_charge_degree'].apply(lambda x: 0 if x == 'F' else 1)\n",
    "\n",
    "reoffend_df_race.isnull().sum()\n",
    "reoffend_df_race.dtypes"
   ]
  },
  {
   "cell_type": "code",
   "execution_count": 29,
   "metadata": {},
   "outputs": [],
   "source": [
    "data = reoffend_df_race.copy()\n",
    "labels = data.pop('is_recid')\n",
    "x_train, x_test, y_train, y_test = train_test_split(data, labels,\n",
    "                                                    test_size=0.2, random_state = 42)\n"
   ]
  },
  {
   "cell_type": "code",
   "execution_count": 30,
   "metadata": {},
   "outputs": [
    {
     "data": {
      "text/plain": [
       "['c_charge_desc', 'race', 'sex', 'vr_charge_desc']"
      ]
     },
     "execution_count": 30,
     "metadata": {},
     "output_type": "execute_result"
    }
   ],
   "source": [
    "#encoding categorical features\n",
    "categorical_features = x_train.columns[x_train.dtypes==object].tolist() \n",
    "col_trans = make_column_transformer(\n",
    "                        (OneHotEncoder(handle_unknown = 'ignore'), categorical_features),\n",
    "                        remainder = \"passthrough\"\n",
    "                        )\n",
    "categorical_features"
   ]
  },
  {
   "cell_type": "code",
   "execution_count": 31,
   "metadata": {},
   "outputs": [],
   "source": [
    "#le = LabelEncoder()\n",
    "\n",
    "\n",
    "# 2/3. FIT AND TRANSFORM\n",
    "# use df.apply() to apply le.fit_transform to all columns\n",
    "#x_train = x_train.apply(le.fit_transform)\n",
    "\n",
    "#x_train.head()"
   ]
  },
  {
   "cell_type": "code",
   "execution_count": 32,
   "metadata": {},
   "outputs": [
    {
     "data": {
      "text/html": [
       "<div>\n",
       "<style scoped>\n",
       "    .dataframe tbody tr th:only-of-type {\n",
       "        vertical-align: middle;\n",
       "    }\n",
       "\n",
       "    .dataframe tbody tr th {\n",
       "        vertical-align: top;\n",
       "    }\n",
       "\n",
       "    .dataframe thead th {\n",
       "        text-align: right;\n",
       "    }\n",
       "</style>\n",
       "<table border=\"1\" class=\"dataframe\">\n",
       "  <thead>\n",
       "    <tr style=\"text-align: right;\">\n",
       "      <th></th>\n",
       "      <th>age</th>\n",
       "      <th>c_charge_desc</th>\n",
       "      <th>c_charge_degree</th>\n",
       "      <th>c_days_from_compas</th>\n",
       "      <th>juv_fel_count</th>\n",
       "      <th>juv_misd_count</th>\n",
       "      <th>juv_other_count</th>\n",
       "      <th>priors_count</th>\n",
       "      <th>r_days_from_arrest</th>\n",
       "      <th>race</th>\n",
       "      <th>sex</th>\n",
       "      <th>vr_charge_desc</th>\n",
       "    </tr>\n",
       "  </thead>\n",
       "  <tbody>\n",
       "    <tr>\n",
       "      <th>683</th>\n",
       "      <td>20</td>\n",
       "      <td>Possession Burglary Tools</td>\n",
       "      <td>1</td>\n",
       "      <td>1.0</td>\n",
       "      <td>0</td>\n",
       "      <td>0</td>\n",
       "      <td>0</td>\n",
       "      <td>0</td>\n",
       "      <td>0.0</td>\n",
       "      <td>African-American</td>\n",
       "      <td>Male</td>\n",
       "      <td>na</td>\n",
       "    </tr>\n",
       "    <tr>\n",
       "      <th>10358</th>\n",
       "      <td>36</td>\n",
       "      <td>arrest case no charge</td>\n",
       "      <td>1</td>\n",
       "      <td>1.0</td>\n",
       "      <td>0</td>\n",
       "      <td>0</td>\n",
       "      <td>0</td>\n",
       "      <td>4</td>\n",
       "      <td>0.0</td>\n",
       "      <td>African-American</td>\n",
       "      <td>Male</td>\n",
       "      <td>na</td>\n",
       "    </tr>\n",
       "    <tr>\n",
       "      <th>9688</th>\n",
       "      <td>32</td>\n",
       "      <td>Possession Burglary Tools</td>\n",
       "      <td>1</td>\n",
       "      <td>1.0</td>\n",
       "      <td>0</td>\n",
       "      <td>0</td>\n",
       "      <td>0</td>\n",
       "      <td>0</td>\n",
       "      <td>0.0</td>\n",
       "      <td>Caucasian</td>\n",
       "      <td>Male</td>\n",
       "      <td>na</td>\n",
       "    </tr>\n",
       "    <tr>\n",
       "      <th>17862</th>\n",
       "      <td>36</td>\n",
       "      <td>Battery</td>\n",
       "      <td>1</td>\n",
       "      <td>1.0</td>\n",
       "      <td>0</td>\n",
       "      <td>0</td>\n",
       "      <td>0</td>\n",
       "      <td>1</td>\n",
       "      <td>0.0</td>\n",
       "      <td>African-American</td>\n",
       "      <td>Female</td>\n",
       "      <td>na</td>\n",
       "    </tr>\n",
       "    <tr>\n",
       "      <th>8366</th>\n",
       "      <td>34</td>\n",
       "      <td>Leaving Scene Accident w/Death</td>\n",
       "      <td>1</td>\n",
       "      <td>49.0</td>\n",
       "      <td>0</td>\n",
       "      <td>0</td>\n",
       "      <td>0</td>\n",
       "      <td>2</td>\n",
       "      <td>0.0</td>\n",
       "      <td>Caucasian</td>\n",
       "      <td>Male</td>\n",
       "      <td>na</td>\n",
       "    </tr>\n",
       "  </tbody>\n",
       "</table>\n",
       "</div>"
      ],
      "text/plain": [
       "       age                   c_charge_desc  c_charge_degree  \\\n",
       "683     20       Possession Burglary Tools                1   \n",
       "10358   36           arrest case no charge                1   \n",
       "9688    32       Possession Burglary Tools                1   \n",
       "17862   36                         Battery                1   \n",
       "8366    34  Leaving Scene Accident w/Death                1   \n",
       "\n",
       "       c_days_from_compas  juv_fel_count  juv_misd_count  juv_other_count  \\\n",
       "683                   1.0              0               0                0   \n",
       "10358                 1.0              0               0                0   \n",
       "9688                  1.0              0               0                0   \n",
       "17862                 1.0              0               0                0   \n",
       "8366                 49.0              0               0                0   \n",
       "\n",
       "       priors_count  r_days_from_arrest              race     sex  \\\n",
       "683               0                 0.0  African-American    Male   \n",
       "10358             4                 0.0  African-American    Male   \n",
       "9688              0                 0.0         Caucasian    Male   \n",
       "17862             1                 0.0  African-American  Female   \n",
       "8366              2                 0.0         Caucasian    Male   \n",
       "\n",
       "      vr_charge_desc  \n",
       "683               na  \n",
       "10358             na  \n",
       "9688              na  \n",
       "17862             na  \n",
       "8366              na  "
      ]
     },
     "execution_count": 32,
     "metadata": {},
     "output_type": "execute_result"
    }
   ],
   "source": [
    "x_test.head()"
   ]
  },
  {
   "cell_type": "code",
   "execution_count": 33,
   "metadata": {},
   "outputs": [
    {
     "data": {
      "text/plain": [
       "Pipeline(memory=None,\n",
       "         steps=[('columntransformer',\n",
       "                 ColumnTransformer(n_jobs=None, remainder='passthrough',\n",
       "                                   sparse_threshold=0.3,\n",
       "                                   transformer_weights=None,\n",
       "                                   transformers=[('onehotencoder',\n",
       "                                                  OneHotEncoder(categories='auto',\n",
       "                                                                drop=None,\n",
       "                                                                dtype=<class 'numpy.float64'>,\n",
       "                                                                handle_unknown='ignore',\n",
       "                                                                sparse=True),\n",
       "                                                  ['c_charge_desc', 'race',\n",
       "                                                   'sex', 'vr_charge_desc'])],\n",
       "                                   verbose=Fals...\n",
       "                 RandomForestClassifier(bootstrap=True, ccp_alpha=0.0,\n",
       "                                        class_weight=None, criterion='gini',\n",
       "                                        max_depth=None, max_features='auto',\n",
       "                                        max_leaf_nodes=None, max_samples=None,\n",
       "                                        min_impurity_decrease=0.0,\n",
       "                                        min_impurity_split=None,\n",
       "                                        min_samples_leaf=1, min_samples_split=2,\n",
       "                                        min_weight_fraction_leaf=0.0,\n",
       "                                        n_estimators=60, n_jobs=-1,\n",
       "                                        oob_score=False, random_state=42,\n",
       "                                        verbose=0, warm_start=False))],\n",
       "         verbose=False)"
      ]
     },
     "execution_count": 33,
     "metadata": {},
     "output_type": "execute_result"
    },
    {
     "data": {
      "text/plain": [
       "0.8940943582975915"
      ]
     },
     "execution_count": 33,
     "metadata": {},
     "output_type": "execute_result"
    }
   ],
   "source": [
    "rf_classifier = RandomForestClassifier(\n",
    "                      n_estimators = 60,\n",
    "                      n_jobs = -1,\n",
    "                      #max_depth= 100,\n",
    "                      random_state = 42,\n",
    "                      max_features = 'auto')\n",
    "model = make_pipeline(col_trans, rf_classifier)\n",
    "model.fit(x_train, y_train)\n",
    "y_pred = model.predict(x_test)\n",
    "accuracy_score(y_test, y_pred)"
   ]
  },
  {
   "cell_type": "code",
   "execution_count": 34,
   "metadata": {},
   "outputs": [
    {
     "name": "stdout",
     "output_type": "stream",
     "text": [
      "Train ROC AUC Score: 0.9988522339039958\n",
      "Test ROC AUC  Score: 0.9534115951117963\n"
     ]
    }
   ],
   "source": [
    "train_probs = model.predict_proba(x_train)[:,1] \n",
    "probs = model.predict_proba(x_test)[:, 1]\n",
    "train_predictions = model.predict(x_train)\n",
    "\n",
    "print(f'Train ROC AUC Score: {roc_auc_score(y_train, train_probs)}')\n",
    "print(f'Test ROC AUC  Score: {roc_auc_score(y_test, probs)}')"
   ]
  },
  {
   "cell_type": "code",
   "execution_count": 35,
   "metadata": {},
   "outputs": [
    {
     "data": {
      "image/png": "[encoded data removed]",
      "text/plain": [
       "<Figure size 432x288 with 1 Axes>"
      ]
     },
     "metadata": {},
     "output_type": "display_data"
    }
   ],
   "source": [
    "sns.set()\n",
    "mat1 = confusion_matrix(y_test, model.predict(x_test))\n",
    "#Construct confusion matrix\n",
    "sns.heatmap(mat1,square=True, annot=True,fmt='d', cbar=False)\n",
    "plt.xlabel('true label')\n",
    "plt.ylabel('predicted label');"
   ]
  },
  {
   "cell_type": "code",
   "execution_count": 36,
   "metadata": {},
   "outputs": [
    {
     "data": {
      "text/plain": [
       "0.8940943582975915"
      ]
     },
     "execution_count": 36,
     "metadata": {},
     "output_type": "execute_result"
    }
   ],
   "source": [
    "model.score(x_test, y_test)"
   ]
  },
  {
   "cell_type": "code",
   "execution_count": 37,
   "metadata": {},
   "outputs": [],
   "source": [
    "reoffend_df_race.copy().to_csv('preprocessed-cox-violent-parsed.csv')"
   ]
  },
  {
   "cell_type": "code",
   "execution_count": 38,
   "metadata": {},
   "outputs": [
    {
     "data": {
      "text/plain": [
       "12120"
      ]
     },
     "execution_count": 38,
     "metadata": {},
     "output_type": "execute_result"
    }
   ],
   "source": [
    "len(x_train)"
   ]
  },
  {
   "cell_type": "code",
   "execution_count": 39,
   "metadata": {},
   "outputs": [
    {
     "data": {
      "text/plain": [
       "RandomForestClassifier(bootstrap=True, ccp_alpha=0.0, class_weight=None,\n",
       "                       criterion='gini', max_depth=None, max_features='auto',\n",
       "                       max_leaf_nodes=None, max_samples=None,\n",
       "                       min_impurity_decrease=0.0, min_impurity_split=None,\n",
       "                       min_samples_leaf=1, min_samples_split=2,\n",
       "                       min_weight_fraction_leaf=0.0, n_estimators=60, n_jobs=-1,\n",
       "                       oob_score=False, random_state=42, verbose=0,\n",
       "                       warm_start=False)"
      ]
     },
     "execution_count": 39,
     "metadata": {},
     "output_type": "execute_result"
    },
    {
     "data": {
      "text/plain": [
       "0.6566801619433198"
      ]
     },
     "execution_count": 39,
     "metadata": {},
     "output_type": "execute_result"
    }
   ],
   "source": [
    "\n",
    "propublica_dataset_df = pd.read_csv('archive/propublica_data_for_fairml.csv')\n",
    "# divide the data into attributes and labels\n",
    "X = propublica_dataset_df.drop(['Two_yr_Recidivism',], axis = 1)# 'Age_Below_TwentyFive', 'Age_Above_FourtyFive'\n",
    "Y = propublica_dataset_df['Two_yr_Recidivism']\n",
    "\n",
    "propublica_dataset_x_train, propublica_dataset_x_test, propublica_dataset_y_train, propublica_dataset_y_test = train_test_split(X, Y, test_size = 0.20, random_state = 42)\n",
    "\n",
    "propublica_categorical_features = propublica_dataset_x_train.columns[ propublica_dataset_x_train.dtypes==object].tolist() \n",
    "propublica_col_trans = make_column_transformer(\n",
    "                        (OneHotEncoder(handle_unknown = 'ignore'), propublica_categorical_features),\n",
    "                        remainder = \"passthrough\"\n",
    "                        )\n",
    "model2 = rf_classifier\n",
    "model2.fit(propublica_dataset_x_train, propublica_dataset_y_train)\n",
    "propublica_y_pred = model2.predict(propublica_dataset_x_test)\n",
    "accuracy_score(propublica_dataset_y_test, propublica_y_pred)\n"
   ]
  },
  {
   "cell_type": "code",
   "execution_count": 40,
   "metadata": {},
   "outputs": [
    {
     "data": {
      "text/plain": [
       "Index(['Number_of_Priors', 'score_factor', 'Age_Above_FourtyFive',\n",
       "       'Age_Below_TwentyFive', 'African_American', 'Asian', 'Hispanic',\n",
       "       'Native_American', 'Other', 'Female', 'Misdemeanor'],\n",
       "      dtype='object')"
      ]
     },
     "execution_count": 40,
     "metadata": {},
     "output_type": "execute_result"
    }
   ],
   "source": [
    "X.columns"
   ]
  },
  {
   "cell_type": "markdown",
   "metadata": {},
   "source": [
    "# Achieving Equalized Odds Fairness Using Fairlearn"
   ]
  },
  {
   "cell_type": "code",
   "execution_count": 41,
   "metadata": {},
   "outputs": [
    {
     "data": {
      "text/plain": [
       "(age                        25.000000\n",
       " juv_fel_count               0.000000\n",
       " juv_misd_count             -2.340451\n",
       " juv_other_count             1.000000\n",
       " priors_count              -15.010999\n",
       " age_cat_25 - 45             1.000000\n",
       " age_cat_Greater than 45     0.000000\n",
       " age_cat_Less than 25        0.000000\n",
       " c_charge_degree_F           0.000000\n",
       " c_charge_degree_M           1.000000\n",
       " Name: 0, dtype: float64,\n",
       " 1.0)"
      ]
     },
     "execution_count": 41,
     "metadata": {},
     "output_type": "execute_result"
    }
   ],
   "source": [
    "compas_dataset = datasets[\"compas\"]()\n",
    "X_train, X_test = compas_dataset.get_X(format=pd.DataFrame)\n",
    "y_train, y_test = compas_dataset.get_y(format=pd.Series)\n",
    "(\n",
    "    sensitive_features_train,\n",
    "    sensitive_features_test,\n",
    ") = compas_dataset.get_sensitive_features(\"race\", format=pd.Series)\n",
    "X_train.loc[0], y_train[0]"
   ]
  },
  {
   "cell_type": "code",
   "execution_count": 42,
   "metadata": {},
   "outputs": [
    {
     "data": {
      "text/plain": [
       "(0       African-American\n",
       " 1              Caucasian\n",
       " 2              Caucasian\n",
       " 3       African-American\n",
       " 4              Caucasian\n",
       "               ...       \n",
       " 3531    African-American\n",
       " 3532    African-American\n",
       " 3533    African-American\n",
       " 3534    African-American\n",
       " 3535    African-American\n",
       " Name: race, Length: 3536, dtype: object,\n",
       " 0       African-American\n",
       " 1       African-American\n",
       " 2              Caucasian\n",
       " 3              Caucasian\n",
       " 4              Caucasian\n",
       "               ...       \n",
       " 1737    African-American\n",
       " 1738    African-American\n",
       " 1739    African-American\n",
       " 1740    African-American\n",
       " 1741    African-American\n",
       " Name: race, Length: 1742, dtype: object)"
      ]
     },
     "execution_count": 42,
     "metadata": {},
     "output_type": "execute_result"
    }
   ],
   "source": [
    "compas_dataset.get_sensitive_features(\"race\", format=pd.Series)"
   ]
  },
  {
   "cell_type": "code",
   "execution_count": 43,
   "metadata": {},
   "outputs": [
    {
     "data": {
      "text/plain": [
       "Index(['age', 'juv_fel_count', 'juv_misd_count', 'juv_other_count',\n",
       "       'priors_count', 'age_cat_25 - 45', 'age_cat_Greater than 45',\n",
       "       'age_cat_Less than 25', 'c_charge_degree_F', 'c_charge_degree_M'],\n",
       "      dtype='object')"
      ]
     },
     "execution_count": 43,
     "metadata": {},
     "output_type": "execute_result"
    }
   ],
   "source": [
    "X_train.columns"
   ]
  },
  {
   "cell_type": "code",
   "execution_count": 44,
   "metadata": {},
   "outputs": [],
   "source": [
    "class RF(BaseEstimator, ClassifierMixin):\n",
    "    def __init__(self, model):\n",
    "        self.rf_model = model\n",
    "\n",
    "    def fit(self, X, y):\n",
    "        try:\n",
    "            check_is_fitted(self.rf_model)\n",
    "            self.rf_model_ = self.rf_model\n",
    "        except NotFittedError:\n",
    "            self.rf_model_ = clone(\n",
    "                self.rf_model\n",
    "            ).fit(X, y)\n",
    "        return self\n",
    "\n",
    "    def predict(self, X):\n",
    "        scores = self.rf_model_.predict_proba(X)[:, 1]\n",
    "        return scores"
   ]
  },
  {
   "cell_type": "code",
   "execution_count": 45,
   "metadata": {},
   "outputs": [
    {
     "data": {
      "text/plain": [
       "RandomForestClassifier(bootstrap=True, ccp_alpha=0.0, class_weight=None,\n",
       "                       criterion='gini', max_depth=None, max_features='auto',\n",
       "                       max_leaf_nodes=None, max_samples=None,\n",
       "                       min_impurity_decrease=0.0, min_impurity_split=None,\n",
       "                       min_samples_leaf=1, min_samples_split=2,\n",
       "                       min_weight_fraction_leaf=0.0, n_estimators=60, n_jobs=-1,\n",
       "                       oob_score=False, random_state=42, verbose=0,\n",
       "                       warm_start=False)"
      ]
     },
     "execution_count": 45,
     "metadata": {},
     "output_type": "execute_result"
    },
    {
     "name": "stderr",
     "output_type": "stream",
     "text": [
      "'predict_method' default value is changed from 'predict' to 'auto'. Explicitly pass `predict_method='predict' to replicate the old behavior, or pass `predict_method='auto' or other valid values to silence this warning.\n",
      "From version 0.24, get_params will raise an AttributeError if a parameter cannot be retrieved as an instance attribute. Previously it would return None.\n"
     ]
    },
    {
     "data": {
      "text/plain": [
       "ThresholdOptimizer(constraints='equalized_odds', estimator=RF(model=None),\n",
       "                   flip=False, grid_size=1000, objective='accuracy_score',\n",
       "                   predict_method='deprecated', prefit=True)"
      ]
     },
     "execution_count": 45,
     "metadata": {},
     "output_type": "execute_result"
    }
   ],
   "source": [
    "rf2 = RandomForestClassifier(\n",
    "                      n_estimators = 60,\n",
    "                      n_jobs = -1,\n",
    "                      #max_depth= 100,\n",
    "                      random_state = 42,\n",
    "                      max_features = 'auto')\n",
    "rf2.fit(X_train, y_train)\n",
    "estimator_wrapper = RF(rf2).fit(X_train, y_train)\n",
    "\n",
    "postprocessed_predictor_EO = ThresholdOptimizer(\n",
    "    estimator=estimator_wrapper, constraints=\"equalized_odds\", prefit=True\n",
    ")\n",
    "\n",
    "postprocessed_predictor_EO.fit(\n",
    "    X_train, y_train, sensitive_features=sensitive_features_train\n",
    ")\n",
    "\n",
    "fairness_aware_predictions_EO_train = postprocessed_predictor_EO.predict(\n",
    "    X_train, sensitive_features=sensitive_features_train\n",
    ")\n",
    "fairness_aware_predictions_EO_test = postprocessed_predictor_EO.predict(\n",
    "    X_test, sensitive_features=sensitive_features_test\n",
    ")"
   ]
  },
  {
   "cell_type": "code",
   "execution_count": 46,
   "metadata": {},
   "outputs": [],
   "source": [
    "def show_proportions(\n",
    "    X, sensitive_features, y_pred, y=None, description=None, plot_row_index=1\n",
    "):\n",
    "    print(\"\\n\" + description)\n",
    "    plt.figure(plot_row_index)\n",
    "    plt.title(description)\n",
    "    plt.ylabel(\"P[recidivism predicted | conditions]\")\n",
    "\n",
    "    indices = {}\n",
    "    positive_indices = {}\n",
    "    negative_indices = {}\n",
    "    recidivism_count = {}\n",
    "    recidivism_pct = {}\n",
    "    groups = np.unique(sensitive_features.values)\n",
    "    n_groups = len(groups)\n",
    "    for group in groups:\n",
    "        print(f'group: {group} len: {len(group)}')\n",
    "    max_group_length = max([len(group) for group in groups])\n",
    "    color = cm.rainbow(np.linspace(0, 1, n_groups))\n",
    "    x_tick_labels_basic = []\n",
    "    x_tick_labels_by_label = []\n",
    "    for index, group in enumerate(groups):\n",
    "        indices[group] = sensitive_features.index[sensitive_features == group]\n",
    "        recidivism_count[group] = sum(y_pred[indices[group]])\n",
    "        recidivism_pct[group] = recidivism_count[group] / len(indices[group])\n",
    "        print(\n",
    "            \"P[recidivism predicted | {}]                {}= {}\".format(\n",
    "                group, \" \" * (max_group_length - len(group)), recidivism_pct[group]\n",
    "            )\n",
    "        )\n",
    "\n",
    "        plt.bar(index + 1, recidivism_pct[group], color=color[index])\n",
    "        x_tick_labels_basic.append(group)\n",
    "\n",
    "        if y is not None:\n",
    "            positive_indices[group] = sensitive_features.index[\n",
    "                (sensitive_features == group) & (y == 1)\n",
    "            ]\n",
    "            negative_indices[group] = sensitive_features.index[\n",
    "                (sensitive_features == group) & (y == 0)\n",
    "            ]\n",
    "            prob_1 = sum(y_pred[positive_indices[group]]) / len(positive_indices[group])\n",
    "            prob_0 = sum(y_pred[negative_indices[group]]) / len(negative_indices[group])\n",
    "            print(\n",
    "                \"P[recidivism predicted | {}, recidivism]    {}= {}\".format(\n",
    "                    group, \" \" * (max_group_length - len(group)), prob_1\n",
    "                )\n",
    "            )\n",
    "            print(\n",
    "                \"P[recidivism predicted | {}, no recidivism] {}= {}\".format(\n",
    "                    group, \" \" * (max_group_length - len(group)), prob_0\n",
    "                )\n",
    "            )\n",
    "\n",
    "            plt.bar(n_groups + 1 + 2 * index, prob_1, color=color[index])\n",
    "            plt.bar(n_groups + 2 + 2 * index, prob_0, color=color[index])\n",
    "            x_tick_labels_by_label.extend(\n",
    "                [\"{} recidivism\".format(group), \"{} no recidivism\".format(group)]\n",
    "            )\n",
    "\n",
    "    x_tick_labels = x_tick_labels_basic + x_tick_labels_by_label\n",
    "    plt.xticks(\n",
    "        range(1, len(x_tick_labels) + 1),\n",
    "        x_tick_labels,\n",
    "        rotation=45,\n",
    "        horizontalalignment=\"right\",\n",
    "    )"
   ]
  },
  {
   "cell_type": "code",
   "execution_count": 47,
   "metadata": {},
   "outputs": [
    {
     "name": "stdout",
     "output_type": "stream",
     "text": [
      "\n",
      "Fairness Unaware Random Forest\n",
      "group: African-American len: 16\n",
      "group: Caucasian len: 9\n",
      "P[recidivism predicted | African-American]                = 0.5175097276264592\n",
      "P[recidivism predicted | African-American, recidivism]    = 0.6595365418894831\n",
      "P[recidivism predicted | African-American, no recidivism] = 0.3468950749464668\n",
      "P[recidivism predicted | Caucasian]                       = 0.33053221288515405\n",
      "P[recidivism predicted | Caucasian, recidivism]           = 0.5239852398523985\n",
      "P[recidivism predicted | Caucasian, no recidivism]        = 0.21218961625282168\n",
      "\n",
      "Equalized Odds Postprocessing Using Fairlearn\n",
      "group: African-American len: 16\n",
      "group: Caucasian len: 9\n",
      "P[recidivism predicted | African-American]                = 0.5126459143968871\n",
      "P[recidivism predicted | African-American, recidivism]    = 0.6541889483065954\n",
      "P[recidivism predicted | African-American, no recidivism] = 0.3426124197002141\n",
      "P[recidivism predicted | Caucasian]                       = 0.3851540616246499\n",
      "P[recidivism predicted | Caucasian, recidivism]           = 0.5940959409594095\n",
      "P[recidivism predicted | Caucasian, no recidivism]        = 0.25733634311512416\n"
     ]
    },
    {
     "data": {
      "image/png": "[encoded data removed]",
      "text/plain": [
       "<Figure size 432x288 with 1 Axes>"
      ]
     },
     "metadata": {},
     "output_type": "display_data"
    },
    {
     "data": {
      "image/png": "[encoded data removed]",
      "text/plain": [
       "<Figure size 432x288 with 1 Axes>"
      ]
     },
     "metadata": {},
     "output_type": "display_data"
    }
   ],
   "source": [
    "show_proportions(\n",
    "    X_test,\n",
    "    sensitive_features_test,\n",
    "    rf2.predict(X_test),\n",
    "    y_test,\n",
    "    description=\"Fairness Unaware Random Forest\",\n",
    "    plot_row_index=1,\n",
    ")\n",
    "show_proportions(\n",
    "    X_test,\n",
    "    sensitive_features_test,\n",
    "    fairness_aware_predictions_EO_test,\n",
    "    y_test,\n",
    "    description=\"Equalized Odds Postprocessing Using Fairlearn\",\n",
    "    plot_row_index=2,\n",
    ")\n",
    "plt.show()"
   ]
  },
  {
   "cell_type": "code",
   "execution_count": 48,
   "metadata": {},
   "outputs": [
    {
     "data": {
      "text/plain": [
       "0.669345579793341"
      ]
     },
     "execution_count": 48,
     "metadata": {},
     "output_type": "execute_result"
    }
   ],
   "source": [
    "unaware_y_pred = rf2.predict(X_test)\n",
    "accuracy_score(y_test, unaware_y_pred)"
   ]
  },
  {
   "cell_type": "code",
   "execution_count": 49,
   "metadata": {},
   "outputs": [
    {
     "data": {
      "text/plain": [
       "0.6681974741676234"
      ]
     },
     "execution_count": 49,
     "metadata": {},
     "output_type": "execute_result"
    }
   ],
   "source": [
    "accuracy_score(y_test, fairness_aware_predictions_EO_test)"
   ]
  },
  {
   "cell_type": "code",
   "execution_count": 50,
   "metadata": {},
   "outputs": [],
   "source": [
    "class LR(BaseEstimator, ClassifierMixin):\n",
    "    def __init__(self, model):\n",
    "        self.rf_model = model\n",
    "\n",
    "    def fit(self, X, y):\n",
    "        try:\n",
    "            check_is_fitted(self.rf_model)\n",
    "            self.rf_model_ = self.rf_model\n",
    "        except NotFittedError:\n",
    "            self.rf_model_ = clone(\n",
    "                self.rf_model\n",
    "            ).fit(X, y)\n",
    "        return self\n",
    "\n",
    "    def predict(self, X):\n",
    "        scores = self.rf_model_.predict_proba(X)[:, 1]\n",
    "        return scores"
   ]
  },
  {
   "cell_type": "code",
   "execution_count": 51,
   "metadata": {},
   "outputs": [
    {
     "data": {
      "text/plain": [
       "LogisticRegression(C=1.0, class_weight=None, dual=False, fit_intercept=True,\n",
       "                   intercept_scaling=1, l1_ratio=None, max_iter=100,\n",
       "                   multi_class='auto', n_jobs=None, penalty='l2',\n",
       "                   random_state=None, solver='liblinear', tol=0.0001, verbose=0,\n",
       "                   warm_start=False)"
      ]
     },
     "execution_count": 51,
     "metadata": {},
     "output_type": "execute_result"
    },
    {
     "name": "stderr",
     "output_type": "stream",
     "text": [
      "'predict_method' default value is changed from 'predict' to 'auto'. Explicitly pass `predict_method='predict' to replicate the old behavior, or pass `predict_method='auto' or other valid values to silence this warning.\n",
      "From version 0.24, get_params will raise an AttributeError if a parameter cannot be retrieved as an instance attribute. Previously it would return None.\n"
     ]
    },
    {
     "data": {
      "text/plain": [
       "ThresholdOptimizer(constraints='equalized_odds', estimator=LR(model=None),\n",
       "                   flip=False, grid_size=1000, objective='accuracy_score',\n",
       "                   predict_method='deprecated', prefit=True)"
      ]
     },
     "execution_count": 51,
     "metadata": {},
     "output_type": "execute_result"
    },
    {
     "data": {
      "text/plain": [
       "0.6590126291618829"
      ]
     },
     "execution_count": 51,
     "metadata": {},
     "output_type": "execute_result"
    },
    {
     "data": {
      "text/plain": [
       "0.618828932261768"
      ]
     },
     "execution_count": 51,
     "metadata": {},
     "output_type": "execute_result"
    }
   ],
   "source": [
    "from sklearn.linear_model import LogisticRegression\n",
    "\n",
    "compas_dataset = datasets[\"compas\"]()\n",
    "X_train, X_test = compas_dataset.get_X(format=pd.DataFrame)\n",
    "y_train, y_test = compas_dataset.get_y(format=pd.Series)\n",
    "(\n",
    "    sensitive_features_train,\n",
    "    sensitive_features_test,\n",
    ") = compas_dataset.get_sensitive_features(\"race\", format=pd.Series)\n",
    "fairness_unaware_lr = LogisticRegression(solver='liblinear', fit_intercept=True)\n",
    "fairness_unaware_lr.fit(X_train, y_train)\n",
    "\n",
    "y_preds_lr = fairness_unaware_lr.predict(X_test)\n",
    "#accuracy_score(y_test, y_preds_lr)\n",
    "\n",
    "\n",
    "estimator_wrapper_lr = LR(fairness_unaware_lr).fit(X_train, y_train)\n",
    "\n",
    "postprocessed_predictor_EO_lr = ThresholdOptimizer(\n",
    "    estimator=estimator_wrapper_lr, constraints=\"equalized_odds\", prefit=True\n",
    "    #estimator=estimator_wrapper_rf, constraints=\"false_positive_rate_parity\", prefit=True\n",
    ")\n",
    "\n",
    "postprocessed_predictor_EO_lr.fit(\n",
    "    X_train, y_train, sensitive_features=sensitive_features_train\n",
    ")\n",
    "\n",
    "fairness_aware_predictions_EO_train_lr = postprocessed_predictor_EO_lr.predict(\n",
    "    X_train, sensitive_features=sensitive_features_train\n",
    ")\n",
    "fairness_aware_predictions_EO_test_lr = postprocessed_predictor_EO_lr.predict(\n",
    "    X_test, sensitive_features=sensitive_features_test\n",
    ")\n",
    "unaware_y_pred_lr = fairness_unaware_lr.predict(X_test)\n",
    "accuracy_score(y_test, unaware_y_pred_lr)\n",
    "accuracy_score(y_test, fairness_aware_predictions_EO_test_lr)"
   ]
  },
  {
   "cell_type": "markdown",
   "metadata": {},
   "source": [
    "# Checking Fairness Constraints Broken After Equalized Odds Is Achieved"
   ]
  },
  {
   "cell_type": "code",
   "execution_count": 52,
   "metadata": {
    "scrolled": true
   },
   "outputs": [
    {
     "data": {
      "text/html": [
       "<div>\n",
       "<style scoped>\n",
       "    .dataframe tbody tr th:only-of-type {\n",
       "        vertical-align: middle;\n",
       "    }\n",
       "\n",
       "    .dataframe tbody tr th {\n",
       "        vertical-align: top;\n",
       "    }\n",
       "\n",
       "    .dataframe thead th {\n",
       "        text-align: right;\n",
       "    }\n",
       "</style>\n",
       "<table border=\"1\" class=\"dataframe\">\n",
       "  <thead>\n",
       "    <tr style=\"text-align: right;\">\n",
       "      <th></th>\n",
       "      <th>age</th>\n",
       "      <th>juv_fel_count</th>\n",
       "      <th>juv_misd_count</th>\n",
       "      <th>juv_other_count</th>\n",
       "      <th>priors_count</th>\n",
       "      <th>age_cat_25 - 45</th>\n",
       "      <th>age_cat_Greater than 45</th>\n",
       "      <th>age_cat_Less than 25</th>\n",
       "      <th>c_charge_degree_F</th>\n",
       "      <th>c_charge_degree_M</th>\n",
       "      <th>race</th>\n",
       "      <th>equalized_odds_preds</th>\n",
       "      <th>reoffended_gt</th>\n",
       "      <th>equalized_odds_preds_lr</th>\n",
       "      <th>reoffended_preds</th>\n",
       "      <th>reoffended_preds_lr</th>\n",
       "    </tr>\n",
       "  </thead>\n",
       "  <tbody>\n",
       "    <tr>\n",
       "      <th>0</th>\n",
       "      <td>25.000000</td>\n",
       "      <td>0.0</td>\n",
       "      <td>-2.340451</td>\n",
       "      <td>1.0</td>\n",
       "      <td>-15.010999</td>\n",
       "      <td>1.0</td>\n",
       "      <td>0.0</td>\n",
       "      <td>0.0</td>\n",
       "      <td>0.0</td>\n",
       "      <td>1.0</td>\n",
       "      <td>African-American</td>\n",
       "      <td>1.0</td>\n",
       "      <td>1.0</td>\n",
       "      <td>NaN</td>\n",
       "      <td>NaN</td>\n",
       "      <td>NaN</td>\n",
       "    </tr>\n",
       "    <tr>\n",
       "      <th>1</th>\n",
       "      <td>26.000000</td>\n",
       "      <td>0.0</td>\n",
       "      <td>0.000000</td>\n",
       "      <td>0.0</td>\n",
       "      <td>0.000000</td>\n",
       "      <td>1.0</td>\n",
       "      <td>0.0</td>\n",
       "      <td>0.0</td>\n",
       "      <td>1.0</td>\n",
       "      <td>0.0</td>\n",
       "      <td>Caucasian</td>\n",
       "      <td>0.0</td>\n",
       "      <td>0.0</td>\n",
       "      <td>NaN</td>\n",
       "      <td>NaN</td>\n",
       "      <td>NaN</td>\n",
       "    </tr>\n",
       "    <tr>\n",
       "      <th>2</th>\n",
       "      <td>21.000000</td>\n",
       "      <td>0.0</td>\n",
       "      <td>0.000000</td>\n",
       "      <td>0.0</td>\n",
       "      <td>0.000000</td>\n",
       "      <td>0.0</td>\n",
       "      <td>0.0</td>\n",
       "      <td>1.0</td>\n",
       "      <td>1.0</td>\n",
       "      <td>0.0</td>\n",
       "      <td>Caucasian</td>\n",
       "      <td>1.0</td>\n",
       "      <td>1.0</td>\n",
       "      <td>NaN</td>\n",
       "      <td>NaN</td>\n",
       "      <td>NaN</td>\n",
       "    </tr>\n",
       "    <tr>\n",
       "      <th>3</th>\n",
       "      <td>29.129788</td>\n",
       "      <td>0.0</td>\n",
       "      <td>0.000000</td>\n",
       "      <td>0.0</td>\n",
       "      <td>6.000000</td>\n",
       "      <td>1.0</td>\n",
       "      <td>0.0</td>\n",
       "      <td>0.0</td>\n",
       "      <td>0.0</td>\n",
       "      <td>1.0</td>\n",
       "      <td>African-American</td>\n",
       "      <td>1.0</td>\n",
       "      <td>1.0</td>\n",
       "      <td>NaN</td>\n",
       "      <td>NaN</td>\n",
       "      <td>NaN</td>\n",
       "    </tr>\n",
       "    <tr>\n",
       "      <th>4</th>\n",
       "      <td>42.487893</td>\n",
       "      <td>0.0</td>\n",
       "      <td>0.000000</td>\n",
       "      <td>0.0</td>\n",
       "      <td>7.513697</td>\n",
       "      <td>1.0</td>\n",
       "      <td>0.0</td>\n",
       "      <td>0.0</td>\n",
       "      <td>1.0</td>\n",
       "      <td>0.0</td>\n",
       "      <td>Caucasian</td>\n",
       "      <td>0.0</td>\n",
       "      <td>0.0</td>\n",
       "      <td>NaN</td>\n",
       "      <td>NaN</td>\n",
       "      <td>NaN</td>\n",
       "    </tr>\n",
       "  </tbody>\n",
       "</table>\n",
       "</div>"
      ],
      "text/plain": [
       "         age  juv_fel_count  juv_misd_count  juv_other_count  priors_count  \\\n",
       "0  25.000000            0.0       -2.340451              1.0    -15.010999   \n",
       "1  26.000000            0.0        0.000000              0.0      0.000000   \n",
       "2  21.000000            0.0        0.000000              0.0      0.000000   \n",
       "3  29.129788            0.0        0.000000              0.0      6.000000   \n",
       "4  42.487893            0.0        0.000000              0.0      7.513697   \n",
       "\n",
       "   age_cat_25 - 45  age_cat_Greater than 45  age_cat_Less than 25  \\\n",
       "0              1.0                      0.0                   0.0   \n",
       "1              1.0                      0.0                   0.0   \n",
       "2              0.0                      0.0                   1.0   \n",
       "3              1.0                      0.0                   0.0   \n",
       "4              1.0                      0.0                   0.0   \n",
       "\n",
       "   c_charge_degree_F  c_charge_degree_M              race  \\\n",
       "0                0.0                1.0  African-American   \n",
       "1                1.0                0.0         Caucasian   \n",
       "2                1.0                0.0         Caucasian   \n",
       "3                0.0                1.0  African-American   \n",
       "4                1.0                0.0         Caucasian   \n",
       "\n",
       "   equalized_odds_preds  reoffended_gt  equalized_odds_preds_lr  \\\n",
       "0                   1.0            1.0                      NaN   \n",
       "1                   0.0            0.0                      NaN   \n",
       "2                   1.0            1.0                      NaN   \n",
       "3                   1.0            1.0                      NaN   \n",
       "4                   0.0            0.0                      NaN   \n",
       "\n",
       "   reoffended_preds  reoffended_preds_lr  \n",
       "0               NaN                  NaN  \n",
       "1               NaN                  NaN  \n",
       "2               NaN                  NaN  \n",
       "3               NaN                  NaN  \n",
       "4               NaN                  NaN  "
      ]
     },
     "execution_count": 52,
     "metadata": {},
     "output_type": "execute_result"
    }
   ],
   "source": [
    "X_train['race'] = sensitive_features_train \n",
    "X_test['race'] = sensitive_features_test\n",
    "\n",
    "X_train['equalized_odds_preds'] = fairness_aware_predictions_EO_train\n",
    "X_test['equalized_odds_preds'] = fairness_aware_predictions_EO_test\n",
    "X_test['equalized_odds_preds_lr'] = fairness_aware_predictions_EO_test_lr\n",
    "\n",
    "#X_train['reoffended_preds'] = rf2.predict(X_train)\n",
    "X_test['reoffended_preds'] = unaware_y_pred\n",
    "X_test['reoffended_preds_lr'] = unaware_y_pred_lr\n",
    "\n",
    "X_train['reoffended_gt'] = y_train\n",
    "X_test['reoffended_gt'] = y_test\n",
    "\n",
    "equalized_odds_data = pd.concat([X_train, X_test], ignore_index=True)\n",
    "equalized_odds_data['equalized_odds_preds'] = equalized_odds_data['equalized_odds_preds'].astype('float64')\n",
    "equalized_odds_data.head()"
   ]
  },
  {
   "cell_type": "code",
   "execution_count": 53,
   "metadata": {},
   "outputs": [
    {
     "data": {
      "text/html": [
       "<div>\n",
       "<style scoped>\n",
       "    .dataframe tbody tr th:only-of-type {\n",
       "        vertical-align: middle;\n",
       "    }\n",
       "\n",
       "    .dataframe tbody tr th {\n",
       "        vertical-align: top;\n",
       "    }\n",
       "\n",
       "    .dataframe thead th {\n",
       "        text-align: right;\n",
       "    }\n",
       "</style>\n",
       "<table border=\"1\" class=\"dataframe\">\n",
       "  <thead>\n",
       "    <tr style=\"text-align: right;\">\n",
       "      <th>Prediction</th>\n",
       "      <th>0.0</th>\n",
       "      <th>1.0</th>\n",
       "    </tr>\n",
       "    <tr>\n",
       "      <th>Ground Truth</th>\n",
       "      <th></th>\n",
       "      <th></th>\n",
       "    </tr>\n",
       "  </thead>\n",
       "  <tbody>\n",
       "    <tr>\n",
       "      <th>0.0</th>\n",
       "      <td>0.813635</td>\n",
       "      <td>0.178042</td>\n",
       "    </tr>\n",
       "    <tr>\n",
       "      <th>1.0</th>\n",
       "      <td>0.186365</td>\n",
       "      <td>0.821958</td>\n",
       "    </tr>\n",
       "  </tbody>\n",
       "</table>\n",
       "</div>"
      ],
      "text/plain": [
       "Prediction         0.0       1.0\n",
       "Ground Truth                    \n",
       "0.0           0.813635  0.178042\n",
       "1.0           0.186365  0.821958"
      ]
     },
     "execution_count": 53,
     "metadata": {},
     "output_type": "execute_result"
    }
   ],
   "source": [
    "conf_matr = pd.crosstab(equalized_odds_data['reoffended_gt'], equalized_odds_data['equalized_odds_preds'], rownames=['Ground Truth'], normalize=\"columns\", colnames=['Prediction'])\n",
    "conf_matr"
   ]
  },
  {
   "cell_type": "code",
   "execution_count": 54,
   "metadata": {},
   "outputs": [
    {
     "data": {
      "text/plain": [
       "'\\nFinding accuracy of two_year_recid gt against high recidivism score grouped by race. (Before fainress)\\n\\nFairness Type: Overall Accuracy Equality\\n'"
      ]
     },
     "execution_count": 54,
     "metadata": {},
     "output_type": "execute_result"
    },
    {
     "data": {
      "text/plain": [
       "race\n",
       "African-American    0.656615\n",
       "Caucasian           0.687675\n",
       "dtype: float64"
      ]
     },
     "execution_count": 54,
     "metadata": {},
     "output_type": "execute_result"
    },
    {
     "data": {
      "text/plain": [
       "'\\nFinding accuracy of two_year_recid gt against high recidivism score grouped by race.\\n\\nFairness Type: Overall Accuracy Equality\\n'"
      ]
     },
     "execution_count": 54,
     "metadata": {},
     "output_type": "execute_result"
    },
    {
     "data": {
      "text/plain": [
       "race\n",
       "African-American    0.655642\n",
       "Caucasian           0.686275\n",
       "dtype: float64"
      ]
     },
     "execution_count": 54,
     "metadata": {},
     "output_type": "execute_result"
    }
   ],
   "source": [
    "'''\n",
    "Finding accuracy of two_year_recid gt against high recidivism score grouped by race. (Before fainress)\n",
    "\n",
    "Fairness Type: Overall Accuracy Equality\n",
    "'''\n",
    "race_df = X_test[X_test['race'].isin(['Caucasian','African-American'])]\n",
    "(race_df['reoffended_gt'] == race_df['reoffended_preds']).astype(int).groupby(race_df['race']).mean()\n",
    "\n",
    "\n",
    "'''\n",
    "Finding accuracy of two_year_recid gt against high recidivism score grouped by race.\n",
    "\n",
    "Fairness Type: Overall Accuracy Equality\n",
    "'''\n",
    "# race_df = equalized_odds_data[equalized_odds_data['race'].isin(['Caucasian','African-American'])]\n",
    "# (race_df['reoffended_gt'] == race_df['equalized_odds_preds']).astype(int).groupby(race_df['race']).mean()\n",
    "\n",
    "(race_df['reoffended_gt'] == race_df['equalized_odds_preds']).astype(int).groupby(race_df['race']).mean()\n",
    "\n"
   ]
  },
  {
   "cell_type": "code",
   "execution_count": 55,
   "metadata": {},
   "outputs": [
    {
     "data": {
      "text/plain": [
       "'\\nchecking probability for recidivism for person classifier as medium/high risk. Before Fairness\\n\\nFairness Type: Predictive Parity (Constraint Not Satisfied)\\n'"
      ]
     },
     "execution_count": 55,
     "metadata": {},
     "output_type": "execute_result"
    },
    {
     "data": {
      "text/plain": [
       "race\n",
       "African-American    0.695489\n",
       "Caucasian           0.601695\n",
       "Name: reoffended_gt, dtype: float64"
      ]
     },
     "execution_count": 55,
     "metadata": {},
     "output_type": "execute_result"
    },
    {
     "data": {
      "text/plain": [
       "'\\nchecking probability for recidivism for person classifier as medium/high risk\\n\\nFairness Type: Predictive Parity (Constraint Not Satisfied)\\n'"
      ]
     },
     "execution_count": 55,
     "metadata": {},
     "output_type": "execute_result"
    },
    {
     "data": {
      "text/plain": [
       "race\n",
       "African-American    0.696395\n",
       "Caucasian           0.585455\n",
       "Name: reoffended_gt, dtype: float64"
      ]
     },
     "execution_count": 55,
     "metadata": {},
     "output_type": "execute_result"
    }
   ],
   "source": [
    "'''\n",
    "checking probability for recidivism for person classifier as medium/high risk. Before Fairness\n",
    "\n",
    "Fairness Type: Predictive Parity (Constraint Not Satisfied)\n",
    "'''\n",
    "race_df[race_df['reoffended_preds']==1]['reoffended_gt'].groupby(race_df['race']).mean()\n",
    "'''\n",
    "checking probability for recidivism for person classifier as medium/high risk\n",
    "\n",
    "Fairness Type: Predictive Parity (Constraint Not Satisfied)\n",
    "'''\n",
    "race_df[race_df['equalized_odds_preds']==1]['reoffended_gt'].groupby(race_df['race']).mean()"
   ]
  },
  {
   "cell_type": "code",
   "execution_count": 56,
   "metadata": {},
   "outputs": [
    {
     "data": {
      "text/plain": [
       "array(['African-American', 'Caucasian'], dtype=object)"
      ]
     },
     "execution_count": 56,
     "metadata": {},
     "output_type": "execute_result"
    }
   ],
   "source": [
    "groups = np.unique(sensitive_features_test.values)\n",
    "groups"
   ]
  },
  {
   "cell_type": "code",
   "execution_count": 57,
   "metadata": {},
   "outputs": [
    {
     "data": {
      "text/plain": [
       "Index(['age', 'juv_fel_count', 'juv_misd_count', 'juv_other_count',\n",
       "       'priors_count', 'age_cat_25 - 45', 'age_cat_Greater than 45',\n",
       "       'age_cat_Less than 25', 'c_charge_degree_F', 'c_charge_degree_M',\n",
       "       'race', 'equalized_odds_preds', 'equalized_odds_preds_lr',\n",
       "       'reoffended_preds', 'reoffended_preds_lr', 'reoffended_gt'],\n",
       "      dtype='object')"
      ]
     },
     "execution_count": 57,
     "metadata": {},
     "output_type": "execute_result"
    }
   ],
   "source": [
    "race_df.columns"
   ]
  },
  {
   "cell_type": "code",
   "execution_count": 58,
   "metadata": {},
   "outputs": [
    {
     "data": {
      "text/plain": [
       "0.669345579793341"
      ]
     },
     "execution_count": 58,
     "metadata": {},
     "output_type": "execute_result"
    }
   ],
   "source": [
    "accuracy_score(race_df['reoffended_gt'], race_df['reoffended_preds'])"
   ]
  },
  {
   "cell_type": "code",
   "execution_count": 59,
   "metadata": {},
   "outputs": [
    {
     "data": {
      "text/plain": [
       "0.6681974741676234"
      ]
     },
     "execution_count": 59,
     "metadata": {},
     "output_type": "execute_result"
    }
   ],
   "source": [
    "accuracy_score(race_df['reoffended_gt'], race_df['equalized_odds_preds'])"
   ]
  },
  {
   "cell_type": "code",
   "execution_count": 60,
   "metadata": {},
   "outputs": [
    {
     "data": {
      "text/plain": [
       "'\\nLogistic Regression: Finding accuracy of two_year_recid gt against high recidivism score grouped by race. (Before fainress)\\n\\nFairness Type: Overall Accuracy Equality\\n'"
      ]
     },
     "execution_count": 60,
     "metadata": {},
     "output_type": "execute_result"
    },
    {
     "data": {
      "text/plain": [
       "race\n",
       "African-American    0.660506\n",
       "Caucasian           0.656863\n",
       "dtype: float64"
      ]
     },
     "execution_count": 60,
     "metadata": {},
     "output_type": "execute_result"
    },
    {
     "data": {
      "text/plain": [
       "'\\nFinding accuracy of two_year_recid gt against high recidivism score grouped by race.\\n\\nFairness Type: Overall Accuracy Equality\\n'"
      ]
     },
     "execution_count": 60,
     "metadata": {},
     "output_type": "execute_result"
    },
    {
     "data": {
      "text/plain": [
       "race\n",
       "African-American    0.613813\n",
       "Caucasian           0.626050\n",
       "dtype: float64"
      ]
     },
     "execution_count": 60,
     "metadata": {},
     "output_type": "execute_result"
    }
   ],
   "source": [
    "'''\n",
    "Logistic Regression: Finding accuracy of two_year_recid gt against high recidivism score grouped by race. (Before fainress)\n",
    "\n",
    "Fairness Type: Overall Accuracy Equality\n",
    "'''\n",
    "(race_df['reoffended_gt'] == race_df['reoffended_preds_lr']).astype(int).groupby(race_df['race']).mean()\n",
    "'''\n",
    "Finding accuracy of two_year_recid gt against high recidivism score grouped by race.\n",
    "\n",
    "Fairness Type: Overall Accuracy Equality\n",
    "'''\n",
    "# race_df = equalized_odds_data[equalized_odds_data['race'].isin(['Caucasian','African-American'])]\n",
    "# (race_df['reoffended_gt'] == race_df['equalized_odds_preds']).astype(int).groupby(race_df['race']).mean()\n",
    "\n",
    "(race_df['reoffended_gt'] == race_df['equalized_odds_preds_lr']).astype(int).groupby(race_df['race']).mean()\n"
   ]
  },
  {
   "cell_type": "code",
   "execution_count": 61,
   "metadata": {},
   "outputs": [
    {
     "data": {
      "text/plain": [
       "'\\nLogisitc Regression: checking probability for recidivism for person classifier as medium/high risk. Before Fairness\\n\\nFairness Type: Predictive Parity (Constraint Not Satisfied)\\n'"
      ]
     },
     "execution_count": 61,
     "metadata": {},
     "output_type": "execute_result"
    },
    {
     "data": {
      "text/plain": [
       "race\n",
       "African-American    0.700000\n",
       "Caucasian           0.563725\n",
       "Name: reoffended_gt, dtype: float64"
      ]
     },
     "execution_count": 61,
     "metadata": {},
     "output_type": "execute_result"
    },
    {
     "data": {
      "text/plain": [
       "'\\nchecking probability for recidivism for person classifier as medium/high risk\\n\\nFairness Type: Predictive Parity (Constraint Not Satisfied)\\n'"
      ]
     },
     "execution_count": 61,
     "metadata": {},
     "output_type": "execute_result"
    },
    {
     "data": {
      "text/plain": [
       "race\n",
       "African-American    0.672996\n",
       "Caucasian           0.505988\n",
       "Name: reoffended_gt, dtype: float64"
      ]
     },
     "execution_count": 61,
     "metadata": {},
     "output_type": "execute_result"
    }
   ],
   "source": [
    "'''\n",
    "Logisitc Regression: checking probability for recidivism for person classifier as medium/high risk. Before Fairness\n",
    "\n",
    "Fairness Type: Predictive Parity (Constraint Not Satisfied)\n",
    "'''\n",
    "race_df[race_df['reoffended_preds_lr']==1]['reoffended_gt'].groupby(race_df['race']).mean()\n",
    "'''\n",
    "checking probability for recidivism for person classifier as medium/high risk\n",
    "\n",
    "Fairness Type: Predictive Parity (Constraint Not Satisfied)\n",
    "'''\n",
    "race_df[race_df['equalized_odds_preds_lr']==1]['reoffended_gt'].groupby(race_df['race']).mean()"
   ]
  },
  {
   "cell_type": "code",
   "execution_count": 62,
   "metadata": {},
   "outputs": [
    {
     "name": "stdout",
     "output_type": "stream",
     "text": [
      "LR CM for Caucasian: [[354, 89], [156, 115]]\tAfrican-American: [[308, 159], [190, 371]]\n",
      "RF CM for M: [[349, 94], [129, 142]]\tF: [[305, 162], [191, 370]]\n",
      "LR\n",
      "FPR for African American Group: 0.3404710920770878 | FPR for Caucasian group: 0.20090293453724606\n",
      "FNR for African American Group: 0.33868092691622104 | FNR for Caucasian group: 0.5756457564575646\n",
      "\n",
      "\n",
      "RF\n",
      "FPR for African American Group: 0.3468950749464668 | FPR for Caucasian group: 0.21218961625282168\n",
      "FNR for African American Group: 0.3404634581105169 | FNR for Caucasian group: 0.47601476014760147\n",
      "\n",
      "\n"
     ]
    }
   ],
   "source": [
    "def calc_confusion_metrics(df, tag='rf', fair=False):\n",
    "    cauc_df = df[df['race'] == 'Caucasian']\n",
    "    afroam_df = df[df['race'] == 'African-American']\n",
    "\n",
    "    if tag == 'rf':\n",
    "        if not fair:\n",
    "            pred_col = 'reoffended_preds' \n",
    "        else:\n",
    "             pred_col = 'equalized_odds_preds'\n",
    "    elif tag == 'lr':\n",
    "        if not fair:\n",
    "            pred_col = 'reoffended_preds_lr'\n",
    "        else:\n",
    "            pred_col = 'equalized_odds_preds_lr'\n",
    "        \n",
    "    cauc_confusion_values = confusion_matrix(cauc_df['reoffended_gt'], cauc_df[pred_col])\n",
    "    [[male_tn , male_fp],[male_fn , male_tp]] = cauc_confusion_values\n",
    "\n",
    "    female_confusion_values = confusion_matrix(afroam_df['reoffended_gt'], afroam_df[pred_col])\n",
    "    [[female_tn , female_fp],[female_fn , female_tp]] = female_confusion_values\n",
    "    return [[male_tn , male_fp],[male_fn , male_tp]],[[female_tn , female_fp],[female_fn , female_tp]]\n",
    "\n",
    "lr_white_metrics, lr_black_metrics = calc_confusion_metrics(race_df, tag='lr')\n",
    "rf_white_metrics, rf_black_metrics = calc_confusion_metrics(race_df)\n",
    "\n",
    "print(f'LR CM for Caucasian: {lr_white_metrics}\\tAfrican-American: {lr_black_metrics}')\n",
    "print(f'RF CM for M: {rf_white_metrics}\\tF: {rf_black_metrics}')\n",
    "\n",
    "def fpr_fnr(male_metrics,female_metrics, tag= 'LR'):\n",
    "    [[male_tn , male_fp],[male_fn , male_tp]] = male_metrics\n",
    "    [[female_tn , female_fp],[female_fn , female_tp]] = female_metrics\n",
    "    \n",
    "    female_fpr = female_fp/ (female_fp + female_tn)\n",
    "    male_fpr = male_fp/ (male_fp + male_tn)\n",
    "\n",
    "    female_fnr = female_fn/ (female_fn + female_tp)\n",
    "    male_fnr = male_fn/ (male_fn + male_tp)\n",
    "    print(tag)\n",
    "    print(f'FPR for African American Group: {female_fpr} | FPR for Caucasian group: {male_fpr}')\n",
    "    print(f'FNR for African American Group: {female_fnr} | FNR for Caucasian group: {male_fnr}\\n\\n')\n",
    "    \n",
    "fpr_fnr(lr_white_metrics, lr_black_metrics, tag= 'LR')\n",
    "fpr_fnr(rf_white_metrics, rf_black_metrics, tag= 'RF')"
   ]
  },
  {
   "cell_type": "code",
   "execution_count": 64,
   "metadata": {},
   "outputs": [
    {
     "name": "stdout",
     "output_type": "stream",
     "text": [
      "LR\n",
      "FPR for African American Group: 0.33190578158458245 | FPR for Caucasian group: 0.3724604966139955\n",
      "FNR for African American Group: 0.43137254901960786 | FNR for Caucasian group: 0.3763837638376384\n",
      "\n",
      "\n",
      "RF\n",
      "FPR for African American Group: 0.3426124197002141 | FPR for Caucasian group: 0.25733634311512416\n",
      "FNR for African American Group: 0.34581105169340465 | FNR for Caucasian group: 0.4059040590405904\n",
      "\n",
      "\n"
     ]
    }
   ],
   "source": [
    "lr_white_metrics, lr_black_metrics = calc_confusion_metrics(race_df, tag='lr', fair= True)\n",
    "rf_white_metrics, rf_black_metrics = calc_confusion_metrics(race_df, fair= True)\n",
    "fpr_fnr(lr_white_metrics, lr_black_metrics, tag= 'LR')\n",
    "fpr_fnr(rf_white_metrics, rf_black_metrics, tag= 'RF')"
   ]
  },
  {
   "cell_type": "code",
   "execution_count": null,
   "metadata": {},
   "outputs": [],
   "source": []
  }
 ],
 "metadata": {
  "kernelspec": {
   "display_name": "Python 3",
   "language": "python",
   "name": "python3"
  },
  "language_info": {
   "codemirror_mode": {
    "name": "ipython",
    "version": 3
   },
   "file_extension": ".py",
   "mimetype": "text/x-python",
   "name": "python",
   "nbconvert_exporter": "python",
   "pygments_lexer": "ipython3",
   "version": "3.7.6"
  }
 },
 "nbformat": 4,
 "nbformat_minor": 4
}
