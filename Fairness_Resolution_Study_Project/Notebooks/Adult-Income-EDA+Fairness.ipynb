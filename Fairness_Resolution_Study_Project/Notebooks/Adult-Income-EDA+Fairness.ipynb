{
 "cells": [
  {
   "cell_type": "code",
   "execution_count": 51,
   "metadata": {
    "id": "rekuRTceDLQs"
   },
   "outputs": [],
   "source": [
    "from IPython.core.interactiveshell import InteractiveShell\n",
    "InteractiveShell.ast_node_interactivity = \"all\"\n",
    "\n",
    "import numpy as np\n",
    "import pandas as pd\n",
    "import matplotlib.pyplot as plt\n",
    "import matplotlib.cm as cm\n",
    "import seaborn as sns\n",
    "from sklearn.metrics import accuracy_score, confusion_matrix, precision_score, recall_score, roc_auc_score, roc_curve, f1_score\n",
    "from sklearn.model_selection import train_test_split\n",
    "from sklearn.preprocessing import OneHotEncoder, LabelEncoder\n",
    "from sklearn.compose import make_column_transformer\n",
    "from sklearn.linear_model import LogisticRegression\n",
    "from sklearn.ensemble import RandomForestClassifier\n",
    "from sklearn.pipeline import make_pipeline\n",
    "from sklearn.model_selection import RandomizedSearchCV\n",
    "from sklearn import clone\n",
    "from sklearn.base import BaseEstimator, ClassifierMixin\n",
    "from sklearn.utils.validation import check_is_fitted\n",
    "from sklearn.exceptions import NotFittedError\n",
    "import itertools\n",
    "from pprint import pprint\n",
    "from tempeh.configurations import datasets\n",
    "# from fairlearn.widget import FairlearnDashboard\n",
    "from fairlearn.reductions import GridSearch#, DemographicParity\n",
    "from sklearn.calibration import CalibratedClassifierCV\n",
    "from fairlearn.postprocessing import ThresholdOptimizer\n",
    "%matplotlib inline"
   ]
  },
  {
   "cell_type": "code",
   "execution_count": 66,
   "metadata": {
    "id": "8U0IbS9XDLQv",
    "outputId": "e5e751dd-4a57-444a-dee3-7de9e2cd7084"
   },
   "outputs": [],
   "source": [
    "path = 'datasets/adult.data'\n",
    "#csv_url = 'https://raw.githubusercontent.com/propublica/compas-analysis/master/compas-scores-two-years.csv'\n",
    "df = pd.read_csv(path)\n",
    "# df.drop(columns=['Loan_ID'], inplace=True)\n",
    "# "
   ]
  },
  {
   "cell_type": "code",
   "execution_count": 67,
   "metadata": {
    "id": "mXws1f1WDLQw",
    "outputId": "af272296-d48a-49e5-9de2-7ab6db95dbef"
   },
   "outputs": [
    {
     "name": "stdout",
     "output_type": "stream",
     "text": [
      "<class 'pandas.core.frame.DataFrame'>\n",
      "RangeIndex: 32561 entries, 0 to 32560\n",
      "Data columns (total 15 columns):\n",
      " #   Column          Non-Null Count  Dtype \n",
      "---  ------          --------------  ----- \n",
      " 0   age             32561 non-null  int64 \n",
      " 1   workclass       32561 non-null  object\n",
      " 2   fnlwgt          32561 non-null  int64 \n",
      " 3   education       32561 non-null  object\n",
      " 4   education-num   32561 non-null  int64 \n",
      " 5   marital-status  32561 non-null  object\n",
      " 6   occupation      32561 non-null  object\n",
      " 7   relationship    32561 non-null  object\n",
      " 8   race            32561 non-null  object\n",
      " 9   sex             32561 non-null  object\n",
      " 10  capital-gain    32561 non-null  int64 \n",
      " 11  capital-loss    32561 non-null  int64 \n",
      " 12  hours           32561 non-null  int64 \n",
      " 13  country         32561 non-null  object\n",
      " 14  label           32561 non-null  object\n",
      "dtypes: int64(6), object(9)\n",
      "memory usage: 3.7+ MB\n"
     ]
    },
    {
     "data": {
      "text/html": [
       "<div>\n",
       "<style scoped>\n",
       "    .dataframe tbody tr th:only-of-type {\n",
       "        vertical-align: middle;\n",
       "    }\n",
       "\n",
       "    .dataframe tbody tr th {\n",
       "        vertical-align: top;\n",
       "    }\n",
       "\n",
       "    .dataframe thead th {\n",
       "        text-align: right;\n",
       "    }\n",
       "</style>\n",
       "<table border=\"1\" class=\"dataframe\">\n",
       "  <thead>\n",
       "    <tr style=\"text-align: right;\">\n",
       "      <th></th>\n",
       "      <th>age</th>\n",
       "      <th>workclass</th>\n",
       "      <th>fnlwgt</th>\n",
       "      <th>education</th>\n",
       "      <th>education-num</th>\n",
       "      <th>marital-status</th>\n",
       "      <th>occupation</th>\n",
       "      <th>relationship</th>\n",
       "      <th>race</th>\n",
       "      <th>sex</th>\n",
       "      <th>capital-gain</th>\n",
       "      <th>capital-loss</th>\n",
       "      <th>hours</th>\n",
       "      <th>country</th>\n",
       "      <th>label</th>\n",
       "    </tr>\n",
       "  </thead>\n",
       "  <tbody>\n",
       "    <tr>\n",
       "      <th>0</th>\n",
       "      <td>39</td>\n",
       "      <td>State-gov</td>\n",
       "      <td>77516</td>\n",
       "      <td>Bachelors</td>\n",
       "      <td>13</td>\n",
       "      <td>Never-married</td>\n",
       "      <td>Adm-clerical</td>\n",
       "      <td>Not-in-family</td>\n",
       "      <td>White</td>\n",
       "      <td>Male</td>\n",
       "      <td>2174</td>\n",
       "      <td>0</td>\n",
       "      <td>40</td>\n",
       "      <td>United-States</td>\n",
       "      <td>&lt;=50K</td>\n",
       "    </tr>\n",
       "    <tr>\n",
       "      <th>1</th>\n",
       "      <td>50</td>\n",
       "      <td>Self-emp-not-inc</td>\n",
       "      <td>83311</td>\n",
       "      <td>Bachelors</td>\n",
       "      <td>13</td>\n",
       "      <td>Married-civ-spouse</td>\n",
       "      <td>Exec-managerial</td>\n",
       "      <td>Husband</td>\n",
       "      <td>White</td>\n",
       "      <td>Male</td>\n",
       "      <td>0</td>\n",
       "      <td>0</td>\n",
       "      <td>13</td>\n",
       "      <td>United-States</td>\n",
       "      <td>&lt;=50K</td>\n",
       "    </tr>\n",
       "    <tr>\n",
       "      <th>2</th>\n",
       "      <td>38</td>\n",
       "      <td>Private</td>\n",
       "      <td>215646</td>\n",
       "      <td>HS-grad</td>\n",
       "      <td>9</td>\n",
       "      <td>Divorced</td>\n",
       "      <td>Handlers-cleaners</td>\n",
       "      <td>Not-in-family</td>\n",
       "      <td>White</td>\n",
       "      <td>Male</td>\n",
       "      <td>0</td>\n",
       "      <td>0</td>\n",
       "      <td>40</td>\n",
       "      <td>United-States</td>\n",
       "      <td>&lt;=50K</td>\n",
       "    </tr>\n",
       "    <tr>\n",
       "      <th>3</th>\n",
       "      <td>53</td>\n",
       "      <td>Private</td>\n",
       "      <td>234721</td>\n",
       "      <td>11th</td>\n",
       "      <td>7</td>\n",
       "      <td>Married-civ-spouse</td>\n",
       "      <td>Handlers-cleaners</td>\n",
       "      <td>Husband</td>\n",
       "      <td>Black</td>\n",
       "      <td>Male</td>\n",
       "      <td>0</td>\n",
       "      <td>0</td>\n",
       "      <td>40</td>\n",
       "      <td>United-States</td>\n",
       "      <td>&lt;=50K</td>\n",
       "    </tr>\n",
       "    <tr>\n",
       "      <th>4</th>\n",
       "      <td>28</td>\n",
       "      <td>Private</td>\n",
       "      <td>338409</td>\n",
       "      <td>Bachelors</td>\n",
       "      <td>13</td>\n",
       "      <td>Married-civ-spouse</td>\n",
       "      <td>Prof-specialty</td>\n",
       "      <td>Wife</td>\n",
       "      <td>Black</td>\n",
       "      <td>Female</td>\n",
       "      <td>0</td>\n",
       "      <td>0</td>\n",
       "      <td>40</td>\n",
       "      <td>Cuba</td>\n",
       "      <td>&lt;=50K</td>\n",
       "    </tr>\n",
       "  </tbody>\n",
       "</table>\n",
       "</div>"
      ],
      "text/plain": [
       "   age          workclass  fnlwgt   education  education-num  \\\n",
       "0   39          State-gov   77516   Bachelors             13   \n",
       "1   50   Self-emp-not-inc   83311   Bachelors             13   \n",
       "2   38            Private  215646     HS-grad              9   \n",
       "3   53            Private  234721        11th              7   \n",
       "4   28            Private  338409   Bachelors             13   \n",
       "\n",
       "        marital-status          occupation    relationship    race      sex  \\\n",
       "0        Never-married        Adm-clerical   Not-in-family   White     Male   \n",
       "1   Married-civ-spouse     Exec-managerial         Husband   White     Male   \n",
       "2             Divorced   Handlers-cleaners   Not-in-family   White     Male   \n",
       "3   Married-civ-spouse   Handlers-cleaners         Husband   Black     Male   \n",
       "4   Married-civ-spouse      Prof-specialty            Wife   Black   Female   \n",
       "\n",
       "   capital-gain  capital-loss  hours         country   label  \n",
       "0          2174             0     40   United-States   <=50K  \n",
       "1             0             0     13   United-States   <=50K  \n",
       "2             0             0     40   United-States   <=50K  \n",
       "3             0             0     40   United-States   <=50K  \n",
       "4             0             0     40            Cuba   <=50K  "
      ]
     },
     "execution_count": 67,
     "metadata": {},
     "output_type": "execute_result"
    },
    {
     "data": {
      "text/plain": [
       "0                State-gov\n",
       "1         Self-emp-not-inc\n",
       "2                  Private\n",
       "3                  Private\n",
       "4                  Private\n",
       "               ...        \n",
       "32556              Private\n",
       "32557              Private\n",
       "32558              Private\n",
       "32559              Private\n",
       "32560         Self-emp-inc\n",
       "Name: workclass, Length: 32561, dtype: object"
      ]
     },
     "execution_count": 67,
     "metadata": {},
     "output_type": "execute_result"
    }
   ],
   "source": [
    "df.info()\n",
    "df.head()\n",
    "df['workclass']"
   ]
  },
  {
   "cell_type": "code",
   "execution_count": 68,
   "metadata": {
    "id": "Ou8zGFYZDLQx",
    "outputId": "bf01fe9b-139b-4a8e-8c74-5ccffc49d384"
   },
   "outputs": [
    {
     "data": {
      "text/plain": [
       "age               0\n",
       "workclass         0\n",
       "fnlwgt            0\n",
       "education         0\n",
       "education-num     0\n",
       "marital-status    0\n",
       "occupation        0\n",
       "relationship      0\n",
       "race              0\n",
       "sex               0\n",
       "capital-gain      0\n",
       "capital-loss      0\n",
       "hours             0\n",
       "country           0\n",
       "label             0\n",
       "dtype: int64"
      ]
     },
     "execution_count": 68,
     "metadata": {},
     "output_type": "execute_result"
    }
   ],
   "source": [
    "df.isnull().sum()"
   ]
  },
  {
   "cell_type": "code",
   "execution_count": 55,
   "metadata": {
    "id": "Eep3dr4ODLQx",
    "outputId": "3658945a-9bf7-4d4b-ba99-e9085954667e"
   },
   "outputs": [
    {
     "data": {
      "text/plain": [
       "32561"
      ]
     },
     "execution_count": 55,
     "metadata": {},
     "output_type": "execute_result"
    }
   ],
   "source": [
    "len(df)"
   ]
  },
  {
   "cell_type": "code",
   "execution_count": 69,
   "metadata": {
    "id": "lgmDji9IDLQy",
    "outputId": "213bf22f-9966-40c1-a05d-1f386ee9f4e2"
   },
   "outputs": [
    {
     "data": {
      "text/html": [
       "<div>\n",
       "<style scoped>\n",
       "    .dataframe tbody tr th:only-of-type {\n",
       "        vertical-align: middle;\n",
       "    }\n",
       "\n",
       "    .dataframe tbody tr th {\n",
       "        vertical-align: top;\n",
       "    }\n",
       "\n",
       "    .dataframe thead th {\n",
       "        text-align: right;\n",
       "    }\n",
       "</style>\n",
       "<table border=\"1\" class=\"dataframe\">\n",
       "  <thead>\n",
       "    <tr style=\"text-align: right;\">\n",
       "      <th></th>\n",
       "      <th>age</th>\n",
       "      <th>workclass</th>\n",
       "      <th>fnlwgt</th>\n",
       "      <th>education</th>\n",
       "      <th>education-num</th>\n",
       "      <th>marital-status</th>\n",
       "      <th>occupation</th>\n",
       "      <th>relationship</th>\n",
       "      <th>race</th>\n",
       "      <th>sex</th>\n",
       "      <th>capital-gain</th>\n",
       "      <th>capital-loss</th>\n",
       "      <th>hours</th>\n",
       "      <th>country</th>\n",
       "      <th>label</th>\n",
       "    </tr>\n",
       "  </thead>\n",
       "  <tbody>\n",
       "    <tr>\n",
       "      <th>0</th>\n",
       "      <td>39</td>\n",
       "      <td>7</td>\n",
       "      <td>77516</td>\n",
       "      <td>9</td>\n",
       "      <td>13</td>\n",
       "      <td>4</td>\n",
       "      <td>1</td>\n",
       "      <td>1</td>\n",
       "      <td>4</td>\n",
       "      <td>1</td>\n",
       "      <td>2174</td>\n",
       "      <td>0</td>\n",
       "      <td>40</td>\n",
       "      <td>39</td>\n",
       "      <td>0</td>\n",
       "    </tr>\n",
       "    <tr>\n",
       "      <th>1</th>\n",
       "      <td>50</td>\n",
       "      <td>6</td>\n",
       "      <td>83311</td>\n",
       "      <td>9</td>\n",
       "      <td>13</td>\n",
       "      <td>2</td>\n",
       "      <td>4</td>\n",
       "      <td>0</td>\n",
       "      <td>4</td>\n",
       "      <td>1</td>\n",
       "      <td>0</td>\n",
       "      <td>0</td>\n",
       "      <td>13</td>\n",
       "      <td>39</td>\n",
       "      <td>0</td>\n",
       "    </tr>\n",
       "    <tr>\n",
       "      <th>2</th>\n",
       "      <td>38</td>\n",
       "      <td>4</td>\n",
       "      <td>215646</td>\n",
       "      <td>11</td>\n",
       "      <td>9</td>\n",
       "      <td>0</td>\n",
       "      <td>6</td>\n",
       "      <td>1</td>\n",
       "      <td>4</td>\n",
       "      <td>1</td>\n",
       "      <td>0</td>\n",
       "      <td>0</td>\n",
       "      <td>40</td>\n",
       "      <td>39</td>\n",
       "      <td>0</td>\n",
       "    </tr>\n",
       "    <tr>\n",
       "      <th>3</th>\n",
       "      <td>53</td>\n",
       "      <td>4</td>\n",
       "      <td>234721</td>\n",
       "      <td>1</td>\n",
       "      <td>7</td>\n",
       "      <td>2</td>\n",
       "      <td>6</td>\n",
       "      <td>0</td>\n",
       "      <td>2</td>\n",
       "      <td>1</td>\n",
       "      <td>0</td>\n",
       "      <td>0</td>\n",
       "      <td>40</td>\n",
       "      <td>39</td>\n",
       "      <td>0</td>\n",
       "    </tr>\n",
       "    <tr>\n",
       "      <th>4</th>\n",
       "      <td>28</td>\n",
       "      <td>4</td>\n",
       "      <td>338409</td>\n",
       "      <td>9</td>\n",
       "      <td>13</td>\n",
       "      <td>2</td>\n",
       "      <td>10</td>\n",
       "      <td>5</td>\n",
       "      <td>2</td>\n",
       "      <td>0</td>\n",
       "      <td>0</td>\n",
       "      <td>0</td>\n",
       "      <td>40</td>\n",
       "      <td>5</td>\n",
       "      <td>0</td>\n",
       "    </tr>\n",
       "  </tbody>\n",
       "</table>\n",
       "</div>"
      ],
      "text/plain": [
       "   age  workclass  fnlwgt  education  education-num  marital-status  \\\n",
       "0   39          7   77516          9             13               4   \n",
       "1   50          6   83311          9             13               2   \n",
       "2   38          4  215646         11              9               0   \n",
       "3   53          4  234721          1              7               2   \n",
       "4   28          4  338409          9             13               2   \n",
       "\n",
       "   occupation  relationship  race  sex  capital-gain  capital-loss  hours  \\\n",
       "0           1             1     4    1          2174             0     40   \n",
       "1           4             0     4    1             0             0     13   \n",
       "2           6             1     4    1             0             0     40   \n",
       "3           6             0     2    1             0             0     40   \n",
       "4          10             5     2    0             0             0     40   \n",
       "\n",
       "   country  label  \n",
       "0       39      0  \n",
       "1       39      0  \n",
       "2       39      0  \n",
       "3       39      0  \n",
       "4        5      0  "
      ]
     },
     "execution_count": 69,
     "metadata": {},
     "output_type": "execute_result"
    }
   ],
   "source": [
    "# df['workclass'] = df.workclass.astype(object)\n",
    "categorical_features = df.columns[df.dtypes==object].tolist() \n",
    "le = LabelEncoder()\n",
    "\n",
    "df[categorical_features] = df[categorical_features].apply(lambda col: le.fit_transform(col))\n",
    "\n",
    "# Apply OneHotEncoder on each of the categorical columns\n",
    "categorical_cols = ['workclass', 'education', 'marital-status', 'occupation', 'relationship', 'race', 'sex', 'country', 'label']\n",
    "\n",
    "encoded_features = []\n",
    "ohe = OneHotEncoder()\n",
    "for feature in categorical_cols:\n",
    "    encoded_feat = OneHotEncoder(drop='first').fit_transform(df[feature].values.reshape(-1, 1)).toarray()\n",
    "    n = df[feature].nunique()\n",
    "    cols = ['{}_{}'.format(feature, n) for n in range(0, n-1)]\n",
    "    encoded_df = pd.DataFrame(encoded_feat, columns=cols)\n",
    "    encoded_df.index = df.index\n",
    "    encoded_features.append(encoded_df)\n",
    "df.head()"
   ]
  },
  {
   "cell_type": "code",
   "execution_count": 70,
   "metadata": {
    "id": "KsqBiuY8DLQz",
    "outputId": "529a23ec-6b2b-4f08-f5ad-503ab3610146"
   },
   "outputs": [
    {
     "name": "stdout",
     "output_type": "stream",
     "text": [
      "Male Over 50k Rate: 0.3057365764111978\n",
      "Female Over 50k Rate: 0.10946058861758426\n",
      "\n",
      "White Over 50k Rate: 0.2558599367270636\n",
      "Black Over 50k Rate: 0.12387964148527529\n"
     ]
    },
    {
     "data": {
      "text/plain": [
       "'\\nSevere Data imbalance but similar data rates\\n'"
      ]
     },
     "execution_count": 70,
     "metadata": {},
     "output_type": "execute_result"
    }
   ],
   "source": [
    "black_under = len(df[(df['race'] == 2) & (df['label'] == 0)])\n",
    "black_over = len(df[(df['race'] == 2) & (df['label'] == 1)])\n",
    "\n",
    "white_under = len(df[(df['race'] == 4) & (df['label'] == 0)])\n",
    "white_over = len(df[(df['race'] == 4) & (df['label'] == 1)])\n",
    "\n",
    "male_under = len(df[(df['sex'] == 1) & (df['label'] == 0)])\n",
    "male_over = len(df[(df['sex'] == 1) & (df['label'] == 1)])\n",
    "\n",
    "female_under = len(df[(df['sex'] == 0) & (df['label'] == 0)])\n",
    "female_over = len(df[(df['sex'] == 0) & (df['label'] == 1)])\n",
    "\n",
    "male_over_rate = male_over/(male_over + male_under)\n",
    "female_over_rate = female_over/(female_over + female_under)\n",
    "print(f'Male Over 50k Rate: {male_over_rate}\\nFemale Over 50k Rate: {female_over_rate}\\n')\n",
    "\n",
    "white_over_rate = white_over/(white_over + white_under)\n",
    "black_over_rate = black_over/(black_over + black_under)\n",
    "print(f'White Over 50k Rate: {white_over_rate}\\nBlack Over 50k Rate: {black_over_rate}')\n",
    "\n",
    "'''\n",
    "Severe Data imbalance but similar data rates\n",
    "'''"
   ]
  },
  {
   "cell_type": "code",
   "execution_count": 71,
   "metadata": {
    "id": "6lXjXhh1DLQ0"
   },
   "outputs": [],
   "source": [
    "data = df.copy()\n",
    "labels = data.pop('label')\n",
    "sensitive_attributes = data['sex']\n",
    "\n",
    "X_train, X_test, y_train, y_test, sensitive_attributes_train, sensitive_attributes_test = train_test_split(data, labels,\n",
    "                                                                                                         sensitive_attributes,\n",
    "                                                                                                         stratify=df['label'], \n",
    "                                                                                                         test_size=0.25,\n",
    "                                                                                                         random_state = 42)\n"
   ]
  },
  {
   "cell_type": "code",
   "execution_count": 72,
   "metadata": {
    "id": "EOTeoqqTDLQ1",
    "outputId": "4d0307db-e690-47fc-ac72-c6b7287ae7a9"
   },
   "outputs": [
    {
     "data": {
      "text/plain": [
       "LogisticRegression(solver='liblinear')"
      ]
     },
     "execution_count": 72,
     "metadata": {},
     "output_type": "execute_result"
    },
    {
     "data": {
      "text/plain": [
       "0.7959710109323179"
      ]
     },
     "execution_count": 72,
     "metadata": {},
     "output_type": "execute_result"
    }
   ],
   "source": [
    "#Training Logisitic Regression\n",
    "fairness_unaware_lr = LogisticRegression(solver='liblinear', fit_intercept=True)\n",
    "fairness_unaware_lr.fit(X_train, y_train)\n",
    "\n",
    "y_preds_lr = fairness_unaware_lr.predict(X_test)\n",
    "accuracy_score(y_test, y_preds_lr)"
   ]
  },
  {
   "cell_type": "code",
   "execution_count": 73,
   "metadata": {
    "id": "bUYrRhdADLQ2",
    "outputId": "2241e255-7af0-447a-b4b5-5e78238b2a16"
   },
   "outputs": [
    {
     "data": {
      "text/html": [
       "<div>\n",
       "<style scoped>\n",
       "    .dataframe tbody tr th:only-of-type {\n",
       "        vertical-align: middle;\n",
       "    }\n",
       "\n",
       "    .dataframe tbody tr th {\n",
       "        vertical-align: top;\n",
       "    }\n",
       "\n",
       "    .dataframe thead th {\n",
       "        text-align: right;\n",
       "    }\n",
       "</style>\n",
       "<table border=\"1\" class=\"dataframe\">\n",
       "  <thead>\n",
       "    <tr style=\"text-align: right;\">\n",
       "      <th></th>\n",
       "      <th>age</th>\n",
       "      <th>workclass</th>\n",
       "      <th>fnlwgt</th>\n",
       "      <th>education</th>\n",
       "      <th>education-num</th>\n",
       "      <th>marital-status</th>\n",
       "      <th>occupation</th>\n",
       "      <th>relationship</th>\n",
       "      <th>race</th>\n",
       "      <th>sex</th>\n",
       "      <th>capital-gain</th>\n",
       "      <th>capital-loss</th>\n",
       "      <th>hours</th>\n",
       "      <th>country</th>\n",
       "      <th>label</th>\n",
       "      <th>label_Preds</th>\n",
       "    </tr>\n",
       "  </thead>\n",
       "  <tbody>\n",
       "    <tr>\n",
       "      <th>17581</th>\n",
       "      <td>49</td>\n",
       "      <td>6</td>\n",
       "      <td>162856</td>\n",
       "      <td>15</td>\n",
       "      <td>10</td>\n",
       "      <td>0</td>\n",
       "      <td>4</td>\n",
       "      <td>1</td>\n",
       "      <td>0</td>\n",
       "      <td>0</td>\n",
       "      <td>0</td>\n",
       "      <td>0</td>\n",
       "      <td>40</td>\n",
       "      <td>39</td>\n",
       "      <td>0</td>\n",
       "      <td>0</td>\n",
       "    </tr>\n",
       "    <tr>\n",
       "      <th>16280</th>\n",
       "      <td>27</td>\n",
       "      <td>4</td>\n",
       "      <td>187981</td>\n",
       "      <td>11</td>\n",
       "      <td>9</td>\n",
       "      <td>4</td>\n",
       "      <td>6</td>\n",
       "      <td>3</td>\n",
       "      <td>4</td>\n",
       "      <td>1</td>\n",
       "      <td>0</td>\n",
       "      <td>0</td>\n",
       "      <td>40</td>\n",
       "      <td>39</td>\n",
       "      <td>0</td>\n",
       "      <td>0</td>\n",
       "    </tr>\n",
       "    <tr>\n",
       "      <th>24719</th>\n",
       "      <td>33</td>\n",
       "      <td>4</td>\n",
       "      <td>259301</td>\n",
       "      <td>15</td>\n",
       "      <td>10</td>\n",
       "      <td>2</td>\n",
       "      <td>14</td>\n",
       "      <td>0</td>\n",
       "      <td>4</td>\n",
       "      <td>1</td>\n",
       "      <td>0</td>\n",
       "      <td>0</td>\n",
       "      <td>41</td>\n",
       "      <td>39</td>\n",
       "      <td>0</td>\n",
       "      <td>0</td>\n",
       "    </tr>\n",
       "    <tr>\n",
       "      <th>3986</th>\n",
       "      <td>30</td>\n",
       "      <td>4</td>\n",
       "      <td>159442</td>\n",
       "      <td>11</td>\n",
       "      <td>9</td>\n",
       "      <td>5</td>\n",
       "      <td>1</td>\n",
       "      <td>1</td>\n",
       "      <td>4</td>\n",
       "      <td>0</td>\n",
       "      <td>0</td>\n",
       "      <td>0</td>\n",
       "      <td>40</td>\n",
       "      <td>39</td>\n",
       "      <td>0</td>\n",
       "      <td>0</td>\n",
       "    </tr>\n",
       "    <tr>\n",
       "      <th>5138</th>\n",
       "      <td>41</td>\n",
       "      <td>1</td>\n",
       "      <td>57924</td>\n",
       "      <td>15</td>\n",
       "      <td>10</td>\n",
       "      <td>4</td>\n",
       "      <td>11</td>\n",
       "      <td>3</td>\n",
       "      <td>4</td>\n",
       "      <td>1</td>\n",
       "      <td>0</td>\n",
       "      <td>0</td>\n",
       "      <td>40</td>\n",
       "      <td>39</td>\n",
       "      <td>0</td>\n",
       "      <td>0</td>\n",
       "    </tr>\n",
       "  </tbody>\n",
       "</table>\n",
       "</div>"
      ],
      "text/plain": [
       "       age  workclass  fnlwgt  education  education-num  marital-status  \\\n",
       "17581   49          6  162856         15             10               0   \n",
       "16280   27          4  187981         11              9               4   \n",
       "24719   33          4  259301         15             10               2   \n",
       "3986    30          4  159442         11              9               5   \n",
       "5138    41          1   57924         15             10               4   \n",
       "\n",
       "       occupation  relationship  race  sex  capital-gain  capital-loss  hours  \\\n",
       "17581           4             1     0    0             0             0     40   \n",
       "16280           6             3     4    1             0             0     40   \n",
       "24719          14             0     4    1             0             0     41   \n",
       "3986            1             1     4    0             0             0     40   \n",
       "5138           11             3     4    1             0             0     40   \n",
       "\n",
       "       country  label  label_Preds  \n",
       "17581       39      0            0  \n",
       "16280       39      0            0  \n",
       "24719       39      0            0  \n",
       "3986        39      0            0  \n",
       "5138        39      0            0  "
      ]
     },
     "execution_count": 73,
     "metadata": {},
     "output_type": "execute_result"
    }
   ],
   "source": [
    "merged_test_lr = pd.concat([X_test, y_test], axis=1)\n",
    "merged_test_lr['label_Preds'] = y_preds_lr\n",
    "merged_test_lr.head()"
   ]
  },
  {
   "cell_type": "code",
   "execution_count": 74,
   "metadata": {
    "id": "P56D8PeSDLQ2",
    "outputId": "54416b89-8f52-49ca-f89f-bcef7abade62"
   },
   "outputs": [
    {
     "data": {
      "text/plain": [
       "RandomForestClassifier(n_jobs=-1, random_state=42)"
      ]
     },
     "execution_count": 74,
     "metadata": {},
     "output_type": "execute_result"
    },
    {
     "data": {
      "text/plain": [
       "0.8573885272079597"
      ]
     },
     "execution_count": 74,
     "metadata": {},
     "output_type": "execute_result"
    }
   ],
   "source": [
    "#Training Random Forest\n",
    "fairness_unaware_rf = RandomForestClassifier(\n",
    "                      n_jobs = -1,\n",
    "                      random_state = 42,\n",
    "                      max_features = 'auto')\n",
    "\n",
    "fairness_unaware_rf.fit(X_train, y_train)\n",
    "y_preds_rf = fairness_unaware_rf.predict(X_test)\n",
    "accuracy_score(y_test, y_preds_rf)"
   ]
  },
  {
   "cell_type": "code",
   "execution_count": 75,
   "metadata": {
    "id": "RVgPweqSDLQ2",
    "outputId": "a132dfdf-07a5-4fcf-be81-bd4613f9f721"
   },
   "outputs": [
    {
     "data": {
      "text/html": [
       "<div>\n",
       "<style scoped>\n",
       "    .dataframe tbody tr th:only-of-type {\n",
       "        vertical-align: middle;\n",
       "    }\n",
       "\n",
       "    .dataframe tbody tr th {\n",
       "        vertical-align: top;\n",
       "    }\n",
       "\n",
       "    .dataframe thead th {\n",
       "        text-align: right;\n",
       "    }\n",
       "</style>\n",
       "<table border=\"1\" class=\"dataframe\">\n",
       "  <thead>\n",
       "    <tr style=\"text-align: right;\">\n",
       "      <th></th>\n",
       "      <th>age</th>\n",
       "      <th>workclass</th>\n",
       "      <th>fnlwgt</th>\n",
       "      <th>education</th>\n",
       "      <th>education-num</th>\n",
       "      <th>marital-status</th>\n",
       "      <th>occupation</th>\n",
       "      <th>relationship</th>\n",
       "      <th>race</th>\n",
       "      <th>sex</th>\n",
       "      <th>capital-gain</th>\n",
       "      <th>capital-loss</th>\n",
       "      <th>hours</th>\n",
       "      <th>country</th>\n",
       "      <th>label</th>\n",
       "      <th>label_Preds</th>\n",
       "    </tr>\n",
       "  </thead>\n",
       "  <tbody>\n",
       "    <tr>\n",
       "      <th>17581</th>\n",
       "      <td>49</td>\n",
       "      <td>6</td>\n",
       "      <td>162856</td>\n",
       "      <td>15</td>\n",
       "      <td>10</td>\n",
       "      <td>0</td>\n",
       "      <td>4</td>\n",
       "      <td>1</td>\n",
       "      <td>0</td>\n",
       "      <td>0</td>\n",
       "      <td>0</td>\n",
       "      <td>0</td>\n",
       "      <td>40</td>\n",
       "      <td>39</td>\n",
       "      <td>0</td>\n",
       "      <td>0</td>\n",
       "    </tr>\n",
       "    <tr>\n",
       "      <th>16280</th>\n",
       "      <td>27</td>\n",
       "      <td>4</td>\n",
       "      <td>187981</td>\n",
       "      <td>11</td>\n",
       "      <td>9</td>\n",
       "      <td>4</td>\n",
       "      <td>6</td>\n",
       "      <td>3</td>\n",
       "      <td>4</td>\n",
       "      <td>1</td>\n",
       "      <td>0</td>\n",
       "      <td>0</td>\n",
       "      <td>40</td>\n",
       "      <td>39</td>\n",
       "      <td>0</td>\n",
       "      <td>0</td>\n",
       "    </tr>\n",
       "    <tr>\n",
       "      <th>24719</th>\n",
       "      <td>33</td>\n",
       "      <td>4</td>\n",
       "      <td>259301</td>\n",
       "      <td>15</td>\n",
       "      <td>10</td>\n",
       "      <td>2</td>\n",
       "      <td>14</td>\n",
       "      <td>0</td>\n",
       "      <td>4</td>\n",
       "      <td>1</td>\n",
       "      <td>0</td>\n",
       "      <td>0</td>\n",
       "      <td>41</td>\n",
       "      <td>39</td>\n",
       "      <td>0</td>\n",
       "      <td>0</td>\n",
       "    </tr>\n",
       "    <tr>\n",
       "      <th>3986</th>\n",
       "      <td>30</td>\n",
       "      <td>4</td>\n",
       "      <td>159442</td>\n",
       "      <td>11</td>\n",
       "      <td>9</td>\n",
       "      <td>5</td>\n",
       "      <td>1</td>\n",
       "      <td>1</td>\n",
       "      <td>4</td>\n",
       "      <td>0</td>\n",
       "      <td>0</td>\n",
       "      <td>0</td>\n",
       "      <td>40</td>\n",
       "      <td>39</td>\n",
       "      <td>0</td>\n",
       "      <td>0</td>\n",
       "    </tr>\n",
       "    <tr>\n",
       "      <th>5138</th>\n",
       "      <td>41</td>\n",
       "      <td>1</td>\n",
       "      <td>57924</td>\n",
       "      <td>15</td>\n",
       "      <td>10</td>\n",
       "      <td>4</td>\n",
       "      <td>11</td>\n",
       "      <td>3</td>\n",
       "      <td>4</td>\n",
       "      <td>1</td>\n",
       "      <td>0</td>\n",
       "      <td>0</td>\n",
       "      <td>40</td>\n",
       "      <td>39</td>\n",
       "      <td>0</td>\n",
       "      <td>0</td>\n",
       "    </tr>\n",
       "  </tbody>\n",
       "</table>\n",
       "</div>"
      ],
      "text/plain": [
       "       age  workclass  fnlwgt  education  education-num  marital-status  \\\n",
       "17581   49          6  162856         15             10               0   \n",
       "16280   27          4  187981         11              9               4   \n",
       "24719   33          4  259301         15             10               2   \n",
       "3986    30          4  159442         11              9               5   \n",
       "5138    41          1   57924         15             10               4   \n",
       "\n",
       "       occupation  relationship  race  sex  capital-gain  capital-loss  hours  \\\n",
       "17581           4             1     0    0             0             0     40   \n",
       "16280           6             3     4    1             0             0     40   \n",
       "24719          14             0     4    1             0             0     41   \n",
       "3986            1             1     4    0             0             0     40   \n",
       "5138           11             3     4    1             0             0     40   \n",
       "\n",
       "       country  label  label_Preds  \n",
       "17581       39      0            0  \n",
       "16280       39      0            0  \n",
       "24719       39      0            0  \n",
       "3986        39      0            0  \n",
       "5138        39      0            0  "
      ]
     },
     "execution_count": 75,
     "metadata": {},
     "output_type": "execute_result"
    }
   ],
   "source": [
    "merged_test_rf = pd.concat([X_test, y_test], axis=1)\n",
    "merged_test_rf['label_Preds'] = y_preds_rf\n",
    "merged_test_rf.head()"
   ]
  },
  {
   "cell_type": "code",
   "execution_count": 76,
   "metadata": {
    "id": "d8v4lcU8DLQ3",
    "outputId": "cf0aeb5f-c523-412f-a183-0bc34660efc9"
   },
   "outputs": [
    {
     "name": "stdout",
     "output_type": "stream",
     "text": [
      "LR Precision, Recall:(0.6816524908869988, 0.28622448979591836)\n",
      "RF Precision, Recall:(0.7365304914150385, 0.6346938775510204)\n"
     ]
    }
   ],
   "source": [
    "# confusion_values = confusion_matrix(merged_test_lr['Loan_Status'], merged_test_lr['Loan_Status_Preds'])\n",
    "# [[true_negatives , false_positives],[false_negatives , true_positives]] = confusion_values\n",
    "# [[true_negatives , false_positives],[false_negatives , true_positives]]\n",
    "# recall = true_positives/ (true_positives + false_negatives)\n",
    "# precision = true_positives/ (true_positives + false_positives)\n",
    "# recall\n",
    "# precision\n",
    "\n",
    "def calc_precision_recall(df):\n",
    "    confusion_values = confusion_matrix(df['label'], df['label_Preds'])\n",
    "    [[true_negatives , false_positives],[false_negatives , true_positives]] = confusion_values\n",
    "    [[true_negatives , false_positives],[false_negatives , true_positives]]\n",
    "    recall = true_positives/ (true_positives + false_negatives)\n",
    "    precision = true_positives/ (true_positives + false_positives)\n",
    "    return precision, recall\n",
    "\n",
    "lr_precision, lr_recall = calc_precision_recall(merged_test_lr)\n",
    "rf_precision, rf_recall = calc_precision_recall(merged_test_rf)\n",
    "\n",
    "print(f'LR Precision, Recall:{lr_precision, lr_recall}\\nRF Precision, Recall:{rf_precision, rf_recall}')"
   ]
  },
  {
   "cell_type": "code",
   "execution_count": 77,
   "metadata": {
    "id": "jcblN4u0DLQ3",
    "outputId": "bbfcf1fc-f21d-4fd2-8d6b-63d4ce485f4b"
   },
   "outputs": [
    {
     "data": {
      "text/plain": [
       "'\\nOverall Accuracy Equality Using Logistic Regression\\n'"
      ]
     },
     "execution_count": 77,
     "metadata": {},
     "output_type": "execute_result"
    },
    {
     "data": {
      "text/plain": [
       "sex\n",
       "0    0.893752\n",
       "1    0.748171\n",
       "dtype: float64"
      ]
     },
     "execution_count": 77,
     "metadata": {},
     "output_type": "execute_result"
    },
    {
     "data": {
      "text/plain": [
       "'\\nOverall Accuracy Equality Using Random Forest\\n'"
      ]
     },
     "execution_count": 77,
     "metadata": {},
     "output_type": "execute_result"
    },
    {
     "data": {
      "text/plain": [
       "sex\n",
       "0    0.931163\n",
       "1    0.821324\n",
       "dtype: float64"
      ]
     },
     "execution_count": 77,
     "metadata": {},
     "output_type": "execute_result"
    }
   ],
   "source": [
    "'''\n",
    "Overall Accuracy Equality Using Logistic Regression\n",
    "'''\n",
    "(merged_test_lr['label'] == merged_test_lr['label_Preds']).astype(int).groupby(merged_test_lr['sex']).mean()\n",
    "'''\n",
    "Overall Accuracy Equality Using Random Forest\n",
    "'''\n",
    "(merged_test_rf['label'] == merged_test_rf['label_Preds']).astype(int).groupby(merged_test_rf['sex']).mean()"
   ]
  },
  {
   "cell_type": "code",
   "execution_count": 78,
   "metadata": {
    "id": "Y6mp2E_nDLQ6",
    "outputId": "35fb1062-0aec-448c-8537-dccd7bcf413b"
   },
   "outputs": [
    {
     "data": {
      "text/plain": [
       "'\\nchecking probability for loan status for those who got their loan approved\\n\\nFairness Type: Predictive Parity Using Logistic Regression\\n'"
      ]
     },
     "execution_count": 78,
     "metadata": {},
     "output_type": "execute_result"
    },
    {
     "data": {
      "text/plain": [
       "sex\n",
       "0    0.301695\n",
       "1    0.283483\n",
       "Name: label_Preds, dtype: float64"
      ]
     },
     "execution_count": 78,
     "metadata": {},
     "output_type": "execute_result"
    },
    {
     "data": {
      "text/plain": [
       "'\\nchecking probability for loan status for those who got their loan approved\\n\\nFairness Type: Predictive Parity Using Random Forest\\n'"
      ]
     },
     "execution_count": 78,
     "metadata": {},
     "output_type": "execute_result"
    },
    {
     "data": {
      "text/plain": [
       "sex\n",
       "0    0.610169\n",
       "1    0.639039\n",
       "Name: label_Preds, dtype: float64"
      ]
     },
     "execution_count": 78,
     "metadata": {},
     "output_type": "execute_result"
    }
   ],
   "source": [
    "'''\n",
    "checking probability for loan status for those who got their loan approved\n",
    "\n",
    "Fairness Type: Predictive Parity Using Logistic Regression\n",
    "'''\n",
    "merged_test_lr[merged_test_lr['label']==1]['label_Preds'].groupby(merged_test_lr['sex']).mean()\n",
    "\n",
    "'''\n",
    "checking probability for loan status for those who got their loan approved\n",
    "\n",
    "Fairness Type: Predictive Parity Using Random Forest\n",
    "'''\n",
    "merged_test_rf[merged_test_rf['label']==1]['label_Preds'].groupby(merged_test_rf['sex']).mean()"
   ]
  },
  {
   "cell_type": "code",
   "execution_count": 80,
   "metadata": {
    "id": "9ikZ7JSpDLQ6",
    "outputId": "9d7e06ad-9b3a-407f-b54c-e0bafd8b0f10"
   },
   "outputs": [
    {
     "data": {
      "text/plain": [
       "'\\nChecking average over 50k predictions of both genders on LR\\n'"
      ]
     },
     "execution_count": 80,
     "metadata": {},
     "output_type": "execute_result"
    },
    {
     "data": {
      "text/html": [
       "<div>\n",
       "<style scoped>\n",
       "    .dataframe tbody tr th:only-of-type {\n",
       "        vertical-align: middle;\n",
       "    }\n",
       "\n",
       "    .dataframe tbody tr th {\n",
       "        vertical-align: top;\n",
       "    }\n",
       "\n",
       "    .dataframe thead th {\n",
       "        text-align: right;\n",
       "    }\n",
       "</style>\n",
       "<table border=\"1\" class=\"dataframe\">\n",
       "  <thead>\n",
       "    <tr style=\"text-align: right;\">\n",
       "      <th>sex</th>\n",
       "      <th>0</th>\n",
       "      <th>1</th>\n",
       "    </tr>\n",
       "  </thead>\n",
       "  <tbody>\n",
       "    <tr>\n",
       "      <th>label</th>\n",
       "      <td>0.110363</td>\n",
       "      <td>0.304499</td>\n",
       "    </tr>\n",
       "    <tr>\n",
       "      <th>label_Preds</th>\n",
       "      <td>0.062477</td>\n",
       "      <td>0.119971</td>\n",
       "    </tr>\n",
       "  </tbody>\n",
       "</table>\n",
       "</div>"
      ],
      "text/plain": [
       "sex                 0         1\n",
       "label        0.110363  0.304499\n",
       "label_Preds  0.062477  0.119971"
      ]
     },
     "execution_count": 80,
     "metadata": {},
     "output_type": "execute_result"
    },
    {
     "data": {
      "text/plain": [
       "'\\nChecking average over 50k predictions of both genders on RF\\n'"
      ]
     },
     "execution_count": 80,
     "metadata": {},
     "output_type": "execute_result"
    },
    {
     "data": {
      "text/html": [
       "<div>\n",
       "<style scoped>\n",
       "    .dataframe tbody tr th:only-of-type {\n",
       "        vertical-align: middle;\n",
       "    }\n",
       "\n",
       "    .dataframe tbody tr th {\n",
       "        vertical-align: top;\n",
       "    }\n",
       "\n",
       "    .dataframe thead th {\n",
       "        text-align: right;\n",
       "    }\n",
       "</style>\n",
       "<table border=\"1\" class=\"dataframe\">\n",
       "  <thead>\n",
       "    <tr style=\"text-align: right;\">\n",
       "      <th>sex</th>\n",
       "      <th>0</th>\n",
       "      <th>1</th>\n",
       "    </tr>\n",
       "  </thead>\n",
       "  <tbody>\n",
       "    <tr>\n",
       "      <th>label</th>\n",
       "      <td>0.110363</td>\n",
       "      <td>0.304499</td>\n",
       "    </tr>\n",
       "    <tr>\n",
       "      <th>label_Preds</th>\n",
       "      <td>0.093154</td>\n",
       "      <td>0.263350</td>\n",
       "    </tr>\n",
       "  </tbody>\n",
       "</table>\n",
       "</div>"
      ],
      "text/plain": [
       "sex                 0         1\n",
       "label        0.110363  0.304499\n",
       "label_Preds  0.093154  0.263350"
      ]
     },
     "execution_count": 80,
     "metadata": {},
     "output_type": "execute_result"
    }
   ],
   "source": [
    "'''\n",
    "Checking average over 50k predictions of both genders on LR\n",
    "'''\n",
    "merged_test_lr.groupby('sex').agg({'label': 'mean',  \n",
    "                        'label_Preds': 'mean'}).transpose()\n",
    "\n",
    "'''\n",
    "Checking average over 50k predictions of both genders on RF\n",
    "'''\n",
    "merged_test_rf.groupby('sex').agg({'label': 'mean',  \n",
    "                        'label_Preds': 'mean'}).transpose()"
   ]
  },
  {
   "cell_type": "code",
   "execution_count": 81,
   "metadata": {
    "id": "PRiVnCkCDLQ6",
    "outputId": "404ff28e-a0e0-4706-e6b4-d48e91cb313e"
   },
   "outputs": [
    {
     "name": "stdout",
     "output_type": "stream",
     "text": [
      "LR CM for M: [[3619, 184], [1193, 472]]\tF: [[2300, 78], [206, 89]]\n",
      "RF CM for M: [[3427, 376], [601, 1064]]\tF: [[2309, 69], [115, 180]]\n"
     ]
    }
   ],
   "source": [
    "# male_df = merged_test_lr[merged_test_lr['Gender'] == 1]\n",
    "# female_df = merged_test_lr[merged_test_lr['Gender'] == 0]\n",
    "\n",
    "\n",
    "# male_confusion_values = confusion_matrix(male_df['Loan_Status'], male_df['Loan_Status_Preds'])\n",
    "# [[male_tn , male_fp],[male_fn , male_tp]] = male_confusion_values\n",
    "\n",
    "# female_confusion_values = confusion_matrix(female_df['Loan_Status'], female_df['Loan_Status_Preds'])\n",
    "# [[female_tn , female_fp],[female_fn , female_tp]] = female_confusion_values\n",
    "# [[male_tn , male_fp],[male_fn , male_tp]]\n",
    "# [[female_tn , female_fp],[female_fn , female_tp]]\n",
    "\n",
    "def calc_confusion_metrics(df, tag=False):\n",
    "    male_df = df[df['sex'] == 1]\n",
    "    female_df = df[df['sex'] == 0]\n",
    "\n",
    "    pred_col = 'label_Fair' if tag else 'label_Preds'\n",
    "        \n",
    "    male_confusion_values = confusion_matrix(male_df['label'], male_df[pred_col])\n",
    "    [[male_tn , male_fp],[male_fn , male_tp]] = male_confusion_values\n",
    "\n",
    "    female_confusion_values = confusion_matrix(female_df['label'], female_df[pred_col])\n",
    "    [[female_tn , female_fp],[female_fn , female_tp]] = female_confusion_values\n",
    "    return [[male_tn , male_fp],[male_fn , male_tp]],[[female_tn , female_fp],[female_fn , female_tp]]\n",
    "\n",
    "lr_male_metrics, lr_female_metrics = calc_confusion_metrics(merged_test_lr)\n",
    "rf_male_metrics, rf_female_metrics = calc_confusion_metrics(merged_test_rf)\n",
    "# [[white_tn , white_fp],[white_fn , white_tp]] = \n",
    "# [[white_tn , white_fp],[white_fn , white_tp]]\n",
    "\n",
    "print(f'LR CM for M: {lr_male_metrics}\\tF: {lr_female_metrics}')\n",
    "print(f'RF CM for M: {rf_male_metrics}\\tF: {rf_female_metrics}')"
   ]
  },
  {
   "cell_type": "code",
   "execution_count": 82,
   "metadata": {
    "id": "toDbSTerDLQ6",
    "outputId": "fbcc97c3-5765-485f-ed61-5fc3bf0e1731"
   },
   "outputs": [
    {
     "name": "stdout",
     "output_type": "stream",
     "text": [
      "LR\n",
      "FPR for Female Gender: 0.03280067283431455 | FPR for Male Gender: 0.04838285564028399\n",
      "FNR for Female Gender: 0.6983050847457627 | FNR for Male Gender: 0.7165165165165165\n",
      "\n",
      "\n",
      "RF\n",
      "FPR for Female Gender: 0.029015979814970564 | FPR for Male Gender: 0.09886931369971075\n",
      "FNR for Female Gender: 0.3898305084745763 | FNR for Male Gender: 0.360960960960961\n",
      "\n",
      "\n"
     ]
    }
   ],
   "source": [
    "def fpr_fnr(male_metrics,female_metrics, tag= 'LR'):\n",
    "    [[male_tn , male_fp],[male_fn , male_tp]] = male_metrics\n",
    "    [[female_tn , female_fp],[female_fn , female_tp]] = female_metrics\n",
    "    \n",
    "    female_fpr = female_fp/ (female_fp + female_tn)\n",
    "    male_fpr = male_fp/ (male_fp + male_tn)\n",
    "\n",
    "    female_fnr = female_fn/ (female_fn + female_tp)\n",
    "    male_fnr = male_fn/ (male_fn + male_tp)\n",
    "    print(tag)\n",
    "    print(f'FPR for Female Gender: {female_fpr} | FPR for Male Gender: {male_fpr}')\n",
    "    print(f'FNR for Female Gender: {female_fnr} | FNR for Male Gender: {male_fnr}\\n\\n')\n",
    "    \n",
    "fpr_fnr(lr_male_metrics, lr_female_metrics, tag= 'LR')\n",
    "fpr_fnr(rf_male_metrics, rf_female_metrics, tag= 'RF')"
   ]
  },
  {
   "cell_type": "markdown",
   "metadata": {
    "id": "VAhH1cl6DLQ7"
   },
   "source": [
    "# Mitigating Equalised Odds Unfairness"
   ]
  },
  {
   "cell_type": "code",
   "execution_count": 87,
   "metadata": {
    "id": "xpYEwhB9DLQ8"
   },
   "outputs": [],
   "source": [
    "class RF(BaseEstimator, ClassifierMixin):\n",
    "    def __init__(self, model):\n",
    "        self.model = model\n",
    "\n",
    "    def fit(self, X, y):\n",
    "        try:\n",
    "            check_is_fitted(self.model)\n",
    "            self.model_ = self.model\n",
    "        except NotFittedError:\n",
    "            self.model_ = clone(\n",
    "                self.model\n",
    "            ).fit(X, y)\n",
    "        return self\n",
    "\n",
    "    def predict(self, X):\n",
    "        scores = self.model_.predict_proba(X)[:, 1]\n",
    "        return scores\n",
    "    \n",
    "class LR(BaseEstimator, ClassifierMixin):\n",
    "    def __init__(self, model):\n",
    "        self.model = model\n",
    "\n",
    "    def fit(self, X, y):\n",
    "        try:\n",
    "            check_is_fitted(self.model)\n",
    "            self.model_ = self.model\n",
    "        except NotFittedError:\n",
    "            self.model_ = clone(\n",
    "                self.model\n",
    "            ).fit(X, y)\n",
    "        return self\n",
    "\n",
    "    def predict(self, X):\n",
    "        scores = self.model_.predict_proba(X)[:, 1]\n",
    "        return scores"
   ]
  },
  {
   "cell_type": "code",
   "execution_count": 88,
   "metadata": {
    "id": "KGH5dXAtDLQ8",
    "outputId": "9edc2942-281a-4a5f-ddc1-c87c7a3537e0"
   },
   "outputs": [
    {
     "data": {
      "text/plain": [
       "'\\nFirst Unfairness Mitigation in  Random Forest Classifier\\n'"
      ]
     },
     "execution_count": 88,
     "metadata": {},
     "output_type": "execute_result"
    },
    {
     "name": "stderr",
     "output_type": "stream",
     "text": [
      "'predict_method' default value is changed from 'predict' to 'auto'. Explicitly pass `predict_method='predict' to replicate the old behavior, or pass `predict_method='auto' or other valid values to silence this warning.\n"
     ]
    },
    {
     "data": {
      "text/plain": [
       "ThresholdOptimizer(constraints='equalized_odds',\n",
       "                   estimator=RF(model=RandomForestClassifier(n_jobs=-1,\n",
       "                                                             random_state=42)),\n",
       "                   prefit=True)"
      ]
     },
     "execution_count": 88,
     "metadata": {},
     "output_type": "execute_result"
    }
   ],
   "source": [
    "'''\n",
    "First Unfairness Mitigation in  Random Forest Classifier\n",
    "'''\n",
    "estimator_wrapper_rf = RF(fairness_unaware_rf).fit(X_train, y_train)\n",
    "\n",
    "postprocessed_predictor_EO_rf = ThresholdOptimizer(\n",
    "    estimator=estimator_wrapper_rf, constraints=\"equalized_odds\", prefit=True\n",
    "    #estimator=estimator_wrapper_rf, constraints=\"false_positive_rate_parity\", prefit=True\n",
    ")\n",
    "\n",
    "postprocessed_predictor_EO_rf.fit(\n",
    "    X_train, y_train, sensitive_features=sensitive_attributes_train\n",
    ")\n",
    "\n",
    "fairness_aware_predictions_EO_train_rf = postprocessed_predictor_EO_rf.predict(\n",
    "    X_train, sensitive_features=sensitive_attributes_train\n",
    ")\n",
    "fairness_aware_predictions_EO_test_rf = postprocessed_predictor_EO_rf.predict(\n",
    "    X_test, sensitive_features=sensitive_attributes_test\n",
    ")"
   ]
  },
  {
   "cell_type": "code",
   "execution_count": 89,
   "metadata": {
    "id": "eGEF2NQQDLQ8",
    "outputId": "f543a28f-61ae-4fd8-8d6e-5ddc3353b717"
   },
   "outputs": [
    {
     "data": {
      "text/plain": [
       "0.8573885272079597"
      ]
     },
     "execution_count": 89,
     "metadata": {},
     "output_type": "execute_result"
    }
   ],
   "source": [
    "unaware_y_pred = fairness_unaware_rf.predict(X_test)\n",
    "accuracy_score(y_test, unaware_y_pred)"
   ]
  },
  {
   "cell_type": "code",
   "execution_count": 90,
   "metadata": {
    "id": "GW1bEJtEDLQ9",
    "outputId": "dcbb2b62-2ec4-4601-f037-28e055758477"
   },
   "outputs": [
    {
     "data": {
      "text/plain": [
       "0.8573885272079597"
      ]
     },
     "execution_count": 90,
     "metadata": {},
     "output_type": "execute_result"
    }
   ],
   "source": [
    "accuracy_score(y_test, fairness_aware_predictions_EO_test_rf)"
   ]
  },
  {
   "cell_type": "code",
   "execution_count": 91,
   "metadata": {
    "id": "dh8e9rl7DLQ9",
    "outputId": "e489ae11-1ed5-42b7-cbe4-d89b5ec448c7"
   },
   "outputs": [
    {
     "data": {
      "text/plain": [
       "'\\nBefore Fairness Constraint Applied\\n'"
      ]
     },
     "execution_count": 91,
     "metadata": {},
     "output_type": "execute_result"
    },
    {
     "data": {
      "text/plain": [
       "sex\n",
       "0    0.931163\n",
       "1    0.821324\n",
       "dtype: float64"
      ]
     },
     "execution_count": 91,
     "metadata": {},
     "output_type": "execute_result"
    },
    {
     "data": {
      "text/plain": [
       "'\\nAfter Fairness Constraint Applied. Slight Decrease for males\\n'"
      ]
     },
     "execution_count": 91,
     "metadata": {},
     "output_type": "execute_result"
    },
    {
     "data": {
      "text/plain": [
       "sex\n",
       "0    0.930789\n",
       "1    0.821507\n",
       "dtype: float64"
      ]
     },
     "execution_count": 91,
     "metadata": {},
     "output_type": "execute_result"
    }
   ],
   "source": [
    "merged_test_rf['label_Fair'] =  fairness_aware_predictions_EO_test_rf\n",
    "'''\n",
    "Before Fairness Constraint Applied\n",
    "'''\n",
    "(merged_test_rf['label'] == merged_test_rf['label_Preds']).astype(int).groupby(merged_test_rf['sex']).mean()\n",
    "'''\n",
    "After Fairness Constraint Applied. Slight Decrease for males\n",
    "'''\n",
    "(merged_test_rf['label'] == merged_test_rf['label_Fair']).astype(int).groupby(merged_test_rf['sex']).mean()"
   ]
  },
  {
   "cell_type": "code",
   "execution_count": 92,
   "metadata": {
    "id": "bjE_xdxhDLQ9",
    "outputId": "36f814a0-adbb-47ad-9af5-2d0148379589"
   },
   "outputs": [
    {
     "data": {
      "text/plain": [
       "'\\nchecking probability for loan status for those who got their loan approved\\n\\nFairness Type: Predictive Parity Using Random Forest\\n'"
      ]
     },
     "execution_count": 92,
     "metadata": {},
     "output_type": "execute_result"
    },
    {
     "data": {
      "text/plain": [
       "sex\n",
       "0    0.610169\n",
       "1    0.639039\n",
       "Name: label_Preds, dtype: float64"
      ]
     },
     "execution_count": 92,
     "metadata": {},
     "output_type": "execute_result"
    },
    {
     "data": {
      "text/plain": [
       "'\\nAfter FPR Parity solved. Dip in fairness\\n'"
      ]
     },
     "execution_count": 92,
     "metadata": {},
     "output_type": "execute_result"
    },
    {
     "data": {
      "text/plain": [
       "sex\n",
       "0    0.623729\n",
       "1    0.661261\n",
       "Name: label_Fair, dtype: float64"
      ]
     },
     "execution_count": 92,
     "metadata": {},
     "output_type": "execute_result"
    }
   ],
   "source": [
    "'''\n",
    "checking probability for loan status for those who got their loan approved\n",
    "\n",
    "Fairness Type: Predictive Parity Using Random Forest\n",
    "'''\n",
    "merged_test_rf[merged_test_rf['label']==1]['label_Preds'].groupby(merged_test_rf['sex']).mean()\n",
    "'''\n",
    "After FPR Parity solved. Dip in fairness\n",
    "'''\n",
    "merged_test_rf[merged_test_rf['label']==1]['label_Fair'].groupby(merged_test_rf['sex']).mean()"
   ]
  },
  {
   "cell_type": "code",
   "execution_count": 93,
   "metadata": {
    "id": "45ULjtOqDLQ9",
    "outputId": "5eaa1c1e-1431-47eb-c7f1-028d84dd1e3e"
   },
   "outputs": [
    {
     "data": {
      "text/plain": [
       "'\\nChecking average >50k predictions of both genders on RF\\n'"
      ]
     },
     "execution_count": 93,
     "metadata": {},
     "output_type": "execute_result"
    },
    {
     "data": {
      "text/html": [
       "<div>\n",
       "<style scoped>\n",
       "    .dataframe tbody tr th:only-of-type {\n",
       "        vertical-align: middle;\n",
       "    }\n",
       "\n",
       "    .dataframe tbody tr th {\n",
       "        vertical-align: top;\n",
       "    }\n",
       "\n",
       "    .dataframe thead th {\n",
       "        text-align: right;\n",
       "    }\n",
       "</style>\n",
       "<table border=\"1\" class=\"dataframe\">\n",
       "  <thead>\n",
       "    <tr style=\"text-align: right;\">\n",
       "      <th>sex</th>\n",
       "      <th>0</th>\n",
       "      <th>1</th>\n",
       "    </tr>\n",
       "  </thead>\n",
       "  <tbody>\n",
       "    <tr>\n",
       "      <th>label</th>\n",
       "      <td>0.110363</td>\n",
       "      <td>0.304499</td>\n",
       "    </tr>\n",
       "    <tr>\n",
       "      <th>label_Preds</th>\n",
       "      <td>0.093154</td>\n",
       "      <td>0.263350</td>\n",
       "    </tr>\n",
       "  </tbody>\n",
       "</table>\n",
       "</div>"
      ],
      "text/plain": [
       "sex                 0         1\n",
       "label        0.110363  0.304499\n",
       "label_Preds  0.093154  0.263350"
      ]
     },
     "execution_count": 93,
     "metadata": {},
     "output_type": "execute_result"
    },
    {
     "data": {
      "text/plain": [
       "'\\nChecking average >50k predictions of both genders on RF After Fairness. Slight Improvement for males\\n'"
      ]
     },
     "execution_count": 93,
     "metadata": {},
     "output_type": "execute_result"
    },
    {
     "data": {
      "text/html": [
       "<div>\n",
       "<style scoped>\n",
       "    .dataframe tbody tr th:only-of-type {\n",
       "        vertical-align: middle;\n",
       "    }\n",
       "\n",
       "    .dataframe tbody tr th {\n",
       "        vertical-align: top;\n",
       "    }\n",
       "\n",
       "    .dataframe thead th {\n",
       "        text-align: right;\n",
       "    }\n",
       "</style>\n",
       "<table border=\"1\" class=\"dataframe\">\n",
       "  <thead>\n",
       "    <tr style=\"text-align: right;\">\n",
       "      <th>sex</th>\n",
       "      <th>0</th>\n",
       "      <th>1</th>\n",
       "    </tr>\n",
       "  </thead>\n",
       "  <tbody>\n",
       "    <tr>\n",
       "      <th>label</th>\n",
       "      <td>0.110363</td>\n",
       "      <td>0.304499</td>\n",
       "    </tr>\n",
       "    <tr>\n",
       "      <th>label_Fair</th>\n",
       "      <td>0.096521</td>\n",
       "      <td>0.276701</td>\n",
       "    </tr>\n",
       "  </tbody>\n",
       "</table>\n",
       "</div>"
      ],
      "text/plain": [
       "sex                0         1\n",
       "label       0.110363  0.304499\n",
       "label_Fair  0.096521  0.276701"
      ]
     },
     "execution_count": 93,
     "metadata": {},
     "output_type": "execute_result"
    }
   ],
   "source": [
    "'''\n",
    "Checking average >50k predictions of both genders on RF\n",
    "'''\n",
    "merged_test_rf.groupby('sex').agg({'label': 'mean',  \n",
    "                        'label_Preds': 'mean'}).transpose()\n",
    "'''\n",
    "Checking average >50k predictions of both genders on RF After Fairness. Slight Improvement for males\n",
    "'''\n",
    "merged_test_rf.groupby('sex').agg({'label': 'mean',  \n",
    "                        'label_Fair': 'mean'}).transpose()"
   ]
  },
  {
   "cell_type": "code",
   "execution_count": 94,
   "metadata": {
    "id": "BFn_KEbTDLQ-",
    "outputId": "0b7113f6-6838-40cd-9447-2492247cca2d"
   },
   "outputs": [
    {
     "name": "stdout",
     "output_type": "stream",
     "text": [
      "RF\n",
      "FPR for Female Gender: 0.029015979814970564 | FPR for Male Gender: 0.09886931369971075\n",
      "FNR for Female Gender: 0.3898305084745763 | FNR for Male Gender: 0.360960960960961\n",
      "\n",
      "\n"
     ]
    },
    {
     "data": {
      "text/plain": [
       "'\\nAfter fairness\\n'"
      ]
     },
     "execution_count": 94,
     "metadata": {},
     "output_type": "execute_result"
    },
    {
     "name": "stdout",
     "output_type": "stream",
     "text": [
      "RF\n",
      "FPR for Female Gender: 0.031118587047939444 | FPR for Male Gender: 0.10833552458585327\n",
      "FNR for Female Gender: 0.376271186440678 | FNR for Male Gender: 0.3387387387387387\n",
      "\n",
      "\n"
     ]
    }
   ],
   "source": [
    "rf_male_metrics, rf_female_metrics = calc_confusion_metrics(merged_test_rf, tag = False)\n",
    "fpr_fnr(rf_male_metrics, rf_female_metrics, tag= 'RF')\n",
    "'''\n",
    "After fairness\n",
    "'''\n",
    "rf_male_metrics, rf_female_metrics = calc_confusion_metrics(merged_test_rf, tag = True)\n",
    "fpr_fnr(rf_male_metrics, rf_female_metrics, tag= 'RF')"
   ]
  },
  {
   "cell_type": "markdown",
   "metadata": {
    "id": "DipgyFjfDLQ-"
   },
   "source": [
    "# Mitigating Logistic Regression Unfairness"
   ]
  },
  {
   "cell_type": "code",
   "execution_count": 95,
   "metadata": {
    "id": "VkOOrwYVDLQ-",
    "outputId": "643e807b-ce9a-4d0c-d06e-3e2ba9eb1a41"
   },
   "outputs": [
    {
     "data": {
      "text/plain": [
       "'\\nFirst Unfairness Mitigation in  Logistic Regression Classifier\\n'"
      ]
     },
     "execution_count": 95,
     "metadata": {},
     "output_type": "execute_result"
    },
    {
     "name": "stderr",
     "output_type": "stream",
     "text": [
      "'predict_method' default value is changed from 'predict' to 'auto'. Explicitly pass `predict_method='predict' to replicate the old behavior, or pass `predict_method='auto' or other valid values to silence this warning.\n"
     ]
    },
    {
     "data": {
      "text/plain": [
       "ThresholdOptimizer(constraints='equalized_odds',\n",
       "                   estimator=LR(model=LogisticRegression(solver='liblinear')),\n",
       "                   prefit=True)"
      ]
     },
     "execution_count": 95,
     "metadata": {},
     "output_type": "execute_result"
    },
    {
     "data": {
      "text/plain": [
       "0.7959710109323179"
      ]
     },
     "execution_count": 95,
     "metadata": {},
     "output_type": "execute_result"
    }
   ],
   "source": [
    "'''\n",
    "First Unfairness Mitigation in  Logistic Regression Classifier\n",
    "'''\n",
    "estimator_wrapper_lr = LR(fairness_unaware_lr).fit(X_train, y_train)\n",
    "\n",
    "postprocessed_predictor_EO_lr = ThresholdOptimizer(\n",
    "    estimator=estimator_wrapper_lr, constraints=\"equalized_odds\", prefit=True\n",
    "    #estimator=estimator_wrapper_rf, constraints=\"false_positive_rate_parity\", prefit=True\n",
    ")\n",
    "\n",
    "postprocessed_predictor_EO_lr.fit(\n",
    "    X_train, y_train, sensitive_features=sensitive_attributes_train\n",
    ")\n",
    "\n",
    "fairness_aware_predictions_EO_train_lr = postprocessed_predictor_EO_lr.predict(\n",
    "    X_train, sensitive_features=sensitive_attributes_train\n",
    ")\n",
    "fairness_aware_predictions_EO_test_lr = postprocessed_predictor_EO_lr.predict(\n",
    "    X_test, sensitive_features=sensitive_attributes_test\n",
    ")\n",
    "unaware_y_pred_lr = fairness_unaware_lr.predict(X_test)\n",
    "accuracy_score(y_test, unaware_y_pred_lr)"
   ]
  },
  {
   "cell_type": "code",
   "execution_count": 96,
   "metadata": {
    "id": "MdtAIWbWDLQ-",
    "outputId": "b702260d-6ac7-4276-9719-4a5204a0f8cb"
   },
   "outputs": [
    {
     "data": {
      "text/plain": [
       "0.7996560619088564"
      ]
     },
     "execution_count": 96,
     "metadata": {},
     "output_type": "execute_result"
    }
   ],
   "source": [
    "accuracy_score(y_test, fairness_aware_predictions_EO_test_lr)"
   ]
  },
  {
   "cell_type": "code",
   "execution_count": 97,
   "metadata": {
    "id": "FPZhSkzyDLQ-",
    "outputId": "d747abae-fafe-45b0-d9e4-09f05161a917"
   },
   "outputs": [
    {
     "data": {
      "text/plain": [
       "'\\nBefore Fairness Constraint Applied\\n'"
      ]
     },
     "execution_count": 97,
     "metadata": {},
     "output_type": "execute_result"
    },
    {
     "data": {
      "text/plain": [
       "sex\n",
       "0    0.893752\n",
       "1    0.748171\n",
       "dtype: float64"
      ]
     },
     "execution_count": 97,
     "metadata": {},
     "output_type": "execute_result"
    },
    {
     "data": {
      "text/plain": [
       "'\\nAfter Fairness Constraint Applied. Significant Increase\\n'"
      ]
     },
     "execution_count": 97,
     "metadata": {},
     "output_type": "execute_result"
    },
    {
     "data": {
      "text/plain": [
       "sex\n",
       "0    0.906472\n",
       "1    0.747440\n",
       "dtype: float64"
      ]
     },
     "execution_count": 97,
     "metadata": {},
     "output_type": "execute_result"
    }
   ],
   "source": [
    "merged_test_lr['label_Fair'] =  fairness_aware_predictions_EO_test_lr\n",
    "'''\n",
    "Before Fairness Constraint Applied\n",
    "'''\n",
    "(merged_test_lr['label'] == merged_test_lr['label_Preds']).astype(int).groupby(merged_test_lr['sex']).mean()\n",
    "'''\n",
    "After Fairness Constraint Applied. Significant Increase\n",
    "'''\n",
    "(merged_test_lr['label'] == merged_test_lr['label_Fair']).astype(int).groupby(merged_test_lr['sex']).mean()"
   ]
  },
  {
   "cell_type": "code",
   "execution_count": 98,
   "metadata": {
    "id": "BX2t9PSDDLQ-",
    "outputId": "d6828a4d-e7f7-4d8e-d6ff-3373b323cfb6"
   },
   "outputs": [
    {
     "data": {
      "text/plain": [
       "'\\nchecking probability for >50k \\n\\nFairness Type: Predictive Parity Using LR\\n'"
      ]
     },
     "execution_count": 98,
     "metadata": {},
     "output_type": "execute_result"
    },
    {
     "data": {
      "text/plain": [
       "sex\n",
       "0    0.301695\n",
       "1    0.283483\n",
       "Name: label_Preds, dtype: float64"
      ]
     },
     "execution_count": 98,
     "metadata": {},
     "output_type": "execute_result"
    },
    {
     "data": {
      "text/plain": [
       "'\\nAfter FPR Parity solved. Significant Improvement.\\n'"
      ]
     },
     "execution_count": 98,
     "metadata": {},
     "output_type": "execute_result"
    },
    {
     "data": {
      "text/plain": [
       "sex\n",
       "0    0.223729\n",
       "1    0.192192\n",
       "Name: label_Fair, dtype: float64"
      ]
     },
     "execution_count": 98,
     "metadata": {},
     "output_type": "execute_result"
    }
   ],
   "source": [
    "'''\n",
    "checking probability for >50k \n",
    "\n",
    "Fairness Type: Predictive Parity Using LR\n",
    "'''\n",
    "merged_test_lr[merged_test_lr['label']==1]['label_Preds'].groupby(merged_test_lr['sex']).mean()\n",
    "'''\n",
    "After FPR Parity solved. Significant Improvement.\n",
    "'''\n",
    "merged_test_lr[merged_test_lr['label']==1]['label_Fair'].groupby(merged_test_lr['sex']).mean()"
   ]
  },
  {
   "cell_type": "code",
   "execution_count": 99,
   "metadata": {
    "id": "tFQR1i9yDLQ_",
    "outputId": "2a438f34-638a-47cf-b8ce-a874b775e976"
   },
   "outputs": [
    {
     "data": {
      "text/plain": [
       "'\\nChecking average >50k of both genders on LR\\n'"
      ]
     },
     "execution_count": 99,
     "metadata": {},
     "output_type": "execute_result"
    },
    {
     "data": {
      "text/html": [
       "<div>\n",
       "<style scoped>\n",
       "    .dataframe tbody tr th:only-of-type {\n",
       "        vertical-align: middle;\n",
       "    }\n",
       "\n",
       "    .dataframe tbody tr th {\n",
       "        vertical-align: top;\n",
       "    }\n",
       "\n",
       "    .dataframe thead th {\n",
       "        text-align: right;\n",
       "    }\n",
       "</style>\n",
       "<table border=\"1\" class=\"dataframe\">\n",
       "  <thead>\n",
       "    <tr style=\"text-align: right;\">\n",
       "      <th>sex</th>\n",
       "      <th>0</th>\n",
       "      <th>1</th>\n",
       "    </tr>\n",
       "  </thead>\n",
       "  <tbody>\n",
       "    <tr>\n",
       "      <th>label</th>\n",
       "      <td>0.110363</td>\n",
       "      <td>0.304499</td>\n",
       "    </tr>\n",
       "    <tr>\n",
       "      <th>label_Preds</th>\n",
       "      <td>0.062477</td>\n",
       "      <td>0.119971</td>\n",
       "    </tr>\n",
       "  </tbody>\n",
       "</table>\n",
       "</div>"
      ],
      "text/plain": [
       "sex                 0         1\n",
       "label        0.110363  0.304499\n",
       "label_Preds  0.062477  0.119971"
      ]
     },
     "execution_count": 99,
     "metadata": {},
     "output_type": "execute_result"
    },
    {
     "data": {
      "text/plain": [
       "'\\nChecking average >50k of both genders on RF After Fairness. Slight Improvement for males\\n'"
      ]
     },
     "execution_count": 99,
     "metadata": {},
     "output_type": "execute_result"
    },
    {
     "data": {
      "text/html": [
       "<div>\n",
       "<style scoped>\n",
       "    .dataframe tbody tr th:only-of-type {\n",
       "        vertical-align: middle;\n",
       "    }\n",
       "\n",
       "    .dataframe tbody tr th {\n",
       "        vertical-align: top;\n",
       "    }\n",
       "\n",
       "    .dataframe thead th {\n",
       "        text-align: right;\n",
       "    }\n",
       "</style>\n",
       "<table border=\"1\" class=\"dataframe\">\n",
       "  <thead>\n",
       "    <tr style=\"text-align: right;\">\n",
       "      <th>sex</th>\n",
       "      <th>0</th>\n",
       "      <th>1</th>\n",
       "    </tr>\n",
       "  </thead>\n",
       "  <tbody>\n",
       "    <tr>\n",
       "      <th>label</th>\n",
       "      <td>0.110363</td>\n",
       "      <td>0.304499</td>\n",
       "    </tr>\n",
       "    <tr>\n",
       "      <th>label_Fair</th>\n",
       "      <td>0.032548</td>\n",
       "      <td>0.065106</td>\n",
       "    </tr>\n",
       "  </tbody>\n",
       "</table>\n",
       "</div>"
      ],
      "text/plain": [
       "sex                0         1\n",
       "label       0.110363  0.304499\n",
       "label_Fair  0.032548  0.065106"
      ]
     },
     "execution_count": 99,
     "metadata": {},
     "output_type": "execute_result"
    }
   ],
   "source": [
    "'''\n",
    "Checking average >50k of both genders on LR\n",
    "'''\n",
    "merged_test_lr.groupby('sex').agg({'label': 'mean',  \n",
    "                        'label_Preds': 'mean'}).transpose()\n",
    "'''\n",
    "Checking average >50k of both genders on RF After Fairness. Slight Improvement for males\n",
    "'''\n",
    "merged_test_lr.groupby('sex').agg({'label': 'mean',  \n",
    "                        'label_Fair': 'mean'}).transpose()"
   ]
  },
  {
   "cell_type": "code",
   "execution_count": 100,
   "metadata": {
    "id": "ur30Rw4HDLQ_",
    "outputId": "47c6d296-77f9-4ffe-9676-b4c0ccca6a64"
   },
   "outputs": [
    {
     "data": {
      "text/plain": [
       "'\\nEqualised Odds\\n'"
      ]
     },
     "execution_count": 100,
     "metadata": {},
     "output_type": "execute_result"
    },
    {
     "name": "stdout",
     "output_type": "stream",
     "text": [
      "LR\n",
      "FPR for Female Gender: 0.03280067283431455 | FPR for Male Gender: 0.04838285564028399\n",
      "FNR for Female Gender: 0.6983050847457627 | FNR for Male Gender: 0.7165165165165165\n",
      "\n",
      "\n"
     ]
    },
    {
     "data": {
      "text/plain": [
       "'\\nAfter fairness\\n'"
      ]
     },
     "execution_count": 100,
     "metadata": {},
     "output_type": "execute_result"
    },
    {
     "name": "stdout",
     "output_type": "stream",
     "text": [
      "LR\n",
      "FPR for Female Gender: 0.008830950378469302 | FPR for Male Gender: 0.00946621088614252\n",
      "FNR for Female Gender: 0.7762711864406779 | FNR for Male Gender: 0.8078078078078078\n",
      "\n",
      "\n"
     ]
    }
   ],
   "source": [
    "'''\n",
    "Equalised Odds\n",
    "'''\n",
    "lr_male_metrics, lr_female_metrics = calc_confusion_metrics(merged_test_lr, tag = False)\n",
    "fpr_fnr(lr_male_metrics, lr_female_metrics, tag= 'LR')\n",
    "'''\n",
    "After fairness\n",
    "'''\n",
    "lr_male_metrics, lr_female_metrics = calc_confusion_metrics(merged_test_lr, tag = True)\n",
    "fpr_fnr(lr_male_metrics, lr_female_metrics, tag= 'LR')"
   ]
  },
  {
   "cell_type": "code",
   "execution_count": 101,
   "metadata": {
    "id": "mrtwJ4TDDLRA"
   },
   "outputs": [],
   "source": [
    "def show_proportions(\n",
    "    X, sensitive_features, y_pred, y=None, description=None, plot_row_index=1\n",
    "):\n",
    "    print(\"\\n\" + description)\n",
    "    plt.figure(plot_row_index)\n",
    "    plt.title(description)\n",
    "    plt.ylabel(\"P[recidivism predicted | conditions]\")\n",
    "\n",
    "    indices = {}\n",
    "    positive_indices = {}\n",
    "    negative_indices = {}\n",
    "    recidivism_count = {}\n",
    "    recidivism_pct = {}\n",
    "    groups = np.unique(sensitive_features.values)\n",
    "    n_groups = len(groups)\n",
    "    max_group_length = 1#max([len(str(group)) for group in groups])\n",
    "    color = cm.rainbow(np.linspace(0, 1, n_groups))\n",
    "    x_tick_labels_basic = []\n",
    "    x_tick_labels_by_label = []\n",
    "    for index, group in enumerate(groups):\n",
    "        indices[group] = sensitive_features.index[sensitive_features == group]\n",
    "        recidivism_count[group] = sum(y_pred[indices[group]])\n",
    "        recidivism_pct[group] = recidivism_count[group] / len(indices[group])\n",
    "        print(\n",
    "            \"P[recidivism predicted | {}]                {}= {}\".format(\n",
    "                group, \" \" * (max_group_length - len(group)), recidivism_pct[group]\n",
    "            )\n",
    "        )\n",
    "\n",
    "        plt.bar(index + 1, recidivism_pct[group], color=color[index])\n",
    "        x_tick_labels_basic.append(group)\n",
    "\n",
    "        if y is not None:\n",
    "            positive_indices[group] = sensitive_features.index[\n",
    "                (sensitive_features == group) & (y == 1)\n",
    "            ]\n",
    "            negative_indices[group] = sensitive_features.index[\n",
    "                (sensitive_features == group) & (y == 0)\n",
    "            ]\n",
    "            prob_1 = sum(y_pred[positive_indices[group]]) / len(positive_indices[group])\n",
    "            prob_0 = sum(y_pred[negative_indices[group]]) / len(negative_indices[group])\n",
    "            print(\n",
    "                \"P[recidivism predicted | {}, recidivism]    {}= {}\".format(\n",
    "                    group, \" \" * (max_group_length - len(group)), prob_1\n",
    "                )\n",
    "            )\n",
    "            print(\n",
    "                \"P[recidivism predicted | {}, no recidivism] {}= {}\".format(\n",
    "                    group, \" \" * (max_group_length - len(group)), prob_0\n",
    "                )\n",
    "            )\n",
    "\n",
    "            plt.bar(n_groups + 1 + 2 * index, prob_1, color=color[index])\n",
    "            plt.bar(n_groups + 2 + 2 * index, prob_0, color=color[index])\n",
    "            x_tick_labels_by_label.extend(\n",
    "                [\"{} recidivism\".format(group), \"{} no recidivism\".format(group)]\n",
    "            )\n",
    "\n",
    "    x_tick_labels = x_tick_labels_basic + x_tick_labels_by_label\n",
    "    plt.xticks(\n",
    "        range(1, len(x_tick_labels) + 1),\n",
    "        x_tick_labels,\n",
    "        rotation=45,\n",
    "        horizontalalignment=\"right\",\n",
    "    )"
   ]
  },
  {
   "cell_type": "code",
   "execution_count": 102,
   "metadata": {
    "id": "koIS_pAhDLRA",
    "outputId": "90576b4b-f720-462e-a74b-343e5aaf3526"
   },
   "outputs": [
    {
     "ename": "TypeError",
     "evalue": "Cannot compare types 'ndarray(dtype=int32)' and 'str'",
     "output_type": "error",
     "traceback": [
      "\u001b[1;31m---------------------------------------------------------------------------\u001b[0m",
      "\u001b[1;31mTypeError\u001b[0m                                 Traceback (most recent call last)",
      "\u001b[1;32m<ipython-input-102-89619be0e3a3>\u001b[0m in \u001b[0;36m<module>\u001b[1;34m\u001b[0m\n\u001b[0;32m      1\u001b[0m \u001b[1;31m#X_test = X_test.drop(['Gender'], axis = 1)\u001b[0m\u001b[1;33m\u001b[0m\u001b[1;33m\u001b[0m\u001b[1;33m\u001b[0m\u001b[0m\n\u001b[1;32m----> 2\u001b[1;33m \u001b[0mX_test\u001b[0m\u001b[1;33m[\u001b[0m\u001b[1;34m'sex'\u001b[0m\u001b[1;33m]\u001b[0m \u001b[1;33m=\u001b[0m \u001b[0msensitive_attributes_test\u001b[0m\u001b[1;33m.\u001b[0m\u001b[0mreplace\u001b[0m\u001b[1;33m(\u001b[0m\u001b[1;33m{\u001b[0m\u001b[1;34m\"Female\"\u001b[0m\u001b[1;33m:\u001b[0m \u001b[1;36m0\u001b[0m\u001b[1;33m,\u001b[0m \u001b[1;34m\"Male\"\u001b[0m\u001b[1;33m:\u001b[0m \u001b[1;36m1\u001b[0m\u001b[1;33m}\u001b[0m\u001b[1;33m,\u001b[0m \u001b[0minplace\u001b[0m\u001b[1;33m=\u001b[0m\u001b[1;32mTrue\u001b[0m\u001b[1;33m)\u001b[0m\u001b[1;33m\u001b[0m\u001b[1;33m\u001b[0m\u001b[0m\n\u001b[0m\u001b[0;32m      3\u001b[0m \u001b[0msensitive_attributes_test\u001b[0m\u001b[1;33m.\u001b[0m\u001b[0mreplace\u001b[0m\u001b[1;33m(\u001b[0m\u001b[1;33m{\u001b[0m\u001b[1;36m0\u001b[0m\u001b[1;33m:\u001b[0m \u001b[1;34m\"Female\"\u001b[0m\u001b[1;33m,\u001b[0m \u001b[1;36m1\u001b[0m\u001b[1;33m:\u001b[0m \u001b[1;34m\"Male\"\u001b[0m\u001b[1;33m}\u001b[0m\u001b[1;33m,\u001b[0m \u001b[0minplace\u001b[0m\u001b[1;33m=\u001b[0m\u001b[1;32mTrue\u001b[0m\u001b[1;33m)\u001b[0m\u001b[1;33m\u001b[0m\u001b[1;33m\u001b[0m\u001b[0m\n\u001b[0;32m      4\u001b[0m show_proportions(\n\u001b[0;32m      5\u001b[0m     \u001b[0mX_test\u001b[0m\u001b[1;33m,\u001b[0m\u001b[1;33m\u001b[0m\u001b[1;33m\u001b[0m\u001b[0m\n",
      "\u001b[1;32m~\\miniconda3\\envs\\DMM\\lib\\site-packages\\pandas\\core\\series.py\u001b[0m in \u001b[0;36mreplace\u001b[1;34m(self, to_replace, value, inplace, limit, regex, method)\u001b[0m\n\u001b[0;32m   4580\u001b[0m             \u001b[0mlimit\u001b[0m\u001b[1;33m=\u001b[0m\u001b[0mlimit\u001b[0m\u001b[1;33m,\u001b[0m\u001b[1;33m\u001b[0m\u001b[1;33m\u001b[0m\u001b[0m\n\u001b[0;32m   4581\u001b[0m             \u001b[0mregex\u001b[0m\u001b[1;33m=\u001b[0m\u001b[0mregex\u001b[0m\u001b[1;33m,\u001b[0m\u001b[1;33m\u001b[0m\u001b[1;33m\u001b[0m\u001b[0m\n\u001b[1;32m-> 4582\u001b[1;33m             \u001b[0mmethod\u001b[0m\u001b[1;33m=\u001b[0m\u001b[0mmethod\u001b[0m\u001b[1;33m,\u001b[0m\u001b[1;33m\u001b[0m\u001b[1;33m\u001b[0m\u001b[0m\n\u001b[0m\u001b[0;32m   4583\u001b[0m         )\n\u001b[0;32m   4584\u001b[0m \u001b[1;33m\u001b[0m\u001b[0m\n",
      "\u001b[1;32m~\\miniconda3\\envs\\DMM\\lib\\site-packages\\pandas\\core\\generic.py\u001b[0m in \u001b[0;36mreplace\u001b[1;34m(self, to_replace, value, inplace, limit, regex, method)\u001b[0m\n\u001b[0;32m   6505\u001b[0m \u001b[1;33m\u001b[0m\u001b[0m\n\u001b[0;32m   6506\u001b[0m             return self.replace(\n\u001b[1;32m-> 6507\u001b[1;33m                 \u001b[0mto_replace\u001b[0m\u001b[1;33m,\u001b[0m \u001b[0mvalue\u001b[0m\u001b[1;33m,\u001b[0m \u001b[0minplace\u001b[0m\u001b[1;33m=\u001b[0m\u001b[0minplace\u001b[0m\u001b[1;33m,\u001b[0m \u001b[0mlimit\u001b[0m\u001b[1;33m=\u001b[0m\u001b[0mlimit\u001b[0m\u001b[1;33m,\u001b[0m \u001b[0mregex\u001b[0m\u001b[1;33m=\u001b[0m\u001b[0mregex\u001b[0m\u001b[1;33m\u001b[0m\u001b[1;33m\u001b[0m\u001b[0m\n\u001b[0m\u001b[0;32m   6508\u001b[0m             )\n\u001b[0;32m   6509\u001b[0m         \u001b[1;32melse\u001b[0m\u001b[1;33m:\u001b[0m\u001b[1;33m\u001b[0m\u001b[1;33m\u001b[0m\u001b[0m\n",
      "\u001b[1;32m~\\miniconda3\\envs\\DMM\\lib\\site-packages\\pandas\\core\\series.py\u001b[0m in \u001b[0;36mreplace\u001b[1;34m(self, to_replace, value, inplace, limit, regex, method)\u001b[0m\n\u001b[0;32m   4580\u001b[0m             \u001b[0mlimit\u001b[0m\u001b[1;33m=\u001b[0m\u001b[0mlimit\u001b[0m\u001b[1;33m,\u001b[0m\u001b[1;33m\u001b[0m\u001b[1;33m\u001b[0m\u001b[0m\n\u001b[0;32m   4581\u001b[0m             \u001b[0mregex\u001b[0m\u001b[1;33m=\u001b[0m\u001b[0mregex\u001b[0m\u001b[1;33m,\u001b[0m\u001b[1;33m\u001b[0m\u001b[1;33m\u001b[0m\u001b[0m\n\u001b[1;32m-> 4582\u001b[1;33m             \u001b[0mmethod\u001b[0m\u001b[1;33m=\u001b[0m\u001b[0mmethod\u001b[0m\u001b[1;33m,\u001b[0m\u001b[1;33m\u001b[0m\u001b[1;33m\u001b[0m\u001b[0m\n\u001b[0m\u001b[0;32m   4583\u001b[0m         )\n\u001b[0;32m   4584\u001b[0m \u001b[1;33m\u001b[0m\u001b[0m\n",
      "\u001b[1;32m~\\miniconda3\\envs\\DMM\\lib\\site-packages\\pandas\\core\\generic.py\u001b[0m in \u001b[0;36mreplace\u001b[1;34m(self, to_replace, value, inplace, limit, regex, method)\u001b[0m\n\u001b[0;32m   6551\u001b[0m                         \u001b[0mdest_list\u001b[0m\u001b[1;33m=\u001b[0m\u001b[0mvalue\u001b[0m\u001b[1;33m,\u001b[0m\u001b[1;33m\u001b[0m\u001b[1;33m\u001b[0m\u001b[0m\n\u001b[0;32m   6552\u001b[0m                         \u001b[0minplace\u001b[0m\u001b[1;33m=\u001b[0m\u001b[0minplace\u001b[0m\u001b[1;33m,\u001b[0m\u001b[1;33m\u001b[0m\u001b[1;33m\u001b[0m\u001b[0m\n\u001b[1;32m-> 6553\u001b[1;33m                         \u001b[0mregex\u001b[0m\u001b[1;33m=\u001b[0m\u001b[0mregex\u001b[0m\u001b[1;33m,\u001b[0m\u001b[1;33m\u001b[0m\u001b[1;33m\u001b[0m\u001b[0m\n\u001b[0m\u001b[0;32m   6554\u001b[0m                     )\n\u001b[0;32m   6555\u001b[0m \u001b[1;33m\u001b[0m\u001b[0m\n",
      "\u001b[1;32m~\\miniconda3\\envs\\DMM\\lib\\site-packages\\pandas\\core\\internals\\managers.py\u001b[0m in \u001b[0;36mreplace_list\u001b[1;34m(self, src_list, dest_list, inplace, regex)\u001b[0m\n\u001b[0;32m    649\u001b[0m         \u001b[0mmask\u001b[0m \u001b[1;33m=\u001b[0m \u001b[1;33m~\u001b[0m\u001b[0misna\u001b[0m\u001b[1;33m(\u001b[0m\u001b[0mvalues\u001b[0m\u001b[1;33m)\u001b[0m\u001b[1;33m\u001b[0m\u001b[1;33m\u001b[0m\u001b[0m\n\u001b[0;32m    650\u001b[0m \u001b[1;33m\u001b[0m\u001b[0m\n\u001b[1;32m--> 651\u001b[1;33m         \u001b[0mmasks\u001b[0m \u001b[1;33m=\u001b[0m \u001b[1;33m[\u001b[0m\u001b[0mcomp\u001b[0m\u001b[1;33m(\u001b[0m\u001b[0ms\u001b[0m\u001b[1;33m,\u001b[0m \u001b[0mmask\u001b[0m\u001b[1;33m,\u001b[0m \u001b[0mregex\u001b[0m\u001b[1;33m)\u001b[0m \u001b[1;32mfor\u001b[0m \u001b[0ms\u001b[0m \u001b[1;32min\u001b[0m \u001b[0msrc_list\u001b[0m\u001b[1;33m]\u001b[0m\u001b[1;33m\u001b[0m\u001b[1;33m\u001b[0m\u001b[0m\n\u001b[0m\u001b[0;32m    652\u001b[0m \u001b[1;33m\u001b[0m\u001b[0m\n\u001b[0;32m    653\u001b[0m         \u001b[0mresult_blocks\u001b[0m \u001b[1;33m=\u001b[0m \u001b[1;33m[\u001b[0m\u001b[1;33m]\u001b[0m\u001b[1;33m\u001b[0m\u001b[1;33m\u001b[0m\u001b[0m\n",
      "\u001b[1;32m~\\miniconda3\\envs\\DMM\\lib\\site-packages\\pandas\\core\\internals\\managers.py\u001b[0m in \u001b[0;36m<listcomp>\u001b[1;34m(.0)\u001b[0m\n\u001b[0;32m    649\u001b[0m         \u001b[0mmask\u001b[0m \u001b[1;33m=\u001b[0m \u001b[1;33m~\u001b[0m\u001b[0misna\u001b[0m\u001b[1;33m(\u001b[0m\u001b[0mvalues\u001b[0m\u001b[1;33m)\u001b[0m\u001b[1;33m\u001b[0m\u001b[1;33m\u001b[0m\u001b[0m\n\u001b[0;32m    650\u001b[0m \u001b[1;33m\u001b[0m\u001b[0m\n\u001b[1;32m--> 651\u001b[1;33m         \u001b[0mmasks\u001b[0m \u001b[1;33m=\u001b[0m \u001b[1;33m[\u001b[0m\u001b[0mcomp\u001b[0m\u001b[1;33m(\u001b[0m\u001b[0ms\u001b[0m\u001b[1;33m,\u001b[0m \u001b[0mmask\u001b[0m\u001b[1;33m,\u001b[0m \u001b[0mregex\u001b[0m\u001b[1;33m)\u001b[0m \u001b[1;32mfor\u001b[0m \u001b[0ms\u001b[0m \u001b[1;32min\u001b[0m \u001b[0msrc_list\u001b[0m\u001b[1;33m]\u001b[0m\u001b[1;33m\u001b[0m\u001b[1;33m\u001b[0m\u001b[0m\n\u001b[0m\u001b[0;32m    652\u001b[0m \u001b[1;33m\u001b[0m\u001b[0m\n\u001b[0;32m    653\u001b[0m         \u001b[0mresult_blocks\u001b[0m \u001b[1;33m=\u001b[0m \u001b[1;33m[\u001b[0m\u001b[1;33m]\u001b[0m\u001b[1;33m\u001b[0m\u001b[1;33m\u001b[0m\u001b[0m\n",
      "\u001b[1;32m~\\miniconda3\\envs\\DMM\\lib\\site-packages\\pandas\\core\\internals\\managers.py\u001b[0m in \u001b[0;36mcomp\u001b[1;34m(s, mask, regex)\u001b[0m\n\u001b[0;32m    643\u001b[0m \u001b[1;33m\u001b[0m\u001b[0m\n\u001b[0;32m    644\u001b[0m             \u001b[0ms\u001b[0m \u001b[1;33m=\u001b[0m \u001b[0mcom\u001b[0m\u001b[1;33m.\u001b[0m\u001b[0mmaybe_box_datetimelike\u001b[0m\u001b[1;33m(\u001b[0m\u001b[0ms\u001b[0m\u001b[1;33m)\u001b[0m\u001b[1;33m\u001b[0m\u001b[1;33m\u001b[0m\u001b[0m\n\u001b[1;32m--> 645\u001b[1;33m             \u001b[1;32mreturn\u001b[0m \u001b[0m_compare_or_regex_search\u001b[0m\u001b[1;33m(\u001b[0m\u001b[0mvalues\u001b[0m\u001b[1;33m,\u001b[0m \u001b[0ms\u001b[0m\u001b[1;33m,\u001b[0m \u001b[0mregex\u001b[0m\u001b[1;33m,\u001b[0m \u001b[0mmask\u001b[0m\u001b[1;33m)\u001b[0m\u001b[1;33m\u001b[0m\u001b[1;33m\u001b[0m\u001b[0m\n\u001b[0m\u001b[0;32m    646\u001b[0m \u001b[1;33m\u001b[0m\u001b[0m\n\u001b[0;32m    647\u001b[0m         \u001b[1;31m# Calculate the mask once, prior to the call of comp\u001b[0m\u001b[1;33m\u001b[0m\u001b[1;33m\u001b[0m\u001b[1;33m\u001b[0m\u001b[0m\n",
      "\u001b[1;32m~\\miniconda3\\envs\\DMM\\lib\\site-packages\\pandas\\core\\internals\\managers.py\u001b[0m in \u001b[0;36m_compare_or_regex_search\u001b[1;34m(a, b, regex, mask)\u001b[0m\n\u001b[0;32m   1999\u001b[0m     \u001b[1;32mif\u001b[0m \u001b[0mis_datetimelike_v_numeric\u001b[0m\u001b[1;33m(\u001b[0m\u001b[0ma\u001b[0m\u001b[1;33m,\u001b[0m \u001b[0mb\u001b[0m\u001b[1;33m)\u001b[0m \u001b[1;32mor\u001b[0m \u001b[0mis_numeric_v_string_like\u001b[0m\u001b[1;33m(\u001b[0m\u001b[0ma\u001b[0m\u001b[1;33m,\u001b[0m \u001b[0mb\u001b[0m\u001b[1;33m)\u001b[0m\u001b[1;33m:\u001b[0m\u001b[1;33m\u001b[0m\u001b[1;33m\u001b[0m\u001b[0m\n\u001b[0;32m   2000\u001b[0m         \u001b[1;31m# GH#29553 avoid deprecation warnings from numpy\u001b[0m\u001b[1;33m\u001b[0m\u001b[1;33m\u001b[0m\u001b[1;33m\u001b[0m\u001b[0m\n\u001b[1;32m-> 2001\u001b[1;33m         \u001b[0m_check_comparison_types\u001b[0m\u001b[1;33m(\u001b[0m\u001b[1;32mFalse\u001b[0m\u001b[1;33m,\u001b[0m \u001b[0ma\u001b[0m\u001b[1;33m,\u001b[0m \u001b[0mb\u001b[0m\u001b[1;33m)\u001b[0m\u001b[1;33m\u001b[0m\u001b[1;33m\u001b[0m\u001b[0m\n\u001b[0m\u001b[0;32m   2002\u001b[0m         \u001b[1;32mreturn\u001b[0m \u001b[1;32mFalse\u001b[0m\u001b[1;33m\u001b[0m\u001b[1;33m\u001b[0m\u001b[0m\n\u001b[0;32m   2003\u001b[0m \u001b[1;33m\u001b[0m\u001b[0m\n",
      "\u001b[1;32m~\\miniconda3\\envs\\DMM\\lib\\site-packages\\pandas\\core\\internals\\managers.py\u001b[0m in \u001b[0;36m_check_comparison_types\u001b[1;34m(result, a, b)\u001b[0m\n\u001b[0;32m   1979\u001b[0m \u001b[1;33m\u001b[0m\u001b[0m\n\u001b[0;32m   1980\u001b[0m             raise TypeError(\n\u001b[1;32m-> 1981\u001b[1;33m                 \u001b[1;34mf\"Cannot compare types {repr(type_names[0])} and {repr(type_names[1])}\"\u001b[0m\u001b[1;33m\u001b[0m\u001b[1;33m\u001b[0m\u001b[0m\n\u001b[0m\u001b[0;32m   1982\u001b[0m             )\n\u001b[0;32m   1983\u001b[0m \u001b[1;33m\u001b[0m\u001b[0m\n",
      "\u001b[1;31mTypeError\u001b[0m: Cannot compare types 'ndarray(dtype=int32)' and 'str'"
     ]
    }
   ],
   "source": [
    "#X_test = X_test.drop(['Gender'], axis = 1)\n",
    "X_test['sex'] = sensitive_attributes_test.replace({\"Female\": 0, \"Male\": 1}, inplace=True)\n",
    "sensitive_attributes_test.replace({0: \"Female\", 1: \"Male\"}, inplace=True)\n",
    "show_proportions(\n",
    "    X_test,\n",
    "    sensitive_attributes_test,\n",
    "    fairness_unaware_lr.predict(X_test),\n",
    "    y_test,\n",
    "    description=\"Fairness Unaware LR\",\n",
    "    plot_row_index=1,\n",
    ")\n",
    "# show_proportions(\n",
    "#     X_test,\n",
    "#     sensitive_attributes_test,\n",
    "#     fairness_aware_predictions_EO_test_lr,\n",
    "#     y_test,\n",
    "#     description=\"Equalized Odds Postprocessing Using Fairlearn\",\n",
    "#     plot_row_index=2,\n",
    "# )\n",
    "# plt.show()"
   ]
  },
  {
   "cell_type": "code",
   "execution_count": null,
   "metadata": {
    "id": "J2Z3VCLaDLRA"
   },
   "outputs": [],
   "source": []
  }
 ],
 "metadata": {
  "colab": {
   "name": "Loan-Approval-EDA+Fairness.ipynb",
   "provenance": []
  },
  "kernelspec": {
   "display_name": "Python 3",
   "language": "python",
   "name": "python3"
  },
  "language_info": {
   "codemirror_mode": {
    "name": "ipython",
    "version": 3
   },
   "file_extension": ".py",
   "mimetype": "text/x-python",
   "name": "python",
   "nbconvert_exporter": "python",
   "pygments_lexer": "ipython3",
   "version": "3.6.13"
  }
 },
 "nbformat": 4,
 "nbformat_minor": 1
}
