{
 "cells": [
  {
   "cell_type": "code",
   "execution_count": 1,
   "metadata": {},
   "outputs": [],
   "source": [
    "from IPython.core.interactiveshell import InteractiveShell\n",
    "InteractiveShell.ast_node_interactivity = \"all\"\n",
    "\n",
    "import numpy as np\n",
    "import pandas as pd\n",
    "import matplotlib.pyplot as plt\n",
    "import matplotlib.cm as cm\n",
    "import seaborn as sns\n",
    "from sklearn.metrics import accuracy_score, confusion_matrix, precision_score, recall_score, roc_auc_score, roc_curve, f1_score\n",
    "from sklearn.model_selection import train_test_split\n",
    "from sklearn.preprocessing import OneHotEncoder, LabelEncoder\n",
    "from sklearn.compose import make_column_transformer\n",
    "from sklearn.linear_model import LogisticRegression\n",
    "from sklearn.ensemble import RandomForestClassifier\n",
    "from sklearn.pipeline import make_pipeline\n",
    "from sklearn.model_selection import RandomizedSearchCV\n",
    "from sklearn import clone\n",
    "from sklearn.base import BaseEstimator, ClassifierMixin\n",
    "from sklearn.utils.validation import check_is_fitted\n",
    "from sklearn.exceptions import NotFittedError\n",
    "import itertools\n",
    "from pprint import pprint\n",
    "from tempeh.configurations import datasets\n",
    "# from fairlearn.widget import FairlearnDashboard\n",
    "from fairlearn.reductions import GridSearch#, DemographicParity\n",
    "from sklearn.calibration import CalibratedClassifierCV\n",
    "from fairlearn.postprocessing import ThresholdOptimizer\n",
    "%matplotlib inline"
   ]
  },
  {
   "cell_type": "code",
   "execution_count": 2,
   "metadata": {},
   "outputs": [
    {
     "data": {
      "text/html": [
       "<div>\n",
       "<style scoped>\n",
       "    .dataframe tbody tr th:only-of-type {\n",
       "        vertical-align: middle;\n",
       "    }\n",
       "\n",
       "    .dataframe tbody tr th {\n",
       "        vertical-align: top;\n",
       "    }\n",
       "\n",
       "    .dataframe thead th {\n",
       "        text-align: right;\n",
       "    }\n",
       "</style>\n",
       "<table border=\"1\" class=\"dataframe\">\n",
       "  <thead>\n",
       "    <tr style=\"text-align: right;\">\n",
       "      <th></th>\n",
       "      <th>Gender</th>\n",
       "      <th>Married</th>\n",
       "      <th>Dependents</th>\n",
       "      <th>Education</th>\n",
       "      <th>Self_Employed</th>\n",
       "      <th>ApplicantIncome</th>\n",
       "      <th>CoapplicantIncome</th>\n",
       "      <th>LoanAmount</th>\n",
       "      <th>Loan_Amount_Term</th>\n",
       "      <th>Credit_History</th>\n",
       "      <th>Property_Area</th>\n",
       "      <th>Loan_Status</th>\n",
       "    </tr>\n",
       "  </thead>\n",
       "  <tbody>\n",
       "    <tr>\n",
       "      <th>0</th>\n",
       "      <td>Male</td>\n",
       "      <td>No</td>\n",
       "      <td>0</td>\n",
       "      <td>Graduate</td>\n",
       "      <td>No</td>\n",
       "      <td>5849</td>\n",
       "      <td>0.0</td>\n",
       "      <td>NaN</td>\n",
       "      <td>360.0</td>\n",
       "      <td>1.0</td>\n",
       "      <td>Urban</td>\n",
       "      <td>Y</td>\n",
       "    </tr>\n",
       "    <tr>\n",
       "      <th>1</th>\n",
       "      <td>Male</td>\n",
       "      <td>Yes</td>\n",
       "      <td>1</td>\n",
       "      <td>Graduate</td>\n",
       "      <td>No</td>\n",
       "      <td>4583</td>\n",
       "      <td>1508.0</td>\n",
       "      <td>128.0</td>\n",
       "      <td>360.0</td>\n",
       "      <td>1.0</td>\n",
       "      <td>Rural</td>\n",
       "      <td>N</td>\n",
       "    </tr>\n",
       "    <tr>\n",
       "      <th>2</th>\n",
       "      <td>Male</td>\n",
       "      <td>Yes</td>\n",
       "      <td>0</td>\n",
       "      <td>Graduate</td>\n",
       "      <td>Yes</td>\n",
       "      <td>3000</td>\n",
       "      <td>0.0</td>\n",
       "      <td>66.0</td>\n",
       "      <td>360.0</td>\n",
       "      <td>1.0</td>\n",
       "      <td>Urban</td>\n",
       "      <td>Y</td>\n",
       "    </tr>\n",
       "    <tr>\n",
       "      <th>3</th>\n",
       "      <td>Male</td>\n",
       "      <td>Yes</td>\n",
       "      <td>0</td>\n",
       "      <td>Not Graduate</td>\n",
       "      <td>No</td>\n",
       "      <td>2583</td>\n",
       "      <td>2358.0</td>\n",
       "      <td>120.0</td>\n",
       "      <td>360.0</td>\n",
       "      <td>1.0</td>\n",
       "      <td>Urban</td>\n",
       "      <td>Y</td>\n",
       "    </tr>\n",
       "    <tr>\n",
       "      <th>4</th>\n",
       "      <td>Male</td>\n",
       "      <td>No</td>\n",
       "      <td>0</td>\n",
       "      <td>Graduate</td>\n",
       "      <td>No</td>\n",
       "      <td>6000</td>\n",
       "      <td>0.0</td>\n",
       "      <td>141.0</td>\n",
       "      <td>360.0</td>\n",
       "      <td>1.0</td>\n",
       "      <td>Urban</td>\n",
       "      <td>Y</td>\n",
       "    </tr>\n",
       "  </tbody>\n",
       "</table>\n",
       "</div>"
      ],
      "text/plain": [
       "  Gender Married Dependents     Education Self_Employed  ApplicantIncome  \\\n",
       "0   Male      No          0      Graduate            No             5849   \n",
       "1   Male     Yes          1      Graduate            No             4583   \n",
       "2   Male     Yes          0      Graduate           Yes             3000   \n",
       "3   Male     Yes          0  Not Graduate            No             2583   \n",
       "4   Male      No          0      Graduate            No             6000   \n",
       "\n",
       "   CoapplicantIncome  LoanAmount  Loan_Amount_Term  Credit_History  \\\n",
       "0                0.0         NaN             360.0             1.0   \n",
       "1             1508.0       128.0             360.0             1.0   \n",
       "2                0.0        66.0             360.0             1.0   \n",
       "3             2358.0       120.0             360.0             1.0   \n",
       "4                0.0       141.0             360.0             1.0   \n",
       "\n",
       "  Property_Area Loan_Status  \n",
       "0         Urban           Y  \n",
       "1         Rural           N  \n",
       "2         Urban           Y  \n",
       "3         Urban           Y  \n",
       "4         Urban           Y  "
      ]
     },
     "execution_count": 2,
     "metadata": {},
     "output_type": "execute_result"
    }
   ],
   "source": [
    "path = 'datasets/student-loan-approval.csv'\n",
    "#csv_url = 'https://raw.githubusercontent.com/propublica/compas-analysis/master/compas-scores-two-years.csv'\n",
    "df = pd.read_csv(path)\n",
    "df.drop(columns=['Loan_ID'], inplace=True)\n",
    "df.head()"
   ]
  },
  {
   "cell_type": "code",
   "execution_count": 3,
   "metadata": {},
   "outputs": [
    {
     "name": "stdout",
     "output_type": "stream",
     "text": [
      "<class 'pandas.core.frame.DataFrame'>\n",
      "RangeIndex: 614 entries, 0 to 613\n",
      "Data columns (total 12 columns):\n",
      " #   Column             Non-Null Count  Dtype  \n",
      "---  ------             --------------  -----  \n",
      " 0   Gender             601 non-null    object \n",
      " 1   Married            611 non-null    object \n",
      " 2   Dependents         599 non-null    object \n",
      " 3   Education          614 non-null    object \n",
      " 4   Self_Employed      582 non-null    object \n",
      " 5   ApplicantIncome    614 non-null    int64  \n",
      " 6   CoapplicantIncome  614 non-null    float64\n",
      " 7   LoanAmount         592 non-null    float64\n",
      " 8   Loan_Amount_Term   600 non-null    float64\n",
      " 9   Credit_History     564 non-null    float64\n",
      " 10  Property_Area      614 non-null    object \n",
      " 11  Loan_Status        614 non-null    object \n",
      "dtypes: float64(4), int64(1), object(7)\n",
      "memory usage: 57.7+ KB\n"
     ]
    }
   ],
   "source": [
    "df.info()"
   ]
  },
  {
   "cell_type": "code",
   "execution_count": 4,
   "metadata": {},
   "outputs": [
    {
     "data": {
      "text/plain": [
       "Gender               13\n",
       "Married               3\n",
       "Dependents           15\n",
       "Education             0\n",
       "Self_Employed        32\n",
       "ApplicantIncome       0\n",
       "CoapplicantIncome     0\n",
       "LoanAmount           22\n",
       "Loan_Amount_Term     14\n",
       "Credit_History       50\n",
       "Property_Area         0\n",
       "Loan_Status           0\n",
       "dtype: int64"
      ]
     },
     "execution_count": 4,
     "metadata": {},
     "output_type": "execute_result"
    }
   ],
   "source": [
    "df.isnull().sum()"
   ]
  },
  {
   "cell_type": "code",
   "execution_count": 5,
   "metadata": {},
   "outputs": [
    {
     "data": {
      "text/plain": [
       "614"
      ]
     },
     "execution_count": 5,
     "metadata": {},
     "output_type": "execute_result"
    }
   ],
   "source": [
    "len(df)"
   ]
  },
  {
   "cell_type": "code",
   "execution_count": 6,
   "metadata": {},
   "outputs": [
    {
     "data": {
      "text/plain": [
       "Gender               0\n",
       "Married              0\n",
       "Dependents           0\n",
       "Education            0\n",
       "Self_Employed        0\n",
       "ApplicantIncome      0\n",
       "CoapplicantIncome    0\n",
       "LoanAmount           0\n",
       "Loan_Amount_Term     0\n",
       "Credit_History       0\n",
       "Property_Area        0\n",
       "Loan_Status          0\n",
       "dtype: int64"
      ]
     },
     "execution_count": 6,
     "metadata": {},
     "output_type": "execute_result"
    }
   ],
   "source": [
    "df = df[(~df['Gender'].isnull()) & (~df['Married'].isnull())]\n",
    "dependents_dict = {'0': '0', '1': '1', '2': '2', '3+': '3'}\n",
    "df['Dependents'] = df['Dependents'].map(dependents_dict)\n",
    "df = df[(~df['LoanAmount'].isnull()) & (~df['Loan_Amount_Term'].isnull())]\n",
    "fill_values = {'Self_Employed': 'NaN', 'Dependents': 'NaN', 'Credit_History': -1.0}\n",
    "df.fillna(value=fill_values, inplace=True)\n",
    "\n",
    "df.isnull().sum()"
   ]
  },
  {
   "cell_type": "code",
   "execution_count": 7,
   "metadata": {},
   "outputs": [
    {
     "data": {
      "text/html": [
       "<div>\n",
       "<style scoped>\n",
       "    .dataframe tbody tr th:only-of-type {\n",
       "        vertical-align: middle;\n",
       "    }\n",
       "\n",
       "    .dataframe tbody tr th {\n",
       "        vertical-align: top;\n",
       "    }\n",
       "\n",
       "    .dataframe thead th {\n",
       "        text-align: right;\n",
       "    }\n",
       "</style>\n",
       "<table border=\"1\" class=\"dataframe\">\n",
       "  <thead>\n",
       "    <tr style=\"text-align: right;\">\n",
       "      <th></th>\n",
       "      <th>Gender</th>\n",
       "      <th>Married</th>\n",
       "      <th>Dependents</th>\n",
       "      <th>Education</th>\n",
       "      <th>Self_Employed</th>\n",
       "      <th>ApplicantIncome</th>\n",
       "      <th>CoapplicantIncome</th>\n",
       "      <th>LoanAmount</th>\n",
       "      <th>Loan_Amount_Term</th>\n",
       "      <th>Credit_History</th>\n",
       "      <th>Property_Area</th>\n",
       "      <th>Loan_Status</th>\n",
       "    </tr>\n",
       "  </thead>\n",
       "  <tbody>\n",
       "    <tr>\n",
       "      <th>1</th>\n",
       "      <td>1</td>\n",
       "      <td>1</td>\n",
       "      <td>1</td>\n",
       "      <td>0</td>\n",
       "      <td>1</td>\n",
       "      <td>4583</td>\n",
       "      <td>1508.0</td>\n",
       "      <td>128.0</td>\n",
       "      <td>360.0</td>\n",
       "      <td>2</td>\n",
       "      <td>0</td>\n",
       "      <td>0</td>\n",
       "    </tr>\n",
       "    <tr>\n",
       "      <th>2</th>\n",
       "      <td>1</td>\n",
       "      <td>1</td>\n",
       "      <td>0</td>\n",
       "      <td>0</td>\n",
       "      <td>2</td>\n",
       "      <td>3000</td>\n",
       "      <td>0.0</td>\n",
       "      <td>66.0</td>\n",
       "      <td>360.0</td>\n",
       "      <td>2</td>\n",
       "      <td>2</td>\n",
       "      <td>1</td>\n",
       "    </tr>\n",
       "    <tr>\n",
       "      <th>3</th>\n",
       "      <td>1</td>\n",
       "      <td>1</td>\n",
       "      <td>0</td>\n",
       "      <td>1</td>\n",
       "      <td>1</td>\n",
       "      <td>2583</td>\n",
       "      <td>2358.0</td>\n",
       "      <td>120.0</td>\n",
       "      <td>360.0</td>\n",
       "      <td>2</td>\n",
       "      <td>2</td>\n",
       "      <td>1</td>\n",
       "    </tr>\n",
       "    <tr>\n",
       "      <th>4</th>\n",
       "      <td>1</td>\n",
       "      <td>0</td>\n",
       "      <td>0</td>\n",
       "      <td>0</td>\n",
       "      <td>1</td>\n",
       "      <td>6000</td>\n",
       "      <td>0.0</td>\n",
       "      <td>141.0</td>\n",
       "      <td>360.0</td>\n",
       "      <td>2</td>\n",
       "      <td>2</td>\n",
       "      <td>1</td>\n",
       "    </tr>\n",
       "    <tr>\n",
       "      <th>5</th>\n",
       "      <td>1</td>\n",
       "      <td>1</td>\n",
       "      <td>2</td>\n",
       "      <td>0</td>\n",
       "      <td>2</td>\n",
       "      <td>5417</td>\n",
       "      <td>4196.0</td>\n",
       "      <td>267.0</td>\n",
       "      <td>360.0</td>\n",
       "      <td>2</td>\n",
       "      <td>2</td>\n",
       "      <td>1</td>\n",
       "    </tr>\n",
       "  </tbody>\n",
       "</table>\n",
       "</div>"
      ],
      "text/plain": [
       "   Gender  Married  Dependents  Education  Self_Employed  ApplicantIncome  \\\n",
       "1       1        1           1          0              1             4583   \n",
       "2       1        1           0          0              2             3000   \n",
       "3       1        1           0          1              1             2583   \n",
       "4       1        0           0          0              1             6000   \n",
       "5       1        1           2          0              2             5417   \n",
       "\n",
       "   CoapplicantIncome  LoanAmount  Loan_Amount_Term  Credit_History  \\\n",
       "1             1508.0       128.0             360.0               2   \n",
       "2                0.0        66.0             360.0               2   \n",
       "3             2358.0       120.0             360.0               2   \n",
       "4                0.0       141.0             360.0               2   \n",
       "5             4196.0       267.0             360.0               2   \n",
       "\n",
       "   Property_Area  Loan_Status  \n",
       "1              0            0  \n",
       "2              2            1  \n",
       "3              2            1  \n",
       "4              2            1  \n",
       "5              2            1  "
      ]
     },
     "execution_count": 7,
     "metadata": {},
     "output_type": "execute_result"
    }
   ],
   "source": [
    "df['Credit_History'] = df.Credit_History.astype(object)\n",
    "categorical_features = df.columns[df.dtypes==object].tolist() \n",
    "le = LabelEncoder()\n",
    "\n",
    "df[categorical_features] = df[categorical_features].apply(lambda col: le.fit_transform(col))\n",
    "\n",
    "# Apply OneHotEncoder on each of the categorical columns\n",
    "categorical_cols = ['Self_Employed', 'Credit_History', 'Property_Area', 'Dependents']\n",
    "\n",
    "encoded_features = []\n",
    "ohe = OneHotEncoder()\n",
    "for feature in categorical_cols:\n",
    "    encoded_feat = OneHotEncoder(drop='first').fit_transform(df[feature].values.reshape(-1, 1)).toarray()\n",
    "    n = df[feature].nunique()\n",
    "    cols = ['{}_{}'.format(feature, n) for n in range(0, n-1)]\n",
    "    encoded_df = pd.DataFrame(encoded_feat, columns=cols)\n",
    "    encoded_df.index = df.index\n",
    "    encoded_features.append(encoded_df)\n",
    "df.head()"
   ]
  },
  {
   "cell_type": "code",
   "execution_count": 8,
   "metadata": {},
   "outputs": [
    {
     "name": "stdout",
     "output_type": "stream",
     "text": [
      "Male Approval Rate: 0.7045951859956237\n",
      "Female Approval Rate: 0.6698113207547169\n"
     ]
    },
    {
     "data": {
      "text/plain": [
       "'\\nSevere Data imbalance but similar data rates\\n'"
      ]
     },
     "execution_count": 8,
     "metadata": {},
     "output_type": "execute_result"
    }
   ],
   "source": [
    "female_denied = len(df[(df['Gender'] == 0) & (df['Loan_Status'] == 0)])\n",
    "female_accepted = len(df[(df['Gender'] == 0) & (df['Loan_Status'] == 1)])\n",
    "\n",
    "male_denied = len(df[(df['Gender'] == 1) & (df['Loan_Status'] == 0)])\n",
    "male_accepted = len(df[(df['Gender'] == 1) & (df['Loan_Status'] == 1)])\n",
    "\n",
    "male_approval_rate = male_accepted/(male_accepted + male_denied)\n",
    "female_approval_rate = female_accepted/(female_accepted + female_denied)\n",
    "print(f'Male Approval Rate: {male_approval_rate}\\nFemale Approval Rate: {female_approval_rate}')\n",
    "'''\n",
    "Severe Data imbalance but similar data rates\n",
    "'''"
   ]
  },
  {
   "cell_type": "code",
   "execution_count": 9,
   "metadata": {},
   "outputs": [],
   "source": [
    "data = df.copy()\n",
    "labels = data.pop('Loan_Status')\n",
    "sensitive_attributes = data['Gender']\n",
    "\n",
    "X_train, X_test, y_train, y_test, sensitive_attributes_train, sensitive_attributes_test = train_test_split(data, labels,\n",
    "                                                                                                         sensitive_attributes,\n",
    "                                                                                                         stratify=df['Loan_Status'], \n",
    "                                                                                                         test_size=0.25,\n",
    "                                                                                                         random_state = 42)\n"
   ]
  },
  {
   "cell_type": "code",
   "execution_count": 10,
   "metadata": {},
   "outputs": [
    {
     "data": {
      "text/html": [
       "<div>\n",
       "<style scoped>\n",
       "    .dataframe tbody tr th:only-of-type {\n",
       "        vertical-align: middle;\n",
       "    }\n",
       "\n",
       "    .dataframe tbody tr th {\n",
       "        vertical-align: top;\n",
       "    }\n",
       "\n",
       "    .dataframe thead th {\n",
       "        text-align: right;\n",
       "    }\n",
       "</style>\n",
       "<table border=\"1\" class=\"dataframe\">\n",
       "  <thead>\n",
       "    <tr style=\"text-align: right;\">\n",
       "      <th></th>\n",
       "      <th>Count</th>\n",
       "      <th>Apprvoal_Rate</th>\n",
       "    </tr>\n",
       "    <tr>\n",
       "      <th>Gender</th>\n",
       "      <th></th>\n",
       "      <th></th>\n",
       "    </tr>\n",
       "  </thead>\n",
       "  <tbody>\n",
       "    <tr>\n",
       "      <th>0</th>\n",
       "      <td>82</td>\n",
       "      <td>0.682927</td>\n",
       "    </tr>\n",
       "    <tr>\n",
       "      <th>1</th>\n",
       "      <td>340</td>\n",
       "      <td>0.702941</td>\n",
       "    </tr>\n",
       "  </tbody>\n",
       "</table>\n",
       "</div>"
      ],
      "text/plain": [
       "        Count  Apprvoal_Rate\n",
       "Gender                      \n",
       "0          82       0.682927\n",
       "1         340       0.702941"
      ]
     },
     "execution_count": 10,
     "metadata": {},
     "output_type": "execute_result"
    }
   ],
   "source": [
    "merged_train = pd.concat([X_train, y_train], axis=1)\n",
    "gender_grouped = merged_train.groupby('Gender')\n",
    "#Check if data distribution in approval rates is similar to previous rates\n",
    "counts_by_gender = gender_grouped[['Loan_Status']].count().rename(columns={'Loan_Status': 'Count'})\n",
    "rates_by_gender = gender_grouped[['Loan_Status']].mean().rename(columns={'Loan_Status': 'Apprvoal_Rate'})\n",
    "pd.concat([counts_by_gender, rates_by_gender], axis=1)"
   ]
  },
  {
   "cell_type": "code",
   "execution_count": 11,
   "metadata": {},
   "outputs": [
    {
     "data": {
      "text/plain": [
       "LogisticRegression(C=1.0, class_weight=None, dual=False, fit_intercept=True,\n",
       "                   intercept_scaling=1, l1_ratio=None, max_iter=100,\n",
       "                   multi_class='auto', n_jobs=None, penalty='l2',\n",
       "                   random_state=None, solver='liblinear', tol=0.0001, verbose=0,\n",
       "                   warm_start=False)"
      ]
     },
     "execution_count": 11,
     "metadata": {},
     "output_type": "execute_result"
    },
    {
     "data": {
      "text/plain": [
       "0.6808510638297872"
      ]
     },
     "execution_count": 11,
     "metadata": {},
     "output_type": "execute_result"
    }
   ],
   "source": [
    "#Training Logisitic Regression\n",
    "fairness_unaware_lr = LogisticRegression(solver='liblinear', fit_intercept=True)\n",
    "fairness_unaware_lr.fit(X_train, y_train)\n",
    "\n",
    "y_preds_lr = fairness_unaware_lr.predict(X_test)\n",
    "accuracy_score(y_test, y_preds_lr)"
   ]
  },
  {
   "cell_type": "code",
   "execution_count": 12,
   "metadata": {},
   "outputs": [
    {
     "data": {
      "text/html": [
       "<div>\n",
       "<style scoped>\n",
       "    .dataframe tbody tr th:only-of-type {\n",
       "        vertical-align: middle;\n",
       "    }\n",
       "\n",
       "    .dataframe tbody tr th {\n",
       "        vertical-align: top;\n",
       "    }\n",
       "\n",
       "    .dataframe thead th {\n",
       "        text-align: right;\n",
       "    }\n",
       "</style>\n",
       "<table border=\"1\" class=\"dataframe\">\n",
       "  <thead>\n",
       "    <tr style=\"text-align: right;\">\n",
       "      <th></th>\n",
       "      <th>Gender</th>\n",
       "      <th>Married</th>\n",
       "      <th>Dependents</th>\n",
       "      <th>Education</th>\n",
       "      <th>Self_Employed</th>\n",
       "      <th>ApplicantIncome</th>\n",
       "      <th>CoapplicantIncome</th>\n",
       "      <th>LoanAmount</th>\n",
       "      <th>Loan_Amount_Term</th>\n",
       "      <th>Credit_History</th>\n",
       "      <th>Property_Area</th>\n",
       "      <th>Loan_Status</th>\n",
       "      <th>Loan_Status_Preds</th>\n",
       "    </tr>\n",
       "  </thead>\n",
       "  <tbody>\n",
       "    <tr>\n",
       "      <th>64</th>\n",
       "      <td>0</td>\n",
       "      <td>0</td>\n",
       "      <td>0</td>\n",
       "      <td>0</td>\n",
       "      <td>1</td>\n",
       "      <td>4166</td>\n",
       "      <td>0.0</td>\n",
       "      <td>116.0</td>\n",
       "      <td>360.0</td>\n",
       "      <td>1</td>\n",
       "      <td>1</td>\n",
       "      <td>0</td>\n",
       "      <td>1</td>\n",
       "    </tr>\n",
       "    <tr>\n",
       "      <th>590</th>\n",
       "      <td>1</td>\n",
       "      <td>1</td>\n",
       "      <td>0</td>\n",
       "      <td>0</td>\n",
       "      <td>1</td>\n",
       "      <td>3000</td>\n",
       "      <td>3416.0</td>\n",
       "      <td>56.0</td>\n",
       "      <td>180.0</td>\n",
       "      <td>2</td>\n",
       "      <td>1</td>\n",
       "      <td>1</td>\n",
       "      <td>1</td>\n",
       "    </tr>\n",
       "    <tr>\n",
       "      <th>602</th>\n",
       "      <td>1</td>\n",
       "      <td>1</td>\n",
       "      <td>3</td>\n",
       "      <td>0</td>\n",
       "      <td>1</td>\n",
       "      <td>5703</td>\n",
       "      <td>0.0</td>\n",
       "      <td>128.0</td>\n",
       "      <td>360.0</td>\n",
       "      <td>2</td>\n",
       "      <td>2</td>\n",
       "      <td>1</td>\n",
       "      <td>1</td>\n",
       "    </tr>\n",
       "    <tr>\n",
       "      <th>195</th>\n",
       "      <td>1</td>\n",
       "      <td>1</td>\n",
       "      <td>1</td>\n",
       "      <td>0</td>\n",
       "      <td>1</td>\n",
       "      <td>3125</td>\n",
       "      <td>2583.0</td>\n",
       "      <td>170.0</td>\n",
       "      <td>360.0</td>\n",
       "      <td>2</td>\n",
       "      <td>1</td>\n",
       "      <td>0</td>\n",
       "      <td>1</td>\n",
       "    </tr>\n",
       "    <tr>\n",
       "      <th>271</th>\n",
       "      <td>1</td>\n",
       "      <td>1</td>\n",
       "      <td>0</td>\n",
       "      <td>0</td>\n",
       "      <td>1</td>\n",
       "      <td>11146</td>\n",
       "      <td>0.0</td>\n",
       "      <td>136.0</td>\n",
       "      <td>360.0</td>\n",
       "      <td>2</td>\n",
       "      <td>2</td>\n",
       "      <td>1</td>\n",
       "      <td>1</td>\n",
       "    </tr>\n",
       "  </tbody>\n",
       "</table>\n",
       "</div>"
      ],
      "text/plain": [
       "     Gender  Married  Dependents  Education  Self_Employed  ApplicantIncome  \\\n",
       "64        0        0           0          0              1             4166   \n",
       "590       1        1           0          0              1             3000   \n",
       "602       1        1           3          0              1             5703   \n",
       "195       1        1           1          0              1             3125   \n",
       "271       1        1           0          0              1            11146   \n",
       "\n",
       "     CoapplicantIncome  LoanAmount  Loan_Amount_Term  Credit_History  \\\n",
       "64                 0.0       116.0             360.0               1   \n",
       "590             3416.0        56.0             180.0               2   \n",
       "602                0.0       128.0             360.0               2   \n",
       "195             2583.0       170.0             360.0               2   \n",
       "271                0.0       136.0             360.0               2   \n",
       "\n",
       "     Property_Area  Loan_Status  Loan_Status_Preds  \n",
       "64               1            0                  1  \n",
       "590              1            1                  1  \n",
       "602              2            1                  1  \n",
       "195              1            0                  1  \n",
       "271              2            1                  1  "
      ]
     },
     "execution_count": 12,
     "metadata": {},
     "output_type": "execute_result"
    }
   ],
   "source": [
    "merged_test_lr = pd.concat([X_test, y_test], axis=1)\n",
    "merged_test_lr['Loan_Status_Preds'] = y_preds_lr\n",
    "merged_test_lr.head()"
   ]
  },
  {
   "cell_type": "code",
   "execution_count": 13,
   "metadata": {},
   "outputs": [
    {
     "data": {
      "text/plain": [
       "RandomForestClassifier(bootstrap=True, ccp_alpha=0.0, class_weight=None,\n",
       "                       criterion='gini', max_depth=None, max_features='auto',\n",
       "                       max_leaf_nodes=None, max_samples=None,\n",
       "                       min_impurity_decrease=0.0, min_impurity_split=None,\n",
       "                       min_samples_leaf=1, min_samples_split=2,\n",
       "                       min_weight_fraction_leaf=0.0, n_estimators=100,\n",
       "                       n_jobs=-1, oob_score=False, random_state=42, verbose=0,\n",
       "                       warm_start=False)"
      ]
     },
     "execution_count": 13,
     "metadata": {},
     "output_type": "execute_result"
    },
    {
     "data": {
      "text/plain": [
       "0.8581560283687943"
      ]
     },
     "execution_count": 13,
     "metadata": {},
     "output_type": "execute_result"
    }
   ],
   "source": [
    "#Training Random Forest\n",
    "fairness_unaware_rf = RandomForestClassifier(\n",
    "                      n_jobs = -1,\n",
    "                      random_state = 42,\n",
    "                      max_features = 'auto')\n",
    "\n",
    "fairness_unaware_rf.fit(X_train, y_train)\n",
    "y_preds_rf = fairness_unaware_rf.predict(X_test)\n",
    "accuracy_score(y_test, y_preds_rf)"
   ]
  },
  {
   "cell_type": "code",
   "execution_count": 14,
   "metadata": {},
   "outputs": [
    {
     "data": {
      "text/html": [
       "<div>\n",
       "<style scoped>\n",
       "    .dataframe tbody tr th:only-of-type {\n",
       "        vertical-align: middle;\n",
       "    }\n",
       "\n",
       "    .dataframe tbody tr th {\n",
       "        vertical-align: top;\n",
       "    }\n",
       "\n",
       "    .dataframe thead th {\n",
       "        text-align: right;\n",
       "    }\n",
       "</style>\n",
       "<table border=\"1\" class=\"dataframe\">\n",
       "  <thead>\n",
       "    <tr style=\"text-align: right;\">\n",
       "      <th></th>\n",
       "      <th>Gender</th>\n",
       "      <th>Married</th>\n",
       "      <th>Dependents</th>\n",
       "      <th>Education</th>\n",
       "      <th>Self_Employed</th>\n",
       "      <th>ApplicantIncome</th>\n",
       "      <th>CoapplicantIncome</th>\n",
       "      <th>LoanAmount</th>\n",
       "      <th>Loan_Amount_Term</th>\n",
       "      <th>Credit_History</th>\n",
       "      <th>Property_Area</th>\n",
       "      <th>Loan_Status</th>\n",
       "      <th>Loan_Status_Preds</th>\n",
       "    </tr>\n",
       "  </thead>\n",
       "  <tbody>\n",
       "    <tr>\n",
       "      <th>64</th>\n",
       "      <td>0</td>\n",
       "      <td>0</td>\n",
       "      <td>0</td>\n",
       "      <td>0</td>\n",
       "      <td>1</td>\n",
       "      <td>4166</td>\n",
       "      <td>0.0</td>\n",
       "      <td>116.0</td>\n",
       "      <td>360.0</td>\n",
       "      <td>1</td>\n",
       "      <td>1</td>\n",
       "      <td>0</td>\n",
       "      <td>0</td>\n",
       "    </tr>\n",
       "    <tr>\n",
       "      <th>590</th>\n",
       "      <td>1</td>\n",
       "      <td>1</td>\n",
       "      <td>0</td>\n",
       "      <td>0</td>\n",
       "      <td>1</td>\n",
       "      <td>3000</td>\n",
       "      <td>3416.0</td>\n",
       "      <td>56.0</td>\n",
       "      <td>180.0</td>\n",
       "      <td>2</td>\n",
       "      <td>1</td>\n",
       "      <td>1</td>\n",
       "      <td>1</td>\n",
       "    </tr>\n",
       "    <tr>\n",
       "      <th>602</th>\n",
       "      <td>1</td>\n",
       "      <td>1</td>\n",
       "      <td>3</td>\n",
       "      <td>0</td>\n",
       "      <td>1</td>\n",
       "      <td>5703</td>\n",
       "      <td>0.0</td>\n",
       "      <td>128.0</td>\n",
       "      <td>360.0</td>\n",
       "      <td>2</td>\n",
       "      <td>2</td>\n",
       "      <td>1</td>\n",
       "      <td>1</td>\n",
       "    </tr>\n",
       "    <tr>\n",
       "      <th>195</th>\n",
       "      <td>1</td>\n",
       "      <td>1</td>\n",
       "      <td>1</td>\n",
       "      <td>0</td>\n",
       "      <td>1</td>\n",
       "      <td>3125</td>\n",
       "      <td>2583.0</td>\n",
       "      <td>170.0</td>\n",
       "      <td>360.0</td>\n",
       "      <td>2</td>\n",
       "      <td>1</td>\n",
       "      <td>0</td>\n",
       "      <td>1</td>\n",
       "    </tr>\n",
       "    <tr>\n",
       "      <th>271</th>\n",
       "      <td>1</td>\n",
       "      <td>1</td>\n",
       "      <td>0</td>\n",
       "      <td>0</td>\n",
       "      <td>1</td>\n",
       "      <td>11146</td>\n",
       "      <td>0.0</td>\n",
       "      <td>136.0</td>\n",
       "      <td>360.0</td>\n",
       "      <td>2</td>\n",
       "      <td>2</td>\n",
       "      <td>1</td>\n",
       "      <td>1</td>\n",
       "    </tr>\n",
       "  </tbody>\n",
       "</table>\n",
       "</div>"
      ],
      "text/plain": [
       "     Gender  Married  Dependents  Education  Self_Employed  ApplicantIncome  \\\n",
       "64        0        0           0          0              1             4166   \n",
       "590       1        1           0          0              1             3000   \n",
       "602       1        1           3          0              1             5703   \n",
       "195       1        1           1          0              1             3125   \n",
       "271       1        1           0          0              1            11146   \n",
       "\n",
       "     CoapplicantIncome  LoanAmount  Loan_Amount_Term  Credit_History  \\\n",
       "64                 0.0       116.0             360.0               1   \n",
       "590             3416.0        56.0             180.0               2   \n",
       "602                0.0       128.0             360.0               2   \n",
       "195             2583.0       170.0             360.0               2   \n",
       "271                0.0       136.0             360.0               2   \n",
       "\n",
       "     Property_Area  Loan_Status  Loan_Status_Preds  \n",
       "64               1            0                  0  \n",
       "590              1            1                  1  \n",
       "602              2            1                  1  \n",
       "195              1            0                  1  \n",
       "271              2            1                  1  "
      ]
     },
     "execution_count": 14,
     "metadata": {},
     "output_type": "execute_result"
    }
   ],
   "source": [
    "merged_test_rf = pd.concat([X_test, y_test], axis=1)\n",
    "merged_test_rf['Loan_Status_Preds'] = y_preds_rf\n",
    "merged_test_rf.head()"
   ]
  },
  {
   "cell_type": "code",
   "execution_count": 15,
   "metadata": {},
   "outputs": [
    {
     "name": "stdout",
     "output_type": "stream",
     "text": [
      "LR Precision, Recall:(0.7022900763358778, 0.9387755102040817)\n",
      "RF Precision, Recall:(0.8545454545454545, 0.9591836734693877)\n"
     ]
    }
   ],
   "source": [
    "# confusion_values = confusion_matrix(merged_test_lr['Loan_Status'], merged_test_lr['Loan_Status_Preds'])\n",
    "# [[true_negatives , false_positives],[false_negatives , true_positives]] = confusion_values\n",
    "# [[true_negatives , false_positives],[false_negatives , true_positives]]\n",
    "# recall = true_positives/ (true_positives + false_negatives)\n",
    "# precision = true_positives/ (true_positives + false_positives)\n",
    "# recall\n",
    "# precision\n",
    "\n",
    "def calc_precision_recall(df):\n",
    "    confusion_values = confusion_matrix(df['Loan_Status'], df['Loan_Status_Preds'])\n",
    "    [[true_negatives , false_positives],[false_negatives , true_positives]] = confusion_values\n",
    "    [[true_negatives , false_positives],[false_negatives , true_positives]]\n",
    "    recall = true_positives/ (true_positives + false_negatives)\n",
    "    precision = true_positives/ (true_positives + false_positives)\n",
    "    return precision, recall\n",
    "\n",
    "lr_precision, lr_recall = calc_precision_recall(merged_test_lr)\n",
    "rf_precision, rf_recall = calc_precision_recall(merged_test_rf)\n",
    "\n",
    "print(f'LR Precision, Recall:{lr_precision, lr_recall}\\nRF Precision, Recall:{rf_precision, rf_recall}')"
   ]
  },
  {
   "cell_type": "code",
   "execution_count": 16,
   "metadata": {},
   "outputs": [
    {
     "data": {
      "text/plain": [
       "'\\nOverall Accuracy Equality Using Logistic Regression\\n'"
      ]
     },
     "execution_count": 16,
     "metadata": {},
     "output_type": "execute_result"
    },
    {
     "data": {
      "text/plain": [
       "Gender\n",
       "0    0.583333\n",
       "1    0.700855\n",
       "dtype: float64"
      ]
     },
     "execution_count": 16,
     "metadata": {},
     "output_type": "execute_result"
    },
    {
     "data": {
      "text/plain": [
       "'\\nOverall Accuracy Equality Using Random Forest\\n'"
      ]
     },
     "execution_count": 16,
     "metadata": {},
     "output_type": "execute_result"
    },
    {
     "data": {
      "text/plain": [
       "Gender\n",
       "0    0.916667\n",
       "1    0.846154\n",
       "dtype: float64"
      ]
     },
     "execution_count": 16,
     "metadata": {},
     "output_type": "execute_result"
    }
   ],
   "source": [
    "'''\n",
    "Overall Accuracy Equality Using Logistic Regression\n",
    "'''\n",
    "(merged_test_lr['Loan_Status'] == merged_test_lr['Loan_Status_Preds']).astype(int).groupby(merged_test_lr['Gender']).mean()\n",
    "'''\n",
    "Overall Accuracy Equality Using Random Forest\n",
    "'''\n",
    "(merged_test_rf['Loan_Status'] == merged_test_rf['Loan_Status_Preds']).astype(int).groupby(merged_test_rf['Gender']).mean()"
   ]
  },
  {
   "cell_type": "code",
   "execution_count": 17,
   "metadata": {},
   "outputs": [
    {
     "data": {
      "text/plain": [
       "'\\nchecking probability for loan status for those who got their loan approved\\n\\nFairness Type: Predictive Parity Using Logistic Regression\\n'"
      ]
     },
     "execution_count": 17,
     "metadata": {},
     "output_type": "execute_result"
    },
    {
     "data": {
      "text/plain": [
       "Gender\n",
       "0    0.933333\n",
       "1    0.939759\n",
       "Name: Loan_Status_Preds, dtype: float64"
      ]
     },
     "execution_count": 17,
     "metadata": {},
     "output_type": "execute_result"
    },
    {
     "data": {
      "text/plain": [
       "'\\nchecking probability for loan status for those who got their loan approved\\n\\nFairness Type: Predictive Parity Using Random Forest\\n'"
      ]
     },
     "execution_count": 17,
     "metadata": {},
     "output_type": "execute_result"
    },
    {
     "data": {
      "text/plain": [
       "Gender\n",
       "0    1.000000\n",
       "1    0.951807\n",
       "Name: Loan_Status_Preds, dtype: float64"
      ]
     },
     "execution_count": 17,
     "metadata": {},
     "output_type": "execute_result"
    }
   ],
   "source": [
    "'''\n",
    "checking probability for loan status for those who got their loan approved\n",
    "\n",
    "Fairness Type: Predictive Parity Using Logistic Regression\n",
    "'''\n",
    "merged_test_lr[merged_test_lr['Loan_Status']==1]['Loan_Status_Preds'].groupby(merged_test_lr['Gender']).mean()\n",
    "\n",
    "'''\n",
    "checking probability for loan status for those who got their loan approved\n",
    "\n",
    "Fairness Type: Predictive Parity Using Random Forest\n",
    "'''\n",
    "merged_test_rf[merged_test_rf['Loan_Status']==1]['Loan_Status_Preds'].groupby(merged_test_rf['Gender']).mean()"
   ]
  },
  {
   "cell_type": "code",
   "execution_count": 18,
   "metadata": {},
   "outputs": [
    {
     "data": {
      "text/plain": [
       "'\\nChecking average Loan Approvals of both genders on LR\\n'"
      ]
     },
     "execution_count": 18,
     "metadata": {},
     "output_type": "execute_result"
    },
    {
     "data": {
      "text/html": [
       "<div>\n",
       "<style scoped>\n",
       "    .dataframe tbody tr th:only-of-type {\n",
       "        vertical-align: middle;\n",
       "    }\n",
       "\n",
       "    .dataframe tbody tr th {\n",
       "        vertical-align: top;\n",
       "    }\n",
       "\n",
       "    .dataframe thead th {\n",
       "        text-align: right;\n",
       "    }\n",
       "</style>\n",
       "<table border=\"1\" class=\"dataframe\">\n",
       "  <thead>\n",
       "    <tr style=\"text-align: right;\">\n",
       "      <th>Gender</th>\n",
       "      <th>0</th>\n",
       "      <th>1</th>\n",
       "    </tr>\n",
       "  </thead>\n",
       "  <tbody>\n",
       "    <tr>\n",
       "      <th>Loan_Status</th>\n",
       "      <td>0.625000</td>\n",
       "      <td>0.709402</td>\n",
       "    </tr>\n",
       "    <tr>\n",
       "      <th>Loan_Status_Preds</th>\n",
       "      <td>0.958333</td>\n",
       "      <td>0.923077</td>\n",
       "    </tr>\n",
       "  </tbody>\n",
       "</table>\n",
       "</div>"
      ],
      "text/plain": [
       "Gender                    0         1\n",
       "Loan_Status        0.625000  0.709402\n",
       "Loan_Status_Preds  0.958333  0.923077"
      ]
     },
     "execution_count": 18,
     "metadata": {},
     "output_type": "execute_result"
    },
    {
     "data": {
      "text/plain": [
       "'\\nChecking average Loan Approvals of both genders on RF\\n'"
      ]
     },
     "execution_count": 18,
     "metadata": {},
     "output_type": "execute_result"
    },
    {
     "data": {
      "text/html": [
       "<div>\n",
       "<style scoped>\n",
       "    .dataframe tbody tr th:only-of-type {\n",
       "        vertical-align: middle;\n",
       "    }\n",
       "\n",
       "    .dataframe tbody tr th {\n",
       "        vertical-align: top;\n",
       "    }\n",
       "\n",
       "    .dataframe thead th {\n",
       "        text-align: right;\n",
       "    }\n",
       "</style>\n",
       "<table border=\"1\" class=\"dataframe\">\n",
       "  <thead>\n",
       "    <tr style=\"text-align: right;\">\n",
       "      <th>Gender</th>\n",
       "      <th>0</th>\n",
       "      <th>1</th>\n",
       "    </tr>\n",
       "  </thead>\n",
       "  <tbody>\n",
       "    <tr>\n",
       "      <th>Loan_Status</th>\n",
       "      <td>0.625000</td>\n",
       "      <td>0.709402</td>\n",
       "    </tr>\n",
       "    <tr>\n",
       "      <th>Loan_Status_Preds</th>\n",
       "      <td>0.708333</td>\n",
       "      <td>0.794872</td>\n",
       "    </tr>\n",
       "  </tbody>\n",
       "</table>\n",
       "</div>"
      ],
      "text/plain": [
       "Gender                    0         1\n",
       "Loan_Status        0.625000  0.709402\n",
       "Loan_Status_Preds  0.708333  0.794872"
      ]
     },
     "execution_count": 18,
     "metadata": {},
     "output_type": "execute_result"
    }
   ],
   "source": [
    "'''\n",
    "Checking average Loan Approvals of both genders on LR\n",
    "'''\n",
    "merged_test_lr.groupby('Gender').agg({'Loan_Status': 'mean',  \n",
    "                        'Loan_Status_Preds': 'mean'}).transpose()\n",
    "\n",
    "'''\n",
    "Checking average Loan Approvals of both genders on RF\n",
    "'''\n",
    "merged_test_rf.groupby('Gender').agg({'Loan_Status': 'mean',  \n",
    "                        'Loan_Status_Preds': 'mean'}).transpose()"
   ]
  },
  {
   "cell_type": "code",
   "execution_count": 19,
   "metadata": {},
   "outputs": [
    {
     "name": "stdout",
     "output_type": "stream",
     "text": [
      "LR CM for M: [[4, 30], [5, 78]]\tF: [[0, 9], [1, 14]]\n",
      "RF CM for M: [[20, 14], [4, 79]]\tF: [[7, 2], [0, 15]]\n"
     ]
    }
   ],
   "source": [
    "# male_df = merged_test_lr[merged_test_lr['Gender'] == 1]\n",
    "# female_df = merged_test_lr[merged_test_lr['Gender'] == 0]\n",
    "\n",
    "\n",
    "# male_confusion_values = confusion_matrix(male_df['Loan_Status'], male_df['Loan_Status_Preds'])\n",
    "# [[male_tn , male_fp],[male_fn , male_tp]] = male_confusion_values\n",
    "\n",
    "# female_confusion_values = confusion_matrix(female_df['Loan_Status'], female_df['Loan_Status_Preds'])\n",
    "# [[female_tn , female_fp],[female_fn , female_tp]] = female_confusion_values\n",
    "# [[male_tn , male_fp],[male_fn , male_tp]]\n",
    "# [[female_tn , female_fp],[female_fn , female_tp]]\n",
    "\n",
    "def calc_confusion_metrics(df, tag=False):\n",
    "    male_df = df[df['Gender'] == 1]\n",
    "    female_df = df[df['Gender'] == 0]\n",
    "\n",
    "    pred_col = 'Loan_Status_Fair' if tag else 'Loan_Status_Preds'\n",
    "        \n",
    "    male_confusion_values = confusion_matrix(male_df['Loan_Status'], male_df[pred_col])\n",
    "    [[male_tn , male_fp],[male_fn , male_tp]] = male_confusion_values\n",
    "\n",
    "    female_confusion_values = confusion_matrix(female_df['Loan_Status'], female_df[pred_col])\n",
    "    [[female_tn , female_fp],[female_fn , female_tp]] = female_confusion_values\n",
    "    return [[male_tn , male_fp],[male_fn , male_tp]],[[female_tn , female_fp],[female_fn , female_tp]]\n",
    "\n",
    "lr_male_metrics, lr_female_metrics = calc_confusion_metrics(merged_test_lr)\n",
    "rf_male_metrics, rf_female_metrics = calc_confusion_metrics(merged_test_rf)\n",
    "# [[white_tn , white_fp],[white_fn , white_tp]] = \n",
    "# [[white_tn , white_fp],[white_fn , white_tp]]\n",
    "\n",
    "print(f'LR CM for M: {lr_male_metrics}\\tF: {lr_female_metrics}')\n",
    "print(f'RF CM for M: {rf_male_metrics}\\tF: {rf_female_metrics}')"
   ]
  },
  {
   "cell_type": "code",
   "execution_count": 20,
   "metadata": {},
   "outputs": [
    {
     "name": "stdout",
     "output_type": "stream",
     "text": [
      "LR\n",
      "FPR for Female Gender: 1.0 | FPR for Male Gender: 0.8823529411764706\n",
      "FNR for Female Gender: 0.06666666666666667 | FNR for Male Gender: 0.060240963855421686\n",
      "\n",
      "\n",
      "RF\n",
      "FPR for Female Gender: 0.2222222222222222 | FPR for Male Gender: 0.4117647058823529\n",
      "FNR for Female Gender: 0.0 | FNR for Male Gender: 0.04819277108433735\n",
      "\n",
      "\n"
     ]
    }
   ],
   "source": [
    "def fpr_fnr(male_metrics,female_metrics, tag= 'LR'):\n",
    "    [[male_tn , male_fp],[male_fn , male_tp]] = male_metrics\n",
    "    [[female_tn , female_fp],[female_fn , female_tp]] = female_metrics\n",
    "    \n",
    "    female_fpr = female_fp/ (female_fp + female_tn)\n",
    "    male_fpr = male_fp/ (male_fp + male_tn)\n",
    "\n",
    "    female_fnr = female_fn/ (female_fn + female_tp)\n",
    "    male_fnr = male_fn/ (male_fn + male_tp)\n",
    "    print(tag)\n",
    "    print(f'FPR for Female Gender: {female_fpr} | FPR for Male Gender: {male_fpr}')\n",
    "    print(f'FNR for Female Gender: {female_fnr} | FNR for Male Gender: {male_fnr}\\n\\n')\n",
    "    \n",
    "fpr_fnr(lr_male_metrics, lr_female_metrics, tag= 'LR')\n",
    "fpr_fnr(rf_male_metrics, rf_female_metrics, tag= 'RF')"
   ]
  },
  {
   "cell_type": "markdown",
   "metadata": {},
   "source": [
    "# Mitigating Equalised Odds Unfairness"
   ]
  },
  {
   "cell_type": "code",
   "execution_count": 21,
   "metadata": {},
   "outputs": [],
   "source": [
    "class RF(BaseEstimator, ClassifierMixin):\n",
    "    def __init__(self, model):\n",
    "        self.rf_model = model\n",
    "\n",
    "    def fit(self, X, y):\n",
    "        try:\n",
    "            check_is_fitted(self.rf_model)\n",
    "            self.rf_model_ = self.rf_model\n",
    "        except NotFittedError:\n",
    "            self.rf_model_ = clone(\n",
    "                self.rf_model\n",
    "            ).fit(X, y)\n",
    "        return self\n",
    "\n",
    "    def predict(self, X):\n",
    "        scores = self.rf_model_.predict_proba(X)[:, 1]\n",
    "        return scores\n",
    "    \n",
    "class LR(BaseEstimator, ClassifierMixin):\n",
    "    def __init__(self, model):\n",
    "        self.rf_model = model\n",
    "\n",
    "    def fit(self, X, y):\n",
    "        try:\n",
    "            check_is_fitted(self.rf_model)\n",
    "            self.rf_model_ = self.rf_model\n",
    "        except NotFittedError:\n",
    "            self.rf_model_ = clone(\n",
    "                self.rf_model\n",
    "            ).fit(X, y)\n",
    "        return self\n",
    "\n",
    "    def predict(self, X):\n",
    "        scores = self.rf_model_.predict_proba(X)[:, 1]\n",
    "        return scores"
   ]
  },
  {
   "cell_type": "code",
   "execution_count": 22,
   "metadata": {},
   "outputs": [
    {
     "data": {
      "text/plain": [
       "'\\nFirst Unfairness Mitigation in  Random Forest Classifier\\n'"
      ]
     },
     "execution_count": 22,
     "metadata": {},
     "output_type": "execute_result"
    },
    {
     "name": "stderr",
     "output_type": "stream",
     "text": [
      "'predict_method' default value is changed from 'predict' to 'auto'. Explicitly pass `predict_method='predict' to replicate the old behavior, or pass `predict_method='auto' or other valid values to silence this warning.\n",
      "From version 0.24, get_params will raise an AttributeError if a parameter cannot be retrieved as an instance attribute. Previously it would return None.\n"
     ]
    },
    {
     "data": {
      "text/plain": [
       "ThresholdOptimizer(constraints='equalized_odds', estimator=RF(model=None),\n",
       "                   flip=False, grid_size=1000, objective='accuracy_score',\n",
       "                   predict_method='deprecated', prefit=True)"
      ]
     },
     "execution_count": 22,
     "metadata": {},
     "output_type": "execute_result"
    }
   ],
   "source": [
    "'''\n",
    "First Unfairness Mitigation in  Random Forest Classifier\n",
    "'''\n",
    "estimator_wrapper_rf = RF(fairness_unaware_rf).fit(X_train, y_train)\n",
    "\n",
    "postprocessed_predictor_EO_rf = ThresholdOptimizer(\n",
    "    estimator=estimator_wrapper_rf, constraints=\"equalized_odds\", prefit=True\n",
    "    #estimator=estimator_wrapper_rf, constraints=\"false_positive_rate_parity\", prefit=True\n",
    ")\n",
    "\n",
    "postprocessed_predictor_EO_rf.fit(\n",
    "    X_train, y_train, sensitive_features=sensitive_attributes_train\n",
    ")\n",
    "\n",
    "fairness_aware_predictions_EO_train_rf = postprocessed_predictor_EO_rf.predict(\n",
    "    X_train, sensitive_features=sensitive_attributes_train\n",
    ")\n",
    "fairness_aware_predictions_EO_test_rf = postprocessed_predictor_EO_rf.predict(\n",
    "    X_test, sensitive_features=sensitive_attributes_test\n",
    ")"
   ]
  },
  {
   "cell_type": "code",
   "execution_count": 23,
   "metadata": {},
   "outputs": [
    {
     "data": {
      "text/plain": [
       "0.8581560283687943"
      ]
     },
     "execution_count": 23,
     "metadata": {},
     "output_type": "execute_result"
    }
   ],
   "source": [
    "unaware_y_pred = fairness_unaware_rf.predict(X_test)\n",
    "accuracy_score(y_test, unaware_y_pred)"
   ]
  },
  {
   "cell_type": "code",
   "execution_count": 24,
   "metadata": {},
   "outputs": [
    {
     "data": {
      "text/plain": [
       "0.8439716312056738"
      ]
     },
     "execution_count": 24,
     "metadata": {},
     "output_type": "execute_result"
    }
   ],
   "source": [
    "accuracy_score(y_test, fairness_aware_predictions_EO_test_rf)"
   ]
  },
  {
   "cell_type": "code",
   "execution_count": 25,
   "metadata": {},
   "outputs": [
    {
     "data": {
      "text/plain": [
       "'\\nBefore Fairness Constraint Applied\\n'"
      ]
     },
     "execution_count": 25,
     "metadata": {},
     "output_type": "execute_result"
    },
    {
     "data": {
      "text/plain": [
       "Gender\n",
       "0    0.916667\n",
       "1    0.846154\n",
       "dtype: float64"
      ]
     },
     "execution_count": 25,
     "metadata": {},
     "output_type": "execute_result"
    },
    {
     "data": {
      "text/plain": [
       "'\\nAfter Fairness Constraint Applied. Slight Decrease for males\\n'"
      ]
     },
     "execution_count": 25,
     "metadata": {},
     "output_type": "execute_result"
    },
    {
     "data": {
      "text/plain": [
       "Gender\n",
       "0    0.916667\n",
       "1    0.829060\n",
       "dtype: float64"
      ]
     },
     "execution_count": 25,
     "metadata": {},
     "output_type": "execute_result"
    }
   ],
   "source": [
    "merged_test_rf['Loan_Status_Fair'] =  fairness_aware_predictions_EO_test_rf\n",
    "'''\n",
    "Before Fairness Constraint Applied\n",
    "'''\n",
    "(merged_test_rf['Loan_Status'] == merged_test_rf['Loan_Status_Preds']).astype(int).groupby(merged_test_rf['Gender']).mean()\n",
    "'''\n",
    "After Fairness Constraint Applied. Slight Decrease for males\n",
    "'''\n",
    "(merged_test_rf['Loan_Status'] == merged_test_rf['Loan_Status_Fair']).astype(int).groupby(merged_test_rf['Gender']).mean()"
   ]
  },
  {
   "cell_type": "code",
   "execution_count": 26,
   "metadata": {},
   "outputs": [
    {
     "data": {
      "text/plain": [
       "'\\nchecking probability for loan status for those who got their loan approved\\n\\nFairness Type: Predictive Parity Using Random Forest\\n'"
      ]
     },
     "execution_count": 26,
     "metadata": {},
     "output_type": "execute_result"
    },
    {
     "data": {
      "text/plain": [
       "Gender\n",
       "0    1.000000\n",
       "1    0.951807\n",
       "Name: Loan_Status_Preds, dtype: float64"
      ]
     },
     "execution_count": 26,
     "metadata": {},
     "output_type": "execute_result"
    },
    {
     "data": {
      "text/plain": [
       "'\\nAfter FPR Parity solved. Dip in fairness\\n'"
      ]
     },
     "execution_count": 26,
     "metadata": {},
     "output_type": "execute_result"
    },
    {
     "data": {
      "text/plain": [
       "Gender\n",
       "0    1.000000\n",
       "1    0.927711\n",
       "Name: Loan_Status_Fair, dtype: float64"
      ]
     },
     "execution_count": 26,
     "metadata": {},
     "output_type": "execute_result"
    }
   ],
   "source": [
    "'''\n",
    "checking probability for loan status for those who got their loan approved\n",
    "\n",
    "Fairness Type: Predictive Parity Using Random Forest\n",
    "'''\n",
    "merged_test_rf[merged_test_rf['Loan_Status']==1]['Loan_Status_Preds'].groupby(merged_test_rf['Gender']).mean()\n",
    "'''\n",
    "After FPR Parity solved. Dip in fairness\n",
    "'''\n",
    "merged_test_rf[merged_test_rf['Loan_Status']==1]['Loan_Status_Fair'].groupby(merged_test_rf['Gender']).mean()"
   ]
  },
  {
   "cell_type": "code",
   "execution_count": 27,
   "metadata": {},
   "outputs": [
    {
     "data": {
      "text/plain": [
       "'\\nChecking average Loan Approvals of both genders on RF\\n'"
      ]
     },
     "execution_count": 27,
     "metadata": {},
     "output_type": "execute_result"
    },
    {
     "data": {
      "text/html": [
       "<div>\n",
       "<style scoped>\n",
       "    .dataframe tbody tr th:only-of-type {\n",
       "        vertical-align: middle;\n",
       "    }\n",
       "\n",
       "    .dataframe tbody tr th {\n",
       "        vertical-align: top;\n",
       "    }\n",
       "\n",
       "    .dataframe thead th {\n",
       "        text-align: right;\n",
       "    }\n",
       "</style>\n",
       "<table border=\"1\" class=\"dataframe\">\n",
       "  <thead>\n",
       "    <tr style=\"text-align: right;\">\n",
       "      <th>Gender</th>\n",
       "      <th>0</th>\n",
       "      <th>1</th>\n",
       "    </tr>\n",
       "  </thead>\n",
       "  <tbody>\n",
       "    <tr>\n",
       "      <th>Loan_Status</th>\n",
       "      <td>0.625000</td>\n",
       "      <td>0.709402</td>\n",
       "    </tr>\n",
       "    <tr>\n",
       "      <th>Loan_Status_Preds</th>\n",
       "      <td>0.708333</td>\n",
       "      <td>0.794872</td>\n",
       "    </tr>\n",
       "  </tbody>\n",
       "</table>\n",
       "</div>"
      ],
      "text/plain": [
       "Gender                    0         1\n",
       "Loan_Status        0.625000  0.709402\n",
       "Loan_Status_Preds  0.708333  0.794872"
      ]
     },
     "execution_count": 27,
     "metadata": {},
     "output_type": "execute_result"
    },
    {
     "data": {
      "text/plain": [
       "'\\nChecking average Loan Approvals of both genders on RF After Fairness. Slight Improvement for males\\n'"
      ]
     },
     "execution_count": 27,
     "metadata": {},
     "output_type": "execute_result"
    },
    {
     "data": {
      "text/html": [
       "<div>\n",
       "<style scoped>\n",
       "    .dataframe tbody tr th:only-of-type {\n",
       "        vertical-align: middle;\n",
       "    }\n",
       "\n",
       "    .dataframe tbody tr th {\n",
       "        vertical-align: top;\n",
       "    }\n",
       "\n",
       "    .dataframe thead th {\n",
       "        text-align: right;\n",
       "    }\n",
       "</style>\n",
       "<table border=\"1\" class=\"dataframe\">\n",
       "  <thead>\n",
       "    <tr style=\"text-align: right;\">\n",
       "      <th>Gender</th>\n",
       "      <th>0</th>\n",
       "      <th>1</th>\n",
       "    </tr>\n",
       "  </thead>\n",
       "  <tbody>\n",
       "    <tr>\n",
       "      <th>Loan_Status</th>\n",
       "      <td>0.625000</td>\n",
       "      <td>0.709402</td>\n",
       "    </tr>\n",
       "    <tr>\n",
       "      <th>Loan_Status_Fair</th>\n",
       "      <td>0.708333</td>\n",
       "      <td>0.777778</td>\n",
       "    </tr>\n",
       "  </tbody>\n",
       "</table>\n",
       "</div>"
      ],
      "text/plain": [
       "Gender                   0         1\n",
       "Loan_Status       0.625000  0.709402\n",
       "Loan_Status_Fair  0.708333  0.777778"
      ]
     },
     "execution_count": 27,
     "metadata": {},
     "output_type": "execute_result"
    }
   ],
   "source": [
    "'''\n",
    "Checking average Loan Approvals of both genders on RF\n",
    "'''\n",
    "merged_test_rf.groupby('Gender').agg({'Loan_Status': 'mean',  \n",
    "                        'Loan_Status_Preds': 'mean'}).transpose()\n",
    "'''\n",
    "Checking average Loan Approvals of both genders on RF After Fairness. Slight Improvement for males\n",
    "'''\n",
    "merged_test_rf.groupby('Gender').agg({'Loan_Status': 'mean',  \n",
    "                        'Loan_Status_Fair': 'mean'}).transpose()"
   ]
  },
  {
   "cell_type": "code",
   "execution_count": 28,
   "metadata": {},
   "outputs": [
    {
     "name": "stdout",
     "output_type": "stream",
     "text": [
      "RF\n",
      "FPR for Female Gender: 0.2222222222222222 | FPR for Male Gender: 0.4117647058823529\n",
      "FNR for Female Gender: 0.0 | FNR for Male Gender: 0.04819277108433735\n",
      "\n",
      "\n"
     ]
    },
    {
     "data": {
      "text/plain": [
       "'\\nAfter fairness\\n'"
      ]
     },
     "execution_count": 28,
     "metadata": {},
     "output_type": "execute_result"
    },
    {
     "name": "stdout",
     "output_type": "stream",
     "text": [
      "RF\n",
      "FPR for Female Gender: 0.2222222222222222 | FPR for Male Gender: 0.4117647058823529\n",
      "FNR for Female Gender: 0.0 | FNR for Male Gender: 0.07228915662650602\n",
      "\n",
      "\n"
     ]
    }
   ],
   "source": [
    "rf_male_metrics, rf_female_metrics = calc_confusion_metrics(merged_test_rf, tag = False)\n",
    "fpr_fnr(rf_male_metrics, rf_female_metrics, tag= 'RF')\n",
    "'''\n",
    "After fairness\n",
    "'''\n",
    "rf_male_metrics, rf_female_metrics = calc_confusion_metrics(merged_test_rf, tag = True)\n",
    "fpr_fnr(rf_male_metrics, rf_female_metrics, tag= 'RF')"
   ]
  },
  {
   "cell_type": "markdown",
   "metadata": {},
   "source": [
    "# Mitigating Logistic Regression Unfairness"
   ]
  },
  {
   "cell_type": "code",
   "execution_count": 29,
   "metadata": {},
   "outputs": [
    {
     "data": {
      "text/plain": [
       "'\\nFirst Unfairness Mitigation in  Logistic Regression Classifier\\n'"
      ]
     },
     "execution_count": 29,
     "metadata": {},
     "output_type": "execute_result"
    },
    {
     "name": "stderr",
     "output_type": "stream",
     "text": [
      "'predict_method' default value is changed from 'predict' to 'auto'. Explicitly pass `predict_method='predict' to replicate the old behavior, or pass `predict_method='auto' or other valid values to silence this warning.\n",
      "From version 0.24, get_params will raise an AttributeError if a parameter cannot be retrieved as an instance attribute. Previously it would return None.\n"
     ]
    },
    {
     "data": {
      "text/plain": [
       "ThresholdOptimizer(constraints='equalized_odds', estimator=LR(model=None),\n",
       "                   flip=False, grid_size=1000, objective='accuracy_score',\n",
       "                   predict_method='deprecated', prefit=True)"
      ]
     },
     "execution_count": 29,
     "metadata": {},
     "output_type": "execute_result"
    },
    {
     "data": {
      "text/plain": [
       "0.6808510638297872"
      ]
     },
     "execution_count": 29,
     "metadata": {},
     "output_type": "execute_result"
    }
   ],
   "source": [
    "'''\n",
    "First Unfairness Mitigation in  Logistic Regression Classifier\n",
    "'''\n",
    "estimator_wrapper_lr = LR(fairness_unaware_lr).fit(X_train, y_train)\n",
    "\n",
    "postprocessed_predictor_EO_lr = ThresholdOptimizer(\n",
    "    estimator=estimator_wrapper_lr, constraints=\"equalized_odds\", prefit=True\n",
    "    #estimator=estimator_wrapper_rf, constraints=\"false_positive_rate_parity\", prefit=True\n",
    ")\n",
    "\n",
    "postprocessed_predictor_EO_lr.fit(\n",
    "    X_train, y_train, sensitive_features=sensitive_attributes_train\n",
    ")\n",
    "\n",
    "fairness_aware_predictions_EO_train_lr = postprocessed_predictor_EO_lr.predict(\n",
    "    X_train, sensitive_features=sensitive_attributes_train\n",
    ")\n",
    "fairness_aware_predictions_EO_test_lr = postprocessed_predictor_EO_lr.predict(\n",
    "    X_test, sensitive_features=sensitive_attributes_test\n",
    ")\n",
    "unaware_y_pred_lr = fairness_unaware_lr.predict(X_test)\n",
    "accuracy_score(y_test, unaware_y_pred_lr)"
   ]
  },
  {
   "cell_type": "code",
   "execution_count": 30,
   "metadata": {},
   "outputs": [
    {
     "data": {
      "text/plain": [
       "0.7163120567375887"
      ]
     },
     "execution_count": 30,
     "metadata": {},
     "output_type": "execute_result"
    }
   ],
   "source": [
    "accuracy_score(y_test, fairness_aware_predictions_EO_test_lr)"
   ]
  },
  {
   "cell_type": "code",
   "execution_count": 31,
   "metadata": {},
   "outputs": [
    {
     "data": {
      "text/plain": [
       "'\\nBefore Fairness Constraint Applied\\n'"
      ]
     },
     "execution_count": 31,
     "metadata": {},
     "output_type": "execute_result"
    },
    {
     "data": {
      "text/plain": [
       "Gender\n",
       "0    0.583333\n",
       "1    0.700855\n",
       "dtype: float64"
      ]
     },
     "execution_count": 31,
     "metadata": {},
     "output_type": "execute_result"
    },
    {
     "data": {
      "text/plain": [
       "'\\nAfter Fairness Constraint Applied. Significant Increase\\n'"
      ]
     },
     "execution_count": 31,
     "metadata": {},
     "output_type": "execute_result"
    },
    {
     "data": {
      "text/plain": [
       "Gender\n",
       "0    0.625000\n",
       "1    0.735043\n",
       "dtype: float64"
      ]
     },
     "execution_count": 31,
     "metadata": {},
     "output_type": "execute_result"
    }
   ],
   "source": [
    "merged_test_lr['Loan_Status_Fair'] =  fairness_aware_predictions_EO_test_lr\n",
    "'''\n",
    "Before Fairness Constraint Applied\n",
    "'''\n",
    "(merged_test_lr['Loan_Status'] == merged_test_lr['Loan_Status_Preds']).astype(int).groupby(merged_test_lr['Gender']).mean()\n",
    "'''\n",
    "After Fairness Constraint Applied. Significant Increase\n",
    "'''\n",
    "(merged_test_lr['Loan_Status'] == merged_test_lr['Loan_Status_Fair']).astype(int).groupby(merged_test_lr['Gender']).mean()"
   ]
  },
  {
   "cell_type": "code",
   "execution_count": 32,
   "metadata": {},
   "outputs": [
    {
     "data": {
      "text/plain": [
       "'\\nchecking probability for loan status for those who got their loan approved\\n\\nFairness Type: Predictive Parity Using LR\\n'"
      ]
     },
     "execution_count": 32,
     "metadata": {},
     "output_type": "execute_result"
    },
    {
     "data": {
      "text/plain": [
       "Gender\n",
       "0    0.933333\n",
       "1    0.939759\n",
       "Name: Loan_Status_Preds, dtype: float64"
      ]
     },
     "execution_count": 32,
     "metadata": {},
     "output_type": "execute_result"
    },
    {
     "data": {
      "text/plain": [
       "'\\nAfter FPR Parity solved. Significant Improvement.\\n'"
      ]
     },
     "execution_count": 32,
     "metadata": {},
     "output_type": "execute_result"
    },
    {
     "data": {
      "text/plain": [
       "Gender\n",
       "0    1\n",
       "1    1\n",
       "Name: Loan_Status_Fair, dtype: int64"
      ]
     },
     "execution_count": 32,
     "metadata": {},
     "output_type": "execute_result"
    }
   ],
   "source": [
    "'''\n",
    "checking probability for loan status for those who got their loan approved\n",
    "\n",
    "Fairness Type: Predictive Parity Using LR\n",
    "'''\n",
    "merged_test_lr[merged_test_lr['Loan_Status']==1]['Loan_Status_Preds'].groupby(merged_test_lr['Gender']).mean()\n",
    "'''\n",
    "After FPR Parity solved. Significant Improvement.\n",
    "'''\n",
    "merged_test_lr[merged_test_lr['Loan_Status']==1]['Loan_Status_Fair'].groupby(merged_test_lr['Gender']).mean()"
   ]
  },
  {
   "cell_type": "code",
   "execution_count": 33,
   "metadata": {},
   "outputs": [
    {
     "data": {
      "text/plain": [
       "'\\nChecking average Loan Approvals of both genders on LR\\n'"
      ]
     },
     "execution_count": 33,
     "metadata": {},
     "output_type": "execute_result"
    },
    {
     "data": {
      "text/html": [
       "<div>\n",
       "<style scoped>\n",
       "    .dataframe tbody tr th:only-of-type {\n",
       "        vertical-align: middle;\n",
       "    }\n",
       "\n",
       "    .dataframe tbody tr th {\n",
       "        vertical-align: top;\n",
       "    }\n",
       "\n",
       "    .dataframe thead th {\n",
       "        text-align: right;\n",
       "    }\n",
       "</style>\n",
       "<table border=\"1\" class=\"dataframe\">\n",
       "  <thead>\n",
       "    <tr style=\"text-align: right;\">\n",
       "      <th>Gender</th>\n",
       "      <th>0</th>\n",
       "      <th>1</th>\n",
       "    </tr>\n",
       "  </thead>\n",
       "  <tbody>\n",
       "    <tr>\n",
       "      <th>Loan_Status</th>\n",
       "      <td>0.625000</td>\n",
       "      <td>0.709402</td>\n",
       "    </tr>\n",
       "    <tr>\n",
       "      <th>Loan_Status_Preds</th>\n",
       "      <td>0.958333</td>\n",
       "      <td>0.923077</td>\n",
       "    </tr>\n",
       "  </tbody>\n",
       "</table>\n",
       "</div>"
      ],
      "text/plain": [
       "Gender                    0         1\n",
       "Loan_Status        0.625000  0.709402\n",
       "Loan_Status_Preds  0.958333  0.923077"
      ]
     },
     "execution_count": 33,
     "metadata": {},
     "output_type": "execute_result"
    },
    {
     "data": {
      "text/plain": [
       "'\\nChecking average Loan Approvals of both genders on RF After Fairness. Slight Improvement for males\\n'"
      ]
     },
     "execution_count": 33,
     "metadata": {},
     "output_type": "execute_result"
    },
    {
     "data": {
      "text/html": [
       "<div>\n",
       "<style scoped>\n",
       "    .dataframe tbody tr th:only-of-type {\n",
       "        vertical-align: middle;\n",
       "    }\n",
       "\n",
       "    .dataframe tbody tr th {\n",
       "        vertical-align: top;\n",
       "    }\n",
       "\n",
       "    .dataframe thead th {\n",
       "        text-align: right;\n",
       "    }\n",
       "</style>\n",
       "<table border=\"1\" class=\"dataframe\">\n",
       "  <thead>\n",
       "    <tr style=\"text-align: right;\">\n",
       "      <th>Gender</th>\n",
       "      <th>0</th>\n",
       "      <th>1</th>\n",
       "    </tr>\n",
       "  </thead>\n",
       "  <tbody>\n",
       "    <tr>\n",
       "      <th>Loan_Status</th>\n",
       "      <td>0.625</td>\n",
       "      <td>0.709402</td>\n",
       "    </tr>\n",
       "    <tr>\n",
       "      <th>Loan_Status_Fair</th>\n",
       "      <td>1.000</td>\n",
       "      <td>0.974359</td>\n",
       "    </tr>\n",
       "  </tbody>\n",
       "</table>\n",
       "</div>"
      ],
      "text/plain": [
       "Gender                0         1\n",
       "Loan_Status       0.625  0.709402\n",
       "Loan_Status_Fair  1.000  0.974359"
      ]
     },
     "execution_count": 33,
     "metadata": {},
     "output_type": "execute_result"
    }
   ],
   "source": [
    "'''\n",
    "Checking average Loan Approvals of both genders on LR\n",
    "'''\n",
    "merged_test_lr.groupby('Gender').agg({'Loan_Status': 'mean',  \n",
    "                        'Loan_Status_Preds': 'mean'}).transpose()\n",
    "'''\n",
    "Checking average Loan Approvals of both genders on RF After Fairness. Slight Improvement for males\n",
    "'''\n",
    "merged_test_lr.groupby('Gender').agg({'Loan_Status': 'mean',  \n",
    "                        'Loan_Status_Fair': 'mean'}).transpose()"
   ]
  },
  {
   "cell_type": "code",
   "execution_count": 34,
   "metadata": {},
   "outputs": [
    {
     "data": {
      "text/plain": [
       "'\\nEqualised Odds\\n'"
      ]
     },
     "execution_count": 34,
     "metadata": {},
     "output_type": "execute_result"
    },
    {
     "name": "stdout",
     "output_type": "stream",
     "text": [
      "LR\n",
      "FPR for Female Gender: 1.0 | FPR for Male Gender: 0.8823529411764706\n",
      "FNR for Female Gender: 0.06666666666666667 | FNR for Male Gender: 0.060240963855421686\n",
      "\n",
      "\n"
     ]
    },
    {
     "data": {
      "text/plain": [
       "'\\nAfter fairness\\n'"
      ]
     },
     "execution_count": 34,
     "metadata": {},
     "output_type": "execute_result"
    },
    {
     "name": "stdout",
     "output_type": "stream",
     "text": [
      "LR\n",
      "FPR for Female Gender: 1.0 | FPR for Male Gender: 0.9117647058823529\n",
      "FNR for Female Gender: 0.0 | FNR for Male Gender: 0.0\n",
      "\n",
      "\n"
     ]
    }
   ],
   "source": [
    "'''\n",
    "Equalised Odds\n",
    "'''\n",
    "lr_male_metrics, lr_female_metrics = calc_confusion_metrics(merged_test_lr, tag = False)\n",
    "fpr_fnr(lr_male_metrics, lr_female_metrics, tag= 'LR')\n",
    "'''\n",
    "After fairness\n",
    "'''\n",
    "lr_male_metrics, lr_female_metrics = calc_confusion_metrics(merged_test_lr, tag = True)\n",
    "fpr_fnr(lr_male_metrics, lr_female_metrics, tag= 'LR')"
   ]
  },
  {
   "cell_type": "code",
   "execution_count": 41,
   "metadata": {},
   "outputs": [],
   "source": [
    "def show_proportions(\n",
    "    X, sensitive_features, y_pred, y=None, description=None, plot_row_index=1\n",
    "):\n",
    "    print(\"\\n\" + description)\n",
    "    plt.figure(plot_row_index)\n",
    "    plt.title(description)\n",
    "    plt.ylabel(\"P[recidivism predicted | conditions]\")\n",
    "\n",
    "    indices = {}\n",
    "    positive_indices = {}\n",
    "    negative_indices = {}\n",
    "    recidivism_count = {}\n",
    "    recidivism_pct = {}\n",
    "    groups = np.unique(sensitive_features.values)\n",
    "    n_groups = len(groups)\n",
    "    max_group_length = 1#max([len(str(group)) for group in groups])\n",
    "    color = cm.rainbow(np.linspace(0, 1, n_groups))\n",
    "    x_tick_labels_basic = []\n",
    "    x_tick_labels_by_label = []\n",
    "    for index, group in enumerate(groups):\n",
    "        indices[group] = sensitive_features.index[sensitive_features == group]\n",
    "        recidivism_count[group] = sum(y_pred[indices[group]])\n",
    "        recidivism_pct[group] = recidivism_count[group] / len(indices[group])\n",
    "        print(\n",
    "            \"P[recidivism predicted | {}]                {}= {}\".format(\n",
    "                group, \" \" * (max_group_length - len(group)), recidivism_pct[group]\n",
    "            )\n",
    "        )\n",
    "\n",
    "        plt.bar(index + 1, recidivism_pct[group], color=color[index])\n",
    "        x_tick_labels_basic.append(group)\n",
    "\n",
    "        if y is not None:\n",
    "            positive_indices[group] = sensitive_features.index[\n",
    "                (sensitive_features == group) & (y == 1)\n",
    "            ]\n",
    "            negative_indices[group] = sensitive_features.index[\n",
    "                (sensitive_features == group) & (y == 0)\n",
    "            ]\n",
    "            prob_1 = sum(y_pred[positive_indices[group]]) / len(positive_indices[group])\n",
    "            prob_0 = sum(y_pred[negative_indices[group]]) / len(negative_indices[group])\n",
    "            print(\n",
    "                \"P[recidivism predicted | {}, recidivism]    {}= {}\".format(\n",
    "                    group, \" \" * (max_group_length - len(group)), prob_1\n",
    "                )\n",
    "            )\n",
    "            print(\n",
    "                \"P[recidivism predicted | {}, no recidivism] {}= {}\".format(\n",
    "                    group, \" \" * (max_group_length - len(group)), prob_0\n",
    "                )\n",
    "            )\n",
    "\n",
    "            plt.bar(n_groups + 1 + 2 * index, prob_1, color=color[index])\n",
    "            plt.bar(n_groups + 2 + 2 * index, prob_0, color=color[index])\n",
    "            x_tick_labels_by_label.extend(\n",
    "                [\"{} recidivism\".format(group), \"{} no recidivism\".format(group)]\n",
    "            )\n",
    "\n",
    "    x_tick_labels = x_tick_labels_basic + x_tick_labels_by_label\n",
    "    plt.xticks(\n",
    "        range(1, len(x_tick_labels) + 1),\n",
    "        x_tick_labels,\n",
    "        rotation=45,\n",
    "        horizontalalignment=\"right\",\n",
    "    )"
   ]
  },
  {
   "cell_type": "code",
   "execution_count": 49,
   "metadata": {},
   "outputs": [
    {
     "ename": "ValueError",
     "evalue": "Input contains NaN, infinity or a value too large for dtype('float64').",
     "output_type": "error",
     "traceback": [
      "\u001b[0;31m---------------------------------------------------------------------------\u001b[0m",
      "\u001b[0;31mValueError\u001b[0m                                Traceback (most recent call last)",
      "\u001b[0;32m<ipython-input-49-7918c8b7afdd>\u001b[0m in \u001b[0;36m<module>\u001b[0;34m\u001b[0m\n\u001b[1;32m      5\u001b[0m     \u001b[0mX_test\u001b[0m\u001b[0;34m,\u001b[0m\u001b[0;34m\u001b[0m\u001b[0;34m\u001b[0m\u001b[0m\n\u001b[1;32m      6\u001b[0m     \u001b[0msensitive_attributes_test\u001b[0m\u001b[0;34m,\u001b[0m\u001b[0;34m\u001b[0m\u001b[0;34m\u001b[0m\u001b[0m\n\u001b[0;32m----> 7\u001b[0;31m     \u001b[0mfairness_unaware_lr\u001b[0m\u001b[0;34m.\u001b[0m\u001b[0mpredict\u001b[0m\u001b[0;34m(\u001b[0m\u001b[0mX_test\u001b[0m\u001b[0;34m)\u001b[0m\u001b[0;34m,\u001b[0m\u001b[0;34m\u001b[0m\u001b[0;34m\u001b[0m\u001b[0m\n\u001b[0m\u001b[1;32m      8\u001b[0m     \u001b[0my_test\u001b[0m\u001b[0;34m,\u001b[0m\u001b[0;34m\u001b[0m\u001b[0;34m\u001b[0m\u001b[0m\n\u001b[1;32m      9\u001b[0m     \u001b[0mdescription\u001b[0m\u001b[0;34m=\u001b[0m\u001b[0;34m\"Fairness Unaware LR\"\u001b[0m\u001b[0;34m,\u001b[0m\u001b[0;34m\u001b[0m\u001b[0;34m\u001b[0m\u001b[0m\n",
      "\u001b[0;32m~/opt/anaconda3/lib/python3.7/site-packages/sklearn/linear_model/_base.py\u001b[0m in \u001b[0;36mpredict\u001b[0;34m(self, X)\u001b[0m\n\u001b[1;32m    291\u001b[0m             \u001b[0mPredicted\u001b[0m \u001b[0;32mclass\u001b[0m \u001b[0mlabel\u001b[0m \u001b[0mper\u001b[0m \u001b[0msample\u001b[0m\u001b[0;34m.\u001b[0m\u001b[0;34m\u001b[0m\u001b[0;34m\u001b[0m\u001b[0m\n\u001b[1;32m    292\u001b[0m         \"\"\"\n\u001b[0;32m--> 293\u001b[0;31m         \u001b[0mscores\u001b[0m \u001b[0;34m=\u001b[0m \u001b[0mself\u001b[0m\u001b[0;34m.\u001b[0m\u001b[0mdecision_function\u001b[0m\u001b[0;34m(\u001b[0m\u001b[0mX\u001b[0m\u001b[0;34m)\u001b[0m\u001b[0;34m\u001b[0m\u001b[0;34m\u001b[0m\u001b[0m\n\u001b[0m\u001b[1;32m    294\u001b[0m         \u001b[0;32mif\u001b[0m \u001b[0mlen\u001b[0m\u001b[0;34m(\u001b[0m\u001b[0mscores\u001b[0m\u001b[0;34m.\u001b[0m\u001b[0mshape\u001b[0m\u001b[0;34m)\u001b[0m \u001b[0;34m==\u001b[0m \u001b[0;36m1\u001b[0m\u001b[0;34m:\u001b[0m\u001b[0;34m\u001b[0m\u001b[0;34m\u001b[0m\u001b[0m\n\u001b[1;32m    295\u001b[0m             \u001b[0mindices\u001b[0m \u001b[0;34m=\u001b[0m \u001b[0;34m(\u001b[0m\u001b[0mscores\u001b[0m \u001b[0;34m>\u001b[0m \u001b[0;36m0\u001b[0m\u001b[0;34m)\u001b[0m\u001b[0;34m.\u001b[0m\u001b[0mastype\u001b[0m\u001b[0;34m(\u001b[0m\u001b[0mnp\u001b[0m\u001b[0;34m.\u001b[0m\u001b[0mint\u001b[0m\u001b[0;34m)\u001b[0m\u001b[0;34m\u001b[0m\u001b[0;34m\u001b[0m\u001b[0m\n",
      "\u001b[0;32m~/opt/anaconda3/lib/python3.7/site-packages/sklearn/linear_model/_base.py\u001b[0m in \u001b[0;36mdecision_function\u001b[0;34m(self, X)\u001b[0m\n\u001b[1;32m    266\u001b[0m         \u001b[0mcheck_is_fitted\u001b[0m\u001b[0;34m(\u001b[0m\u001b[0mself\u001b[0m\u001b[0;34m)\u001b[0m\u001b[0;34m\u001b[0m\u001b[0;34m\u001b[0m\u001b[0m\n\u001b[1;32m    267\u001b[0m \u001b[0;34m\u001b[0m\u001b[0m\n\u001b[0;32m--> 268\u001b[0;31m         \u001b[0mX\u001b[0m \u001b[0;34m=\u001b[0m \u001b[0mcheck_array\u001b[0m\u001b[0;34m(\u001b[0m\u001b[0mX\u001b[0m\u001b[0;34m,\u001b[0m \u001b[0maccept_sparse\u001b[0m\u001b[0;34m=\u001b[0m\u001b[0;34m'csr'\u001b[0m\u001b[0;34m)\u001b[0m\u001b[0;34m\u001b[0m\u001b[0;34m\u001b[0m\u001b[0m\n\u001b[0m\u001b[1;32m    269\u001b[0m \u001b[0;34m\u001b[0m\u001b[0m\n\u001b[1;32m    270\u001b[0m         \u001b[0mn_features\u001b[0m \u001b[0;34m=\u001b[0m \u001b[0mself\u001b[0m\u001b[0;34m.\u001b[0m\u001b[0mcoef_\u001b[0m\u001b[0;34m.\u001b[0m\u001b[0mshape\u001b[0m\u001b[0;34m[\u001b[0m\u001b[0;36m1\u001b[0m\u001b[0;34m]\u001b[0m\u001b[0;34m\u001b[0m\u001b[0;34m\u001b[0m\u001b[0m\n",
      "\u001b[0;32m~/opt/anaconda3/lib/python3.7/site-packages/sklearn/utils/validation.py\u001b[0m in \u001b[0;36mcheck_array\u001b[0;34m(array, accept_sparse, accept_large_sparse, dtype, order, copy, force_all_finite, ensure_2d, allow_nd, ensure_min_samples, ensure_min_features, warn_on_dtype, estimator)\u001b[0m\n\u001b[1;32m    576\u001b[0m         \u001b[0;32mif\u001b[0m \u001b[0mforce_all_finite\u001b[0m\u001b[0;34m:\u001b[0m\u001b[0;34m\u001b[0m\u001b[0;34m\u001b[0m\u001b[0m\n\u001b[1;32m    577\u001b[0m             _assert_all_finite(array,\n\u001b[0;32m--> 578\u001b[0;31m                                allow_nan=force_all_finite == 'allow-nan')\n\u001b[0m\u001b[1;32m    579\u001b[0m \u001b[0;34m\u001b[0m\u001b[0m\n\u001b[1;32m    580\u001b[0m     \u001b[0;32mif\u001b[0m \u001b[0mensure_min_samples\u001b[0m \u001b[0;34m>\u001b[0m \u001b[0;36m0\u001b[0m\u001b[0;34m:\u001b[0m\u001b[0;34m\u001b[0m\u001b[0;34m\u001b[0m\u001b[0m\n",
      "\u001b[0;32m~/opt/anaconda3/lib/python3.7/site-packages/sklearn/utils/validation.py\u001b[0m in \u001b[0;36m_assert_all_finite\u001b[0;34m(X, allow_nan, msg_dtype)\u001b[0m\n\u001b[1;32m     58\u001b[0m                     \u001b[0mmsg_err\u001b[0m\u001b[0;34m.\u001b[0m\u001b[0mformat\u001b[0m\u001b[0;34m\u001b[0m\u001b[0;34m\u001b[0m\u001b[0m\n\u001b[1;32m     59\u001b[0m                     (type_err,\n\u001b[0;32m---> 60\u001b[0;31m                      msg_dtype if msg_dtype is not None else X.dtype)\n\u001b[0m\u001b[1;32m     61\u001b[0m             )\n\u001b[1;32m     62\u001b[0m     \u001b[0;31m# for object dtype data, we only check for NaNs (GH-13254)\u001b[0m\u001b[0;34m\u001b[0m\u001b[0;34m\u001b[0m\u001b[0;34m\u001b[0m\u001b[0m\n",
      "\u001b[0;31mValueError\u001b[0m: Input contains NaN, infinity or a value too large for dtype('float64')."
     ]
    }
   ],
   "source": [
    "#X_test = X_test.drop(['Gender'], axis = 1)\n",
    "X_test['Gender'] = sensitive_attributes_test.replace({\"Female\": 0, \"Male\": 1}, inplace=True)\n",
    "sensitive_attributes_test.replace({0: \"Female\", 1: \"Male\"}, inplace=True)\n",
    "show_proportions(\n",
    "    X_test,\n",
    "    sensitive_attributes_test,\n",
    "    fairness_unaware_lr.predict(X_test),\n",
    "    y_test,\n",
    "    description=\"Fairness Unaware LR\",\n",
    "    plot_row_index=1,\n",
    ")\n",
    "# show_proportions(\n",
    "#     X_test,\n",
    "#     sensitive_attributes_test,\n",
    "#     fairness_aware_predictions_EO_test_lr,\n",
    "#     y_test,\n",
    "#     description=\"Equalized Odds Postprocessing Using Fairlearn\",\n",
    "#     plot_row_index=2,\n",
    "# )\n",
    "# plt.show()"
   ]
  },
  {
   "cell_type": "code",
   "execution_count": 68,
   "metadata": {},
   "outputs": [
    {
     "data": {
      "text/plain": [
       "24"
      ]
     },
     "execution_count": 68,
     "metadata": {},
     "output_type": "execute_result"
    }
   ],
   "source": [
    "len(merged_test_lr[merged_test_lr['Gender']==0])"
   ]
  },
  {
   "cell_type": "code",
   "execution_count": null,
   "metadata": {},
   "outputs": [],
   "source": []
  }
 ],
 "metadata": {
  "kernelspec": {
   "display_name": "Python 3",
   "language": "python",
   "name": "python3"
  },
  "language_info": {
   "codemirror_mode": {
    "name": "ipython",
    "version": 3
   },
   "file_extension": ".py",
   "mimetype": "text/x-python",
   "name": "python",
   "nbconvert_exporter": "python",
   "pygments_lexer": "ipython3",
   "version": "3.7.6"
  }
 },
 "nbformat": 4,
 "nbformat_minor": 4
}
