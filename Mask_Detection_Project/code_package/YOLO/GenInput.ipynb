{
 "cells": [
  {
   "cell_type": "code",
   "execution_count": 7,
   "metadata": {},
   "outputs": [],
   "source": [
    "import os\n",
    "from bs4 import BeautifulSoup\n",
    "files = list(sorted(os.listdir(\"annotations/\")))"
   ]
  },
  {
   "cell_type": "code",
   "execution_count": 8,
   "metadata": {},
   "outputs": [],
   "source": [
    "d = {\"with_mask\" : 0, \"mask_weared_incorrect\": 1, \"without_mask\" : 2}\n",
    "cnt_images = 0\n",
    "cnt_faces = 0\n",
    "for file in files:\n",
    "    with open(\"annotations/\" + file, \"r\") as input_file, open(\"labels/\" + file.split(\".\")[0] + \".txt\", \"w+\") as output_file:\n",
    "        data = input_file.read()\n",
    "        soup = BeautifulSoup(data, 'xml')\n",
    "        size = soup.find(\"size\")\n",
    "        width = int(size.width.get_text())\n",
    "        height = int(size.height.get_text())\n",
    "        \n",
    "        cnt_images += 1\n",
    "        objs = soup.find_all(\"object\")\n",
    "        for obj in objs:\n",
    "#             print(obj.find(\"xmin\"))\n",
    "            label = d[obj.find(\"name\").get_text()]\n",
    "            xmin = int(obj.find(\"xmin\").get_text())\n",
    "            ymin = int(obj.find(\"ymin\").get_text())\n",
    "            xmax = int(obj.find(\"xmax\").get_text())\n",
    "            ymax = int(obj.find(\"ymax\").get_text())\n",
    "            \n",
    "            cx = (xmin + xmax) / 2 / width\n",
    "            cy = (ymin + ymax) / 2 / height\n",
    "            cw = (xmax - xmin) / width\n",
    "            ch = (ymax - ymin) / height\n",
    "            cnt_faces += 1\n",
    "            output_file.write(\" \".join([str(label), str(cx), str(cy), str(cw), str(ch)]) + \"\\n\")\n",
    "            \n",
    "        "
   ]
  },
  {
   "cell_type": "code",
   "execution_count": 9,
   "metadata": {},
   "outputs": [
    {
     "data": {
      "text/plain": [
       "4072"
      ]
     },
     "execution_count": 9,
     "metadata": {},
     "output_type": "execute_result"
    }
   ],
   "source": [
    "cnt_faces"
   ]
  },
  {
   "cell_type": "code",
   "execution_count": 10,
   "metadata": {},
   "outputs": [
    {
     "data": {
      "text/plain": [
       "853"
      ]
     },
     "execution_count": 10,
     "metadata": {},
     "output_type": "execute_result"
    }
   ],
   "source": [
    "cnt_images"
   ]
  },
  {
   "cell_type": "code",
   "execution_count": null,
   "metadata": {},
   "outputs": [],
   "source": []
  }
 ],
 "metadata": {
  "kernelspec": {
   "display_name": "Python 3",
   "language": "python",
   "name": "python3"
  },
  "language_info": {
   "codemirror_mode": {
    "name": "ipython",
    "version": 3
   },
   "file_extension": ".py",
   "mimetype": "text/x-python",
   "name": "python",
   "nbconvert_exporter": "python",
   "pygments_lexer": "ipython3",
   "version": "3.7.4"
  }
 },
 "nbformat": 4,
 "nbformat_minor": 2
}
