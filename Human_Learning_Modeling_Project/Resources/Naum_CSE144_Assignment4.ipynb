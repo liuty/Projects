{
  "nbformat": 4,
  "nbformat_minor": 0,
  "metadata": {
    "accelerator": "GPU",
    "colab": {
      "name": "Naum-CSE144 Assignment4.ipynb",
      "provenance": [],
      "collapsed_sections": [],
      "machine_shape": "hm"
    },
    "kernelspec": {
      "display_name": "Python 3",
      "language": "python",
      "name": "python3"
    },
    "language_info": {
      "codemirror_mode": {
        "name": "ipython",
        "version": 3
      },
      "file_extension": ".py",
      "mimetype": "text/x-python",
      "name": "python",
      "nbconvert_exporter": "python",
      "pygments_lexer": "ipython3",
      "version": "3.7.7"
    }
  },
  "cells": [
    {
      "cell_type": "markdown",
      "metadata": {
        "id": "KGDA0clbLhbp"
      },
      "source": [
        "# **Assignment 4**\n",
        "\n",
        "Turn in the assignment via Canvas.\n",
        "\n",
        "To write legible answers you will need to be familiar with both [Markdown](https://github.com/adam-p/markdown-here/wiki/Markdown-Cheatsheet) and [Latex](https://www.latex-tutorial.com/tutorials/amsmath/)\n",
        "\n",
        "Before you turn this problem in, make sure everything runs as expected. First, restart the kernel (in the menubar, select Kernel→→Restart) and then run all cells (in the menubar, select Cell→→Run All).\n",
        "\n",
        "Make sure you fill in any place that says \"YOUR CODE HERE\" or \"YOUR ANSWER HERE\", as well as your name below:"
      ]
    },
    {
      "cell_type": "code",
      "metadata": {
        "id": "nOfazHDtoJxS"
      },
      "source": [
        "NAME = \"Naum Markenzon\"\n",
        "STUDENT_ID = \"1542025\""
      ],
      "execution_count": null,
      "outputs": []
    },
    {
      "cell_type": "markdown",
      "metadata": {
        "_uuid": "bca889c929920fd204e28dd8ba3bf747abfe4866",
        "id": "HwHNu13zLhbq"
      },
      "source": [
        "#  Image Classification\n",
        "## Building a Convolutional Neural Network [CNN] from Scratch\n",
        "\n",
        "In this exercise, we will build a classifier model that is able to distinguish between 10 different classes of images - airplanes, cars, birds, cats, deer, dogs, frogs, horses, ships, and trucks. We will follow these steps:\n",
        "\n",
        "1. Explore the example data\n",
        "2. Build a small convnet to solve our classification problem\n",
        "3. Evaluate training and validation accuracy"
      ]
    },
    {
      "cell_type": "markdown",
      "metadata": {
        "id": "rxedzNz3Lhbq"
      },
      "source": [
        "###  Data Exploration and Preparation\n",
        "\n",
        "We'll start by downloading the CIFAR-10 dataset from Keras.\n",
        "\n",
        "This is a link to the dataset documentation:\n",
        "https://keras.io/datasets/#cifar10-small-image-classification\n",
        "\n",
        "And a link to the dataset source:\n",
        "https://www.cs.toronto.edu/~kriz/cifar.html\n",
        "\n",
        "Be sure to set your Runtime environment to include a GPU, as it will speed up the training considerably (this time that's important!)."
      ]
    },
    {
      "cell_type": "markdown",
      "metadata": {
        "id": "hT9YYUNlLhbr"
      },
      "source": [
        "#### Loading data into local variables"
      ]
    },
    {
      "cell_type": "code",
      "metadata": {
        "id": "qIPX5X2VLhbs"
      },
      "source": [
        "from keras.datasets import cifar10\n",
        "\n",
        "# Fetch the data:\n",
        "(X, y), (_, _) = cifar10.load_data()\n",
        "print(X)"
      ],
      "execution_count": null,
      "outputs": []
    },
    {
      "cell_type": "markdown",
      "metadata": {
        "_uuid": "892a9fe20cb70273b84d120b69e8d8cef65c7e80",
        "id": "sI_-5NB-Lhb3"
      },
      "source": [
        "####  Import needed functions and libraries"
      ]
    },
    {
      "cell_type": "code",
      "metadata": {
        "_uuid": "743b574dc8902f9376b0293208139192ed5717d1",
        "id": "z19bVm7o9zeu"
      },
      "source": [
        "# Ignore the warnings - Otherwise, TensorFlow tends to innundate one with far too many warnings.\n",
        "import warnings\n",
        "warnings.filterwarnings('always')\n",
        "warnings.filterwarnings('ignore')\n",
        "\n",
        "# For matrix operations and dataframes.\n",
        "import numpy as np\n",
        "\n",
        "# Data visualizaton.\n",
        "import matplotlib.pyplot as plt\n",
        "from matplotlib import style\n",
        "import seaborn as sns\n",
        "import random as rn\n",
        " \n",
        "# Configure some defaults.\n",
        "%matplotlib inline  \n",
        "style.use('fivethirtyeight')\n",
        "sns.set(style='whitegrid',color_codes=True)\n",
        "\n",
        "# Useful deep learning functions.\n",
        "from tensorflow.keras import backend as K\n",
        "from tensorflow.keras.models import Sequential\n",
        "from tensorflow.keras.layers import Dense\n",
        "from tensorflow.keras.optimizers import Adam, SGD, Adagrad, Adadelta, RMSprop \n",
        "from tensorflow.keras.utils import to_categorical\n",
        "from tensorflow.keras.layers import Dropout, Flatten, Activation, BatchNormalization\n",
        "from tensorflow.keras.layers import Conv2D, MaxPooling2D\n",
        "\n",
        "# Powerful deep learning module.\n",
        "import tensorflow as tf\n",
        "\n",
        "# For dealing with data.\n",
        "import numpy as np  "
      ],
      "execution_count": null,
      "outputs": []
    },
    {
      "cell_type": "markdown",
      "metadata": {
        "_uuid": "c24f32b5ef905f9c4df2a020be4419a77c80237e",
        "id": "892A1wjvLhb7"
      },
      "source": [
        "#### Data Preparation & Exploration"
      ]
    },
    {
      "cell_type": "markdown",
      "metadata": {
        "_uuid": "30f46a96158710351f4ccb4e0103c71404f58e7d",
        "id": "khaK4AW0LhcE"
      },
      "source": [
        "Let's take a look at a few of these images. Rerun this cell multiple times to see different images for each class.\n",
        "\n",
        "You may notice that these images look low fidelity, which is because they are! As we increase our image size, we also increase our model complexity. What's important is that our classes are still distinguishable from each other."
      ]
    },
    {
      "cell_type": "code",
      "metadata": {
        "_uuid": "a27c478fcac8675aadd40f96fd144a805475b681",
        "id": "gPolpADLYv9p",
        "scrolled": true,
        "colab": {
          "base_uri": "https://localhost:8080/",
          "height": 367
        },
        "outputId": "fefae529-e669-4785-a33e-af751b4cdc00"
      },
      "source": [
        "fig, ax = plt.subplots(2, 5)\n",
        "fig.set_size_inches(10, 6)\n",
        "\n",
        "for i in range(2):\n",
        "    for j in range(5):\n",
        "        c = j + 5*i # Class counter\n",
        "        l = np.random.choice(np.where(y == c)[0], 1)[0] # Get a random image from class c\n",
        "        ax[i, j].imshow(X[l])\n",
        "        ax[i, j].set_title('Class: ' + str(y[l]))\n",
        "        # Hide grid lines\n",
        "        ax[i, j].grid(False)\n",
        "        # Hide axes ticks\n",
        "        ax[i, j].set_xticks([])\n",
        "        ax[i, j].set_yticks([])\n",
        "        \n",
        "plt.tight_layout()"
      ],
      "execution_count": null,
      "outputs": [
        {
          "output_type": "display_data",
          "data": {
            "image/png": "[encoded data removed]",
            "text/plain": [
              "<Figure size 720x432 with 10 Axes>"
            ]
          },
          "metadata": {
            "tags": []
          }
        }
      ]
    },
    {
      "cell_type": "markdown",
      "metadata": {
        "id": "vddd-xejqVV7"
      },
      "source": [
        "#### Let's take a look at the format of our data"
      ]
    },
    {
      "cell_type": "code",
      "metadata": {
        "id": "aSmQVBA7qaxd",
        "colab": {
          "base_uri": "https://localhost:8080/",
          "height": 51
        },
        "outputId": "c78e91f4-7a2e-48c2-ad14-02c53c9717de"
      },
      "source": [
        "print('X (images)', X.shape)\n",
        "print('y (classes)', y.shape)"
      ],
      "execution_count": null,
      "outputs": [
        {
          "output_type": "stream",
          "text": [
            "X (images) (50000, 32, 32, 3)\n",
            "y (classes) (50000, 1)\n"
          ],
          "name": "stdout"
        }
      ]
    },
    {
      "cell_type": "markdown",
      "metadata": {
        "id": "ytuPNJQWqkZX"
      },
      "source": [
        "We can see that we have 50,000 samples, where each images is 32 by 32 pixels with 3 color channels: RGB.\n",
        "\n",
        "For each of these images, we have a single label for which class they each belong to."
      ]
    },
    {
      "cell_type": "markdown",
      "metadata": {
        "_uuid": "77ec9e39e572f004918ea99a6866ee3a06c68324",
        "id": "NCS6ejuoLhcH"
      },
      "source": [
        "#### One hot encode the labels, and normalize the data\n",
        "\n",
        "Similarly to previous exercises, we want to one hot encode our class labels. We also want to normalize our image data similarly to what we did in Assignment 3."
      ]
    },
    {
      "cell_type": "code",
      "metadata": {
        "id": "DT_F8m-vLhcI"
      },
      "source": [
        "# One-hot encode those integer values of class labels\n",
        "y = to_categorical(y, 10)\n",
        "\n",
        "# Normalize all entries to the interval [0, 1]\n",
        "X = X / 255."
      ],
      "execution_count": null,
      "outputs": []
    },
    {
      "cell_type": "markdown",
      "metadata": {
        "_uuid": "b8952f9ac2af66841a9c000126de56b44301d3ce",
        "id": "H9PP4rQhLhdD"
      },
      "source": [
        "### Problem 1 (a)\n",
        "Create your own deep learning architecture, and train it on the dataset above. If you're unsure where to start, begin by referencing the in class exercises. \n",
        "\n",
        "One suggestion is to add several convolution layers each followed by a maxpooling layer. Towards the end you can add one or more fully connected layers. Dropout layers are often useful after each fully connected layer for overfitting, and you can try experimenting with that parameter. Your model should be able to reach **70% validation accuracy**.\n",
        "\n",
        "You are responsible for your model architecture, hyperparameters, and optimizer. \n",
        "\n",
        "**HOWEVER, you are limited to a maximum of 50 epochs and 500,000 model parameters! You will lose points for exceeding these limits.**"
      ]
    },
    {
      "cell_type": "code",
      "metadata": {
        "id": "mVjSUo_9LhdE"
      },
      "source": [
        "# This is where we define the architecture of our deep neural network.\n",
        "model = Sequential()\n",
        "\n",
        "### YOUR CODE HERE ###\n",
        "model.add(Conv2D(filters = 45,      \n",
        "                 kernel_size = (3, 3), \n",
        "                 padding = 'Same',\n",
        "                 activation = 'relu', \n",
        "                 input_shape = (32, 32, 3)))\n",
        "\n",
        "model.add(MaxPooling2D(pool_size = (2, 2)))\n",
        "\n",
        "model.add(Conv2D(filters = 65,      \n",
        "                 kernel_size = (3, 3), \n",
        "                 padding = 'Same',\n",
        "                 activation = 'relu'))\n",
        "\n",
        "model.add(MaxPooling2D(pool_size = (2, 2)))\n",
        "\n",
        "model.add(Conv2D(filters = 130,      \n",
        "                 kernel_size = (3, 3), \n",
        "                 padding = 'Same',\n",
        "                 activation = 'relu'))\n",
        "\n",
        "model.add(MaxPooling2D(pool_size = (2, 2)))\n",
        "\n",
        "model.add(Conv2D(filters = 300,      \n",
        "                 kernel_size = (3, 3), \n",
        "                 padding = 'Same',\n",
        "                 activation = 'relu'))\n",
        "\n",
        "model.add(MaxPooling2D(pool_size = (2, 2)))\n",
        "\n",
        "model.add(Flatten())\n",
        "model.add(Dense(20, activation = 'relu'))  \n",
        "model.add(Dropout(0.5))\n",
        "# A dense layer with 10 neurons (one per class).\n",
        "model.add(Dense(10, activation = \"softmax\"))"
      ],
      "execution_count": null,
      "outputs": []
    },
    {
      "cell_type": "code",
      "metadata": {
        "id": "PO003fD15wop"
      },
      "source": [
        "# A batch is the size of each training chunk. We're implementing batch gradient descent, which is in between\n",
        "# stochastic gradient descent and full gradient descent.\n",
        "batchsize = 200### YOUR CODE HERE ###\n",
        "\n",
        "# Each epoch goes through the entire training set once\n",
        "epochs = 50 ### YOUR CODE HERE ### MAXIMUM OF 50!"
      ],
      "execution_count": null,
      "outputs": []
    },
    {
      "cell_type": "code",
      "metadata": {
        "id": "o4reatYS5edV"
      },
      "source": [
        "opt = RMSprop(lr = 0.001)### YOUR CODE HERE ###\n",
        "\n",
        "model.compile(optimizer = opt,\n",
        "              loss = 'categorical_crossentropy',\n",
        "              metrics = ['accuracy'])"
      ],
      "execution_count": null,
      "outputs": []
    },
    {
      "cell_type": "code",
      "metadata": {
        "id": "0FDudYr552rv",
        "colab": {
          "base_uri": "https://localhost:8080/",
          "height": 561
        },
        "outputId": "1f57f6ff-1bf0-4394-e704-2b16c219068e"
      },
      "source": [
        "model.summary()\n",
        "# MAXIMUM OF 500,000 PARAMETERS!"
      ],
      "execution_count": null,
      "outputs": [
        {
          "output_type": "stream",
          "text": [
            "Model: \"sequential_51\"\n",
            "_________________________________________________________________\n",
            "Layer (type)                 Output Shape              Param #   \n",
            "=================================================================\n",
            "conv2d_202 (Conv2D)          (None, 32, 32, 45)        1260      \n",
            "_________________________________________________________________\n",
            "max_pooling2d_201 (MaxPoolin (None, 16, 16, 45)        0         \n",
            "_________________________________________________________________\n",
            "conv2d_203 (Conv2D)          (None, 16, 16, 65)        26390     \n",
            "_________________________________________________________________\n",
            "max_pooling2d_202 (MaxPoolin (None, 8, 8, 65)          0         \n",
            "_________________________________________________________________\n",
            "conv2d_204 (Conv2D)          (None, 8, 8, 130)         76180     \n",
            "_________________________________________________________________\n",
            "max_pooling2d_203 (MaxPoolin (None, 4, 4, 130)         0         \n",
            "_________________________________________________________________\n",
            "conv2d_205 (Conv2D)          (None, 4, 4, 300)         351300    \n",
            "_________________________________________________________________\n",
            "max_pooling2d_204 (MaxPoolin (None, 2, 2, 300)         0         \n",
            "_________________________________________________________________\n",
            "flatten_79 (Flatten)         (None, 1200)              0         \n",
            "_________________________________________________________________\n",
            "dense_158 (Dense)            (None, 20)                24020     \n",
            "_________________________________________________________________\n",
            "dropout_53 (Dropout)         (None, 20)                0         \n",
            "_________________________________________________________________\n",
            "dense_159 (Dense)            (None, 10)                210       \n",
            "=================================================================\n",
            "Total params: 479,360\n",
            "Trainable params: 479,360\n",
            "Non-trainable params: 0\n",
            "_________________________________________________________________\n"
          ],
          "name": "stdout"
        }
      ]
    },
    {
      "cell_type": "code",
      "metadata": {
        "id": "kK7nvHYr6P4J",
        "colab": {
          "base_uri": "https://localhost:8080/",
          "height": 1000
        },
        "outputId": "a647b8b8-c349-4837-831c-5b45944b040d"
      },
      "source": [
        "history = model.fit(X, \n",
        "                    y,\n",
        "                    batch_size = batchsize,\n",
        "                    epochs = epochs, \n",
        "                    validation_split = 0.2, # DON'T CHANGE validation_split!\n",
        "                    verbose = 1)"
      ],
      "execution_count": null,
      "outputs": [
        {
          "output_type": "stream",
          "text": [
            "Epoch 1/50\n",
            "200/200 [==============================] - 2s 12ms/step - loss: 2.1951 - accuracy: 0.1787 - val_loss: 1.9154 - val_accuracy: 0.3571\n",
            "Epoch 2/50\n",
            "200/200 [==============================] - 2s 11ms/step - loss: 1.8713 - accuracy: 0.3100 - val_loss: 1.5494 - val_accuracy: 0.4494\n",
            "Epoch 3/50\n",
            "200/200 [==============================] - 2s 11ms/step - loss: 1.6668 - accuracy: 0.3849 - val_loss: 1.3802 - val_accuracy: 0.5190\n",
            "Epoch 4/50\n",
            "200/200 [==============================] - 2s 11ms/step - loss: 1.5324 - accuracy: 0.4376 - val_loss: 1.2373 - val_accuracy: 0.5645\n",
            "Epoch 5/50\n",
            "200/200 [==============================] - 2s 11ms/step - loss: 1.4232 - accuracy: 0.4783 - val_loss: 1.1479 - val_accuracy: 0.5973\n",
            "Epoch 6/50\n",
            "200/200 [==============================] - 2s 11ms/step - loss: 1.3333 - accuracy: 0.5135 - val_loss: 1.0805 - val_accuracy: 0.6325\n",
            "Epoch 7/50\n",
            "200/200 [==============================] - 2s 11ms/step - loss: 1.2636 - accuracy: 0.5437 - val_loss: 1.1175 - val_accuracy: 0.6214\n",
            "Epoch 8/50\n",
            "200/200 [==============================] - 2s 11ms/step - loss: 1.1830 - accuracy: 0.5705 - val_loss: 1.0661 - val_accuracy: 0.6135\n",
            "Epoch 9/50\n",
            "200/200 [==============================] - 2s 11ms/step - loss: 1.1116 - accuracy: 0.5968 - val_loss: 1.0251 - val_accuracy: 0.6417\n",
            "Epoch 10/50\n",
            "200/200 [==============================] - 2s 11ms/step - loss: 1.0454 - accuracy: 0.6234 - val_loss: 0.9197 - val_accuracy: 0.6847\n",
            "Epoch 11/50\n",
            "200/200 [==============================] - 2s 11ms/step - loss: 0.9883 - accuracy: 0.6429 - val_loss: 0.8436 - val_accuracy: 0.7212\n",
            "Epoch 12/50\n",
            "200/200 [==============================] - 2s 11ms/step - loss: 0.9369 - accuracy: 0.6631 - val_loss: 0.8566 - val_accuracy: 0.7137\n",
            "Epoch 13/50\n",
            "200/200 [==============================] - 2s 11ms/step - loss: 0.8823 - accuracy: 0.6785 - val_loss: 1.0132 - val_accuracy: 0.6756\n",
            "Epoch 14/50\n",
            "200/200 [==============================] - 2s 11ms/step - loss: 0.8351 - accuracy: 0.6950 - val_loss: 0.8473 - val_accuracy: 0.7228\n",
            "Epoch 15/50\n",
            "200/200 [==============================] - 2s 11ms/step - loss: 0.7874 - accuracy: 0.7122 - val_loss: 0.8855 - val_accuracy: 0.7197\n",
            "Epoch 16/50\n",
            "200/200 [==============================] - 2s 11ms/step - loss: 0.7403 - accuracy: 0.7294 - val_loss: 0.9384 - val_accuracy: 0.7125\n",
            "Epoch 17/50\n",
            "200/200 [==============================] - 2s 11ms/step - loss: 0.7005 - accuracy: 0.7406 - val_loss: 0.8326 - val_accuracy: 0.7373\n",
            "Epoch 18/50\n",
            "200/200 [==============================] - 2s 11ms/step - loss: 0.6669 - accuracy: 0.7532 - val_loss: 0.9089 - val_accuracy: 0.7287\n",
            "Epoch 19/50\n",
            "200/200 [==============================] - 2s 11ms/step - loss: 0.6322 - accuracy: 0.7658 - val_loss: 1.0257 - val_accuracy: 0.7018\n",
            "Epoch 20/50\n",
            "200/200 [==============================] - 2s 11ms/step - loss: 0.6029 - accuracy: 0.7745 - val_loss: 0.9070 - val_accuracy: 0.7434\n",
            "Epoch 21/50\n",
            "200/200 [==============================] - 2s 11ms/step - loss: 0.5697 - accuracy: 0.7862 - val_loss: 1.0326 - val_accuracy: 0.7159\n",
            "Epoch 22/50\n",
            "200/200 [==============================] - 2s 11ms/step - loss: 0.5475 - accuracy: 0.7934 - val_loss: 0.9627 - val_accuracy: 0.7415\n",
            "Epoch 23/50\n",
            "200/200 [==============================] - 2s 11ms/step - loss: 0.5244 - accuracy: 0.8006 - val_loss: 0.9750 - val_accuracy: 0.7401\n",
            "Epoch 24/50\n",
            "200/200 [==============================] - 2s 11ms/step - loss: 0.5088 - accuracy: 0.8083 - val_loss: 1.0392 - val_accuracy: 0.7434\n",
            "Epoch 25/50\n",
            "200/200 [==============================] - 2s 11ms/step - loss: 0.4830 - accuracy: 0.8168 - val_loss: 1.0957 - val_accuracy: 0.7338\n",
            "Epoch 26/50\n",
            "200/200 [==============================] - 2s 11ms/step - loss: 0.4662 - accuracy: 0.8228 - val_loss: 1.1276 - val_accuracy: 0.7465\n",
            "Epoch 27/50\n",
            "200/200 [==============================] - 2s 11ms/step - loss: 0.4574 - accuracy: 0.8283 - val_loss: 1.1557 - val_accuracy: 0.7286\n",
            "Epoch 28/50\n",
            "200/200 [==============================] - 2s 11ms/step - loss: 0.4404 - accuracy: 0.8337 - val_loss: 1.3873 - val_accuracy: 0.7159\n",
            "Epoch 29/50\n",
            "200/200 [==============================] - 2s 11ms/step - loss: 0.4353 - accuracy: 0.8337 - val_loss: 1.2402 - val_accuracy: 0.7281\n",
            "Epoch 30/50\n",
            "200/200 [==============================] - 2s 11ms/step - loss: 0.4259 - accuracy: 0.8400 - val_loss: 1.2148 - val_accuracy: 0.7234\n",
            "Epoch 31/50\n",
            "200/200 [==============================] - 2s 11ms/step - loss: 0.4109 - accuracy: 0.8449 - val_loss: 1.2747 - val_accuracy: 0.7313\n",
            "Epoch 32/50\n",
            "200/200 [==============================] - 2s 11ms/step - loss: 0.3972 - accuracy: 0.8494 - val_loss: 1.1759 - val_accuracy: 0.7333\n",
            "Epoch 33/50\n",
            "200/200 [==============================] - 2s 11ms/step - loss: 0.3971 - accuracy: 0.8518 - val_loss: 1.4804 - val_accuracy: 0.7445\n",
            "Epoch 34/50\n",
            "200/200 [==============================] - 2s 11ms/step - loss: 0.3974 - accuracy: 0.8502 - val_loss: 1.3166 - val_accuracy: 0.7246\n",
            "Epoch 35/50\n",
            "200/200 [==============================] - 2s 11ms/step - loss: 0.3923 - accuracy: 0.8516 - val_loss: 1.3946 - val_accuracy: 0.7255\n",
            "Epoch 36/50\n",
            "200/200 [==============================] - 2s 11ms/step - loss: 0.3864 - accuracy: 0.8548 - val_loss: 1.4588 - val_accuracy: 0.7249\n",
            "Epoch 37/50\n",
            "200/200 [==============================] - 2s 11ms/step - loss: 0.3675 - accuracy: 0.8629 - val_loss: 1.6578 - val_accuracy: 0.7352\n",
            "Epoch 38/50\n",
            "200/200 [==============================] - 2s 11ms/step - loss: 0.3699 - accuracy: 0.8634 - val_loss: 1.8702 - val_accuracy: 0.7470\n",
            "Epoch 39/50\n",
            "200/200 [==============================] - 2s 11ms/step - loss: 0.3605 - accuracy: 0.8663 - val_loss: 1.6723 - val_accuracy: 0.7331\n",
            "Epoch 40/50\n",
            "200/200 [==============================] - 2s 11ms/step - loss: 0.3652 - accuracy: 0.8664 - val_loss: 1.4695 - val_accuracy: 0.7345\n",
            "Epoch 41/50\n",
            "200/200 [==============================] - 2s 12ms/step - loss: 0.3510 - accuracy: 0.8701 - val_loss: 1.6755 - val_accuracy: 0.7235\n",
            "Epoch 42/50\n",
            "200/200 [==============================] - 2s 11ms/step - loss: 0.3720 - accuracy: 0.8659 - val_loss: 1.4715 - val_accuracy: 0.7145\n",
            "Epoch 43/50\n",
            "200/200 [==============================] - 2s 11ms/step - loss: 0.3580 - accuracy: 0.8698 - val_loss: 1.4968 - val_accuracy: 0.7319\n",
            "Epoch 44/50\n",
            "200/200 [==============================] - 2s 11ms/step - loss: 0.3581 - accuracy: 0.8683 - val_loss: 1.8370 - val_accuracy: 0.7316\n",
            "Epoch 45/50\n",
            "200/200 [==============================] - 2s 11ms/step - loss: 0.3633 - accuracy: 0.8685 - val_loss: 1.4645 - val_accuracy: 0.7362\n",
            "Epoch 46/50\n",
            "200/200 [==============================] - 2s 11ms/step - loss: 0.3543 - accuracy: 0.8711 - val_loss: 1.6841 - val_accuracy: 0.7358\n",
            "Epoch 47/50\n",
            "200/200 [==============================] - 2s 11ms/step - loss: 0.3616 - accuracy: 0.8709 - val_loss: 1.6028 - val_accuracy: 0.7136\n",
            "Epoch 48/50\n",
            "200/200 [==============================] - 2s 11ms/step - loss: 0.3617 - accuracy: 0.8716 - val_loss: 2.3546 - val_accuracy: 0.7269\n",
            "Epoch 49/50\n",
            "200/200 [==============================] - 2s 11ms/step - loss: 0.3663 - accuracy: 0.8708 - val_loss: 1.8678 - val_accuracy: 0.7374\n",
            "Epoch 50/50\n",
            "200/200 [==============================] - 3s 13ms/step - loss: 0.3580 - accuracy: 0.8732 - val_loss: 2.0692 - val_accuracy: 0.7484\n"
          ],
          "name": "stdout"
        }
      ]
    },
    {
      "cell_type": "markdown",
      "metadata": {
        "id": "-NrXxz4pLhdG"
      },
      "source": [
        "### Problem 1 (b)\n",
        "Create training and validation loss and accuracy plots as above."
      ]
    },
    {
      "cell_type": "code",
      "metadata": {
        "id": "ri2mViLfLhdG",
        "colab": {
          "base_uri": "https://localhost:8080/",
          "height": 617
        },
        "outputId": "2aa3b11d-5464-4233-c4b6-591784e5d73e"
      },
      "source": [
        "### YOUR CODE HERE ###\n",
        "plt.plot(history.history['loss'])\n",
        "plt.plot(history.history['val_loss'])\n",
        "plt.title('Model Loss')\n",
        "plt.ylabel('Loss')\n",
        "plt.xlabel('Epochs')\n",
        "plt.legend(['train', 'test'])\n",
        "plt.show()\n",
        "\n",
        "plt.plot(history.history['accuracy'])\n",
        "plt.plot(history.history['val_accuracy'])\n",
        "plt.title('Model Accuracy')\n",
        "plt.ylabel('Accuracy')\n",
        "plt.xlabel('Epochs')\n",
        "plt.legend(['train', 'test'])\n",
        "plt.show()"
      ],
      "execution_count": null,
      "outputs": [
        {
          "output_type": "display_data",
          "data": {
            "image/png": "[encoded data removed]",
            "text/plain": [
              "<Figure size 432x288 with 1 Axes>"
            ]
          },
          "metadata": {
            "tags": []
          }
        },
        {
          "output_type": "display_data",
          "data": {
            "image/png": "[encoded data removed]",
            "text/plain": [
              "<Figure size 432x288 with 1 Axes>"
            ]
          },
          "metadata": {
            "tags": []
          }
        }
      ]
    },
    {
      "cell_type": "markdown",
      "metadata": {
        "id": "UHk-PPM8KfZW"
      },
      "source": [
        "## Transfer Learning\n",
        "\n",
        "There's a huge shortcut possible in training neural networks for recognition tasks, called transfer learning. The idea is to start with a fully trained image recognition neural network, off the shelf with  trained weights. We can repurpose the trained network for your particular recognition task, making use of the days of training that were needed to find those weights. What was learned by the neural net in it's early layers are useful features in recognizing various things in images. Keras even has pretrained models built in for this purpose. \n",
        "\n",
        "#### Keras Pretrained Models\n",
        "        Xception\n",
        "        VGG16\n",
        "        VGG19\n",
        "        ResNet, ResNetV2, ResNeXt\n",
        "        InceptionV3\n",
        "        InceptionResNetV2\n",
        "        MobileNet\n",
        "        MobileNetV2\n",
        "        DenseNet\n",
        "        NASNet\n",
        "\n",
        "Usually one uses the layers of the pretrained model up to some point, and then creates some fully connected layers to learn the desired recognition task. The earlier layers are \"frozen\", and only the later layers need to be trained. We'll use VGG16, which was trained to recognize 1000 objects in ImageNet. What we're doing here for our CIFAR-10 classifier may be akin to killing a fly with a shotgun, but the same process can be used to recognize objects the original network couldn't (i.e., you could use this technique to train your computer to recognize family and friends)."
      ]
    },
    {
      "cell_type": "code",
      "metadata": {
        "id": "Z7CNXqACKgQz"
      },
      "source": [
        "# Some stuff we'll need...\n",
        "from tensorflow.keras.layers import Input\n",
        "from tensorflow.keras.applications.vgg16 import VGG16, preprocess_input\n",
        "from tensorflow.keras.preprocessing import image\n",
        "from tensorflow.keras.models import Model"
      ],
      "execution_count": null,
      "outputs": []
    },
    {
      "cell_type": "markdown",
      "metadata": {
        "id": "F4FK6jBJKxcC"
      },
      "source": [
        "Creating this pretrained network is a one line command. Notice we specified that the \"top\" should not be included. We aren't classifying 1000 different categories like ImageNet, so we don't include that layer. We'll add our own layer more suited to the task at hand.\n",
        "\n",
        "We choose 224 as our image dimension because the pretrained VGG16 was trained using the ImageNet dataset which has images of this dimension."
      ]
    },
    {
      "cell_type": "code",
      "metadata": {
        "id": "KR7DziD7KqEX"
      },
      "source": [
        "# Import the VGG16 trained neural network model, minus it's last (top) neuron layer.\n",
        "base_model = VGG16(weights = 'imagenet', \n",
        "                   include_top = False, \n",
        "                   input_shape = (32, 32, 3), \n",
        "                   pooling = None)"
      ],
      "execution_count": null,
      "outputs": []
    },
    {
      "cell_type": "markdown",
      "metadata": {
        "id": "B6HReXu8K3wh"
      },
      "source": [
        "Let's take a look at this pretrained model:"
      ]
    },
    {
      "cell_type": "code",
      "metadata": {
        "id": "gPhnajBAKyKm",
        "colab": {
          "base_uri": "https://localhost:8080/",
          "height": 799
        },
        "outputId": "6f72b341-6abe-45a9-afda-a906cdec40a7"
      },
      "source": [
        "base_model.summary()"
      ],
      "execution_count": null,
      "outputs": [
        {
          "output_type": "stream",
          "text": [
            "Model: \"vgg16\"\n",
            "_________________________________________________________________\n",
            "Layer (type)                 Output Shape              Param #   \n",
            "=================================================================\n",
            "input_30 (InputLayer)        [(None, 32, 32, 3)]       0         \n",
            "_________________________________________________________________\n",
            "block1_conv1 (Conv2D)        (None, 32, 32, 64)        1792      \n",
            "_________________________________________________________________\n",
            "block1_conv2 (Conv2D)        (None, 32, 32, 64)        36928     \n",
            "_________________________________________________________________\n",
            "block1_pool (MaxPooling2D)   (None, 16, 16, 64)        0         \n",
            "_________________________________________________________________\n",
            "block2_conv1 (Conv2D)        (None, 16, 16, 128)       73856     \n",
            "_________________________________________________________________\n",
            "block2_conv2 (Conv2D)        (None, 16, 16, 128)       147584    \n",
            "_________________________________________________________________\n",
            "block2_pool (MaxPooling2D)   (None, 8, 8, 128)         0         \n",
            "_________________________________________________________________\n",
            "block3_conv1 (Conv2D)        (None, 8, 8, 256)         295168    \n",
            "_________________________________________________________________\n",
            "block3_conv2 (Conv2D)        (None, 8, 8, 256)         590080    \n",
            "_________________________________________________________________\n",
            "block3_conv3 (Conv2D)        (None, 8, 8, 256)         590080    \n",
            "_________________________________________________________________\n",
            "block3_pool (MaxPooling2D)   (None, 4, 4, 256)         0         \n",
            "_________________________________________________________________\n",
            "block4_conv1 (Conv2D)        (None, 4, 4, 512)         1180160   \n",
            "_________________________________________________________________\n",
            "block4_conv2 (Conv2D)        (None, 4, 4, 512)         2359808   \n",
            "_________________________________________________________________\n",
            "block4_conv3 (Conv2D)        (None, 4, 4, 512)         2359808   \n",
            "_________________________________________________________________\n",
            "block4_pool (MaxPooling2D)   (None, 2, 2, 512)         0         \n",
            "_________________________________________________________________\n",
            "block5_conv1 (Conv2D)        (None, 2, 2, 512)         2359808   \n",
            "_________________________________________________________________\n",
            "block5_conv2 (Conv2D)        (None, 2, 2, 512)         2359808   \n",
            "_________________________________________________________________\n",
            "block5_conv3 (Conv2D)        (None, 2, 2, 512)         2359808   \n",
            "_________________________________________________________________\n",
            "block5_pool (MaxPooling2D)   (None, 1, 1, 512)         0         \n",
            "=================================================================\n",
            "Total params: 14,714,688\n",
            "Trainable params: 14,714,688\n",
            "Non-trainable params: 0\n",
            "_________________________________________________________________\n"
          ],
          "name": "stdout"
        }
      ]
    },
    {
      "cell_type": "markdown",
      "metadata": {
        "id": "OEeQ9WXTLA6i"
      },
      "source": [
        "Please do realize, this may be overkill for our toy recognition task. One could use this network with some layers (as we're about to add) to recognize 100 dog breeds or to recognize all your friends. If you wanted to recognize 100 dog breeds, you would use a final 100 neuron softmax for the final layer. We'll need a final softmax layer as before. First let's freeze all these pretrained weights. They are fine as they are."
      ]
    },
    {
      "cell_type": "code",
      "metadata": {
        "id": "YTziRl8BK64Y"
      },
      "source": [
        "# This freezes the weights of our VGG16 pretrained model.\n",
        "for layer in base_model.layers:  \n",
        "    layer.trainable = False"
      ],
      "execution_count": null,
      "outputs": []
    },
    {
      "cell_type": "markdown",
      "metadata": {
        "id": "HhTrIRPbLMCB"
      },
      "source": [
        "Now we'll add a flatten layer, a trainable dense layer, and a final softmax layer. This illustrates another way to create networks besides the sequential method we used for our example model.  This is the Keras functional approach to building networks. It's more flexible and more powerful than the sequential method. For example, it allows you to implement transfer learning."
      ]
    },
    {
      "cell_type": "code",
      "metadata": {
        "id": "YstHSchOLM7N",
        "colab": {
          "base_uri": "https://localhost:8080/",
          "height": 901
        },
        "outputId": "1070d273-ed2e-443f-d12a-04f840ccba64"
      },
      "source": [
        "# Now add layers to our pre-trained base model and add classification layers on top of it\n",
        "x = base_model.output\n",
        "x = Flatten()(x)\n",
        "x = Dense(64, activation = 'relu')(x)\n",
        "predic = Dense(10, activation = 'softmax')(x) \n",
        "\n",
        "# And now put this all together to create our new model.\n",
        "model = Model(inputs = base_model.input, outputs = predic) \n",
        "model.summary()"
      ],
      "execution_count": null,
      "outputs": [
        {
          "output_type": "stream",
          "text": [
            "Model: \"model_29\"\n",
            "_________________________________________________________________\n",
            "Layer (type)                 Output Shape              Param #   \n",
            "=================================================================\n",
            "input_30 (InputLayer)        [(None, 32, 32, 3)]       0         \n",
            "_________________________________________________________________\n",
            "block1_conv1 (Conv2D)        (None, 32, 32, 64)        1792      \n",
            "_________________________________________________________________\n",
            "block1_conv2 (Conv2D)        (None, 32, 32, 64)        36928     \n",
            "_________________________________________________________________\n",
            "block1_pool (MaxPooling2D)   (None, 16, 16, 64)        0         \n",
            "_________________________________________________________________\n",
            "block2_conv1 (Conv2D)        (None, 16, 16, 128)       73856     \n",
            "_________________________________________________________________\n",
            "block2_conv2 (Conv2D)        (None, 16, 16, 128)       147584    \n",
            "_________________________________________________________________\n",
            "block2_pool (MaxPooling2D)   (None, 8, 8, 128)         0         \n",
            "_________________________________________________________________\n",
            "block3_conv1 (Conv2D)        (None, 8, 8, 256)         295168    \n",
            "_________________________________________________________________\n",
            "block3_conv2 (Conv2D)        (None, 8, 8, 256)         590080    \n",
            "_________________________________________________________________\n",
            "block3_conv3 (Conv2D)        (None, 8, 8, 256)         590080    \n",
            "_________________________________________________________________\n",
            "block3_pool (MaxPooling2D)   (None, 4, 4, 256)         0         \n",
            "_________________________________________________________________\n",
            "block4_conv1 (Conv2D)        (None, 4, 4, 512)         1180160   \n",
            "_________________________________________________________________\n",
            "block4_conv2 (Conv2D)        (None, 4, 4, 512)         2359808   \n",
            "_________________________________________________________________\n",
            "block4_conv3 (Conv2D)        (None, 4, 4, 512)         2359808   \n",
            "_________________________________________________________________\n",
            "block4_pool (MaxPooling2D)   (None, 2, 2, 512)         0         \n",
            "_________________________________________________________________\n",
            "block5_conv1 (Conv2D)        (None, 2, 2, 512)         2359808   \n",
            "_________________________________________________________________\n",
            "block5_conv2 (Conv2D)        (None, 2, 2, 512)         2359808   \n",
            "_________________________________________________________________\n",
            "block5_conv3 (Conv2D)        (None, 2, 2, 512)         2359808   \n",
            "_________________________________________________________________\n",
            "block5_pool (MaxPooling2D)   (None, 1, 1, 512)         0         \n",
            "_________________________________________________________________\n",
            "flatten_80 (Flatten)         (None, 512)               0         \n",
            "_________________________________________________________________\n",
            "dense_160 (Dense)            (None, 64)                32832     \n",
            "_________________________________________________________________\n",
            "dense_161 (Dense)            (None, 10)                650       \n",
            "=================================================================\n",
            "Total params: 14,748,170\n",
            "Trainable params: 33,482\n",
            "Non-trainable params: 14,714,688\n",
            "_________________________________________________________________\n"
          ],
          "name": "stdout"
        }
      ]
    },
    {
      "cell_type": "markdown",
      "metadata": {
        "id": "YMnWikXkLczn"
      },
      "source": [
        "#### Initialize Training Parameters"
      ]
    },
    {
      "cell_type": "code",
      "metadata": {
        "id": "vqWwKwCBLhyZ"
      },
      "source": [
        "# Compile the model.\n",
        "model.compile(loss = 'categorical_crossentropy',\n",
        "              optimizer = RMSprop(lr = 0.001),\n",
        "              metrics = ['acc'])"
      ],
      "execution_count": null,
      "outputs": []
    },
    {
      "cell_type": "markdown",
      "metadata": {
        "id": "bUWfx4vYtblN"
      },
      "source": [
        "We can see here in the Keras docs:\n",
        "\n",
        "https://keras.io/api/applications/vgg/#vgg16-function\n",
        "\n",
        "that we are required to preprocess our image data in a specific way to use this pretrained model, so let's go ahead and do that."
      ]
    },
    {
      "cell_type": "code",
      "metadata": {
        "id": "MX8s_zv6qM9G"
      },
      "source": [
        "(X, y), (_, _) = cifar10.load_data()\n",
        "X = preprocess_input(X)\n",
        "y = to_categorical(y, 10)"
      ],
      "execution_count": null,
      "outputs": []
    },
    {
      "cell_type": "code",
      "metadata": {
        "id": "m9U0HITqLl-7",
        "colab": {
          "base_uri": "https://localhost:8080/",
          "height": 697
        },
        "outputId": "ef6a5f67-1e16-402d-d5d4-c32fd65b63f7"
      },
      "source": [
        "# Let's also reduce the number of training epochs.\n",
        "epochs = 20\n",
        "batchsize = 200\n",
        "\n",
        "\n",
        "\n",
        "# Train the model\n",
        "history = model.fit(X, \n",
        "                    y,\n",
        "                    batch_size = batchsize,\n",
        "                    epochs = epochs, \n",
        "                    validation_split = 0.2,\n",
        "                    verbose = 1)"
      ],
      "execution_count": null,
      "outputs": [
        {
          "output_type": "stream",
          "text": [
            "Epoch 1/20\n",
            "200/200 [==============================] - 4s 21ms/step - loss: 2.7977 - acc: 0.4416 - val_loss: 1.4209 - val_acc: 0.5386\n",
            "Epoch 2/20\n",
            "200/200 [==============================] - 4s 20ms/step - loss: 1.2320 - acc: 0.5883 - val_loss: 1.2249 - val_acc: 0.5990\n",
            "Epoch 3/20\n",
            "200/200 [==============================] - 4s 20ms/step - loss: 1.0494 - acc: 0.6426 - val_loss: 1.1652 - val_acc: 0.6194\n",
            "Epoch 4/20\n",
            "200/200 [==============================] - 4s 20ms/step - loss: 0.9586 - acc: 0.6688 - val_loss: 1.1340 - val_acc: 0.6324\n",
            "Epoch 5/20\n",
            "200/200 [==============================] - 4s 20ms/step - loss: 0.8956 - acc: 0.6917 - val_loss: 1.1289 - val_acc: 0.6369\n",
            "Epoch 6/20\n",
            "200/200 [==============================] - 4s 20ms/step - loss: 0.8488 - acc: 0.7035 - val_loss: 1.1280 - val_acc: 0.6423\n",
            "Epoch 7/20\n",
            "200/200 [==============================] - 4s 20ms/step - loss: 0.8096 - acc: 0.7175 - val_loss: 1.1502 - val_acc: 0.6393\n",
            "Epoch 8/20\n",
            "200/200 [==============================] - 4s 20ms/step - loss: 0.7772 - acc: 0.7280 - val_loss: 1.1570 - val_acc: 0.6410\n",
            "Epoch 9/20\n",
            "200/200 [==============================] - 4s 20ms/step - loss: 0.7483 - acc: 0.7390 - val_loss: 1.1805 - val_acc: 0.6396\n",
            "Epoch 10/20\n",
            "200/200 [==============================] - 4s 20ms/step - loss: 0.7214 - acc: 0.7452 - val_loss: 1.2024 - val_acc: 0.6426\n",
            "Epoch 11/20\n",
            "200/200 [==============================] - 4s 20ms/step - loss: 0.6990 - acc: 0.7544 - val_loss: 1.2262 - val_acc: 0.6418\n",
            "Epoch 12/20\n",
            "200/200 [==============================] - 4s 20ms/step - loss: 0.6768 - acc: 0.7620 - val_loss: 1.2762 - val_acc: 0.6381\n",
            "Epoch 13/20\n",
            "200/200 [==============================] - 4s 20ms/step - loss: 0.6579 - acc: 0.7690 - val_loss: 1.3083 - val_acc: 0.6371\n",
            "Epoch 14/20\n",
            "200/200 [==============================] - 4s 20ms/step - loss: 0.6412 - acc: 0.7735 - val_loss: 1.3275 - val_acc: 0.6350\n",
            "Epoch 15/20\n",
            "200/200 [==============================] - 4s 20ms/step - loss: 0.6250 - acc: 0.7804 - val_loss: 1.3788 - val_acc: 0.6320\n",
            "Epoch 16/20\n",
            "200/200 [==============================] - 4s 20ms/step - loss: 0.6068 - acc: 0.7842 - val_loss: 1.4054 - val_acc: 0.6350\n",
            "Epoch 17/20\n",
            "200/200 [==============================] - 4s 20ms/step - loss: 0.5953 - acc: 0.7911 - val_loss: 1.4509 - val_acc: 0.6287\n",
            "Epoch 18/20\n",
            "200/200 [==============================] - 4s 20ms/step - loss: 0.5817 - acc: 0.7950 - val_loss: 1.5068 - val_acc: 0.6246\n",
            "Epoch 19/20\n",
            "200/200 [==============================] - 4s 20ms/step - loss: 0.5682 - acc: 0.8001 - val_loss: 1.5419 - val_acc: 0.6275\n",
            "Epoch 20/20\n",
            "200/200 [==============================] - 4s 20ms/step - loss: 0.5563 - acc: 0.8042 - val_loss: 1.5586 - val_acc: 0.6241\n"
          ],
          "name": "stdout"
        }
      ]
    },
    {
      "cell_type": "markdown",
      "metadata": {
        "id": "0uhLqkIpiiBV"
      },
      "source": [
        "Now that's better, about 80% accuracy on the train set, but only about 62% accuracy on the validation set (though each time this is run, a different result is obtained, so your results may vary), and with fewer epochs and trainable parameters than a network from scratch (such as Question 1). And we didn't need to add much to the output of our pretrained VGG16 network.\n",
        "\n",
        "Do notice that we are heavily overfitting though.\n"
      ]
    },
    {
      "cell_type": "code",
      "metadata": {
        "id": "cyezuk-2M1Gq",
        "colab": {
          "base_uri": "https://localhost:8080/",
          "height": 617
        },
        "outputId": "a305b169-c530-4b61-9593-3ca4467afa53"
      },
      "source": [
        "plt.plot(history.history['loss'])\n",
        "plt.plot(history.history['val_loss'])\n",
        "plt.title('Model Loss')\n",
        "plt.ylabel('Loss')\n",
        "plt.xlabel('Epochs')\n",
        "plt.legend(['train', 'test'])\n",
        "plt.show()\n",
        "\n",
        "plt.plot(history.history['acc'])\n",
        "plt.plot(history.history['val_acc'])\n",
        "plt.title('Model Accuracy')\n",
        "plt.ylabel('Accuracy')\n",
        "plt.xlabel('Epochs')\n",
        "plt.legend(['train', 'test'])\n",
        "plt.show()"
      ],
      "execution_count": null,
      "outputs": [
        {
          "output_type": "display_data",
          "data": {
            "image/png": "[encoded data removed]",
            "text/plain": [
              "<Figure size 432x288 with 1 Axes>"
            ]
          },
          "metadata": {
            "tags": []
          }
        },
        {
          "output_type": "display_data",
          "data": {
            "image/png": "[encoded data removed]",
            "text/plain": [
              "<Figure size 432x288 with 1 Axes>"
            ]
          },
          "metadata": {
            "tags": []
          }
        }
      ]
    },
    {
      "cell_type": "markdown",
      "metadata": {
        "id": "1Y8v3jO4jIMU"
      },
      "source": [
        "### Problem 2(a)\n",
        "\n",
        "Add on your own last layers to the pretrained model and train it on the training data. You can increase (or decrease) the number of nodes per layer, increase (or decrease) the number of layers, and add dropout if your model is overfitting, change the hyperparameters, change your optimizer, etc. Try to get the validation accuracy higher than our example transfer learning model (shown above) was able to obtain, and try to minimize the amount of overfitting."
      ]
    },
    {
      "cell_type": "code",
      "metadata": {
        "id": "rXDiG-cdgsyZ",
        "colab": {
          "base_uri": "https://localhost:8080/",
          "height": 1000
        },
        "outputId": "96b08538-fe3f-4e79-dbc2-2a3eec0118dc"
      },
      "source": [
        "base_model = VGG16(weights = 'imagenet', \n",
        "                   include_top = False, \n",
        "                   input_shape = (32, 32, 3), \n",
        "                   pooling = None)\n",
        "# Freeze the layers to save compute time\n",
        "for layer in base_model.layers:  \n",
        "    layer.trainable = False\n",
        "x = base_model.output\n",
        "x = Flatten()(x)\n",
        "### YOUR CODE HERE ###\n",
        "x = BatchNormalization()(x)\n",
        "x = (Dense(100, activation = 'relu'))(x)  \n",
        "x = BatchNormalization()(x)\n",
        "x = Dropout(0.5)(x)\n",
        "predic = Dense(10, activation = 'softmax')(x) \n",
        "# And now put this all together to create our new model.\n",
        "model = Model(inputs = base_model.input, outputs = predic) \n",
        "model.summary()"
      ],
      "execution_count": null,
      "outputs": [
        {
          "output_type": "stream",
          "text": [
            "Model: \"model_32\"\n",
            "_________________________________________________________________\n",
            "Layer (type)                 Output Shape              Param #   \n",
            "=================================================================\n",
            "input_33 (InputLayer)        [(None, 32, 32, 3)]       0         \n",
            "_________________________________________________________________\n",
            "block1_conv1 (Conv2D)        (None, 32, 32, 64)        1792      \n",
            "_________________________________________________________________\n",
            "block1_conv2 (Conv2D)        (None, 32, 32, 64)        36928     \n",
            "_________________________________________________________________\n",
            "block1_pool (MaxPooling2D)   (None, 16, 16, 64)        0         \n",
            "_________________________________________________________________\n",
            "block2_conv1 (Conv2D)        (None, 16, 16, 128)       73856     \n",
            "_________________________________________________________________\n",
            "block2_conv2 (Conv2D)        (None, 16, 16, 128)       147584    \n",
            "_________________________________________________________________\n",
            "block2_pool (MaxPooling2D)   (None, 8, 8, 128)         0         \n",
            "_________________________________________________________________\n",
            "block3_conv1 (Conv2D)        (None, 8, 8, 256)         295168    \n",
            "_________________________________________________________________\n",
            "block3_conv2 (Conv2D)        (None, 8, 8, 256)         590080    \n",
            "_________________________________________________________________\n",
            "block3_conv3 (Conv2D)        (None, 8, 8, 256)         590080    \n",
            "_________________________________________________________________\n",
            "block3_pool (MaxPooling2D)   (None, 4, 4, 256)         0         \n",
            "_________________________________________________________________\n",
            "block4_conv1 (Conv2D)        (None, 4, 4, 512)         1180160   \n",
            "_________________________________________________________________\n",
            "block4_conv2 (Conv2D)        (None, 4, 4, 512)         2359808   \n",
            "_________________________________________________________________\n",
            "block4_conv3 (Conv2D)        (None, 4, 4, 512)         2359808   \n",
            "_________________________________________________________________\n",
            "block4_pool (MaxPooling2D)   (None, 2, 2, 512)         0         \n",
            "_________________________________________________________________\n",
            "block5_conv1 (Conv2D)        (None, 2, 2, 512)         2359808   \n",
            "_________________________________________________________________\n",
            "block5_conv2 (Conv2D)        (None, 2, 2, 512)         2359808   \n",
            "_________________________________________________________________\n",
            "block5_conv3 (Conv2D)        (None, 2, 2, 512)         2359808   \n",
            "_________________________________________________________________\n",
            "block5_pool (MaxPooling2D)   (None, 1, 1, 512)         0         \n",
            "_________________________________________________________________\n",
            "flatten_83 (Flatten)         (None, 512)               0         \n",
            "_________________________________________________________________\n",
            "batch_normalization_50 (Batc (None, 512)               2048      \n",
            "_________________________________________________________________\n",
            "dense_166 (Dense)            (None, 100)               51300     \n",
            "_________________________________________________________________\n",
            "batch_normalization_51 (Batc (None, 100)               400       \n",
            "_________________________________________________________________\n",
            "dropout_55 (Dropout)         (None, 100)               0         \n",
            "_________________________________________________________________\n",
            "dense_167 (Dense)            (None, 10)                1010      \n",
            "=================================================================\n",
            "Total params: 14,769,446\n",
            "Trainable params: 53,534\n",
            "Non-trainable params: 14,715,912\n",
            "_________________________________________________________________\n"
          ],
          "name": "stdout"
        }
      ]
    },
    {
      "cell_type": "code",
      "metadata": {
        "id": "-L3MDnyaj--5"
      },
      "source": [
        "# Compile the model.\n",
        "\n",
        "### YOUR CODE HERE ###\n",
        "model.compile(loss = 'categorical_crossentropy',\n",
        "              optimizer = RMSprop(learning_rate=0.0005),\n",
        "              metrics = ['acc'])"
      ],
      "execution_count": null,
      "outputs": []
    },
    {
      "cell_type": "code",
      "metadata": {
        "id": "hFFiPnzekCi9",
        "colab": {
          "base_uri": "https://localhost:8080/",
          "height": 697
        },
        "outputId": "f4fe574c-73cb-4acc-a3f4-f90111cfb3c6"
      },
      "source": [
        "\n",
        "epochs = 20 ### Leave the epochs at 20 ###\n",
        "\n",
        "batchsize = 100### YOUR CODE HERE ###\n",
        "\n",
        "# Train the model\n",
        "\n",
        "### YOUR CODE HERE ###\n",
        "history = model.fit(X, \n",
        "                    y,\n",
        "                    batch_size = batchsize,\n",
        "                    epochs = epochs, \n",
        "                    validation_split = 0.2,\n",
        "                    verbose = 1)"
      ],
      "execution_count": null,
      "outputs": [
        {
          "output_type": "stream",
          "text": [
            "Epoch 1/20\n",
            "400/400 [==============================] - 6s 14ms/step - loss: 1.7227 - acc: 0.4548 - val_loss: 1.1331 - val_acc: 0.6037\n",
            "Epoch 2/20\n",
            "400/400 [==============================] - 5s 13ms/step - loss: 1.2455 - acc: 0.5738 - val_loss: 1.0438 - val_acc: 0.6378\n",
            "Epoch 3/20\n",
            "400/400 [==============================] - 5s 13ms/step - loss: 1.1341 - acc: 0.6075 - val_loss: 1.0054 - val_acc: 0.6505\n",
            "Epoch 4/20\n",
            "400/400 [==============================] - 5s 13ms/step - loss: 1.0760 - acc: 0.6252 - val_loss: 0.9845 - val_acc: 0.6578\n",
            "Epoch 5/20\n",
            "400/400 [==============================] - 5s 13ms/step - loss: 1.0435 - acc: 0.6381 - val_loss: 0.9685 - val_acc: 0.6645\n",
            "Epoch 6/20\n",
            "400/400 [==============================] - 5s 13ms/step - loss: 1.0266 - acc: 0.6459 - val_loss: 0.9625 - val_acc: 0.6655\n",
            "Epoch 7/20\n",
            "400/400 [==============================] - 5s 13ms/step - loss: 1.0060 - acc: 0.6515 - val_loss: 0.9548 - val_acc: 0.6673\n",
            "Epoch 8/20\n",
            "400/400 [==============================] - 5s 13ms/step - loss: 0.9933 - acc: 0.6527 - val_loss: 0.9506 - val_acc: 0.6698\n",
            "Epoch 9/20\n",
            "400/400 [==============================] - 5s 13ms/step - loss: 0.9846 - acc: 0.6598 - val_loss: 0.9477 - val_acc: 0.6717\n",
            "Epoch 10/20\n",
            "400/400 [==============================] - 5s 13ms/step - loss: 0.9726 - acc: 0.6612 - val_loss: 0.9434 - val_acc: 0.6736\n",
            "Epoch 11/20\n",
            "400/400 [==============================] - 5s 13ms/step - loss: 0.9654 - acc: 0.6638 - val_loss: 0.9404 - val_acc: 0.6746\n",
            "Epoch 12/20\n",
            "400/400 [==============================] - 5s 13ms/step - loss: 0.9601 - acc: 0.6654 - val_loss: 0.9405 - val_acc: 0.6765\n",
            "Epoch 13/20\n",
            "400/400 [==============================] - 5s 13ms/step - loss: 0.9565 - acc: 0.6675 - val_loss: 0.9396 - val_acc: 0.6766\n",
            "Epoch 14/20\n",
            "400/400 [==============================] - 5s 13ms/step - loss: 0.9488 - acc: 0.6718 - val_loss: 0.9360 - val_acc: 0.6756\n",
            "Epoch 15/20\n",
            "400/400 [==============================] - 5s 13ms/step - loss: 0.9407 - acc: 0.6719 - val_loss: 0.9363 - val_acc: 0.6750\n",
            "Epoch 16/20\n",
            "400/400 [==============================] - 5s 13ms/step - loss: 0.9375 - acc: 0.6727 - val_loss: 0.9354 - val_acc: 0.6731\n",
            "Epoch 17/20\n",
            "400/400 [==============================] - 5s 13ms/step - loss: 0.9336 - acc: 0.6765 - val_loss: 0.9349 - val_acc: 0.6783\n",
            "Epoch 18/20\n",
            "400/400 [==============================] - 5s 13ms/step - loss: 0.9291 - acc: 0.6763 - val_loss: 0.9351 - val_acc: 0.6758\n",
            "Epoch 19/20\n",
            "400/400 [==============================] - 5s 13ms/step - loss: 0.9238 - acc: 0.6794 - val_loss: 0.9361 - val_acc: 0.6799\n",
            "Epoch 20/20\n",
            "400/400 [==============================] - 5s 13ms/step - loss: 0.9262 - acc: 0.6801 - val_loss: 0.9363 - val_acc: 0.6765\n"
          ],
          "name": "stdout"
        }
      ]
    },
    {
      "cell_type": "markdown",
      "metadata": {
        "id": "SzkmJfSClLqZ"
      },
      "source": [
        "### Problem 2(b)\n",
        "\n",
        "Create training and validation loss and accuracy plots for this model.\n"
      ]
    },
    {
      "cell_type": "code",
      "metadata": {
        "id": "k3Ga76rjlUj1",
        "colab": {
          "base_uri": "https://localhost:8080/",
          "height": 617
        },
        "outputId": "55d0dfca-a8c9-4fb3-9b16-62dba8f47a12"
      },
      "source": [
        "### YOUR CODE HERE ###\n",
        "plt.plot(history.history['loss'])\n",
        "plt.plot(history.history['val_loss'])\n",
        "plt.title('Model Loss')\n",
        "plt.ylabel('Loss')\n",
        "plt.xlabel('Epochs')\n",
        "plt.legend(['train', 'test'])\n",
        "plt.show()\n",
        "\n",
        "plt.plot(history.history['acc'])\n",
        "plt.plot(history.history['val_acc'])\n",
        "plt.title('Model Accuracy')\n",
        "plt.ylabel('Accuracy')\n",
        "plt.xlabel('Epochs')\n",
        "plt.legend(['train', 'test'])\n",
        "plt.show()"
      ],
      "execution_count": null,
      "outputs": [
        {
          "output_type": "display_data",
          "data": {
            "image/png": "[encoded data removed]",
            "text/plain": [
              "<Figure size 432x288 with 1 Axes>"
            ]
          },
          "metadata": {
            "tags": []
          }
        },
        {
          "output_type": "display_data",
          "data": {
            "image/png": "[encoded data removed]",
            "text/plain": [
              "<Figure size 432x288 with 1 Axes>"
            ]
          },
          "metadata": {
            "tags": []
          }
        }
      ]
    },
    {
      "cell_type": "markdown",
      "metadata": {
        "id": "UbubSpWlnoo3"
      },
      "source": [
        "### Problem 2 (c)\n",
        "\n",
        "- What did you add in your transfer learning model after the VGG16 portion? \n",
        "\n",
        "- What did you try that didn't work?\n",
        "\n",
        "- What optimizer and hyperparameters did you go with and why?\n",
        "\n",
        "- How much did it improve over the example transfer learning model we provided?\n"
      ]
    },
    {
      "cell_type": "markdown",
      "metadata": {
        "id": "D5B4P7mCnpIY"
      },
      "source": [
        "**YOUR ANSWER**\n",
        "\n",
        "I added in a BatchNormalization Layer, a subsequent Dense layer of 100 neurons with the Relu activation function, and an additional BatchNormalization layer and a Dropout layer (with 50% to mitigate overfitting) before the 10 neuron output layer with the softmax activation function.\n",
        "\n",
        "I tried a batch size of 200 initially, but later a batch size of 100 improved the accuracy. I also tried increasing the dropout rate from 0.4 to 0.6, but that reduced the accuracy. I also tried setting the neurons in the dense layer before the output layer to be 20 neurons, but I later expanded it to 40 neurons, and later 50, and finally 100. I tried setting the learning rate for RMSProp to 0.01 but it severely reduced the accuracy, so I set it to 0.001. I also experimented with multiple BatchNormalization layers, and dropout layers where I had just dropout, just BatchNormalization, then attempted both and got better results with less overfitting.\n",
        "\n",
        "I used the RMS prop optimizer with a learning rate of 0.001, because I felt as though it was a good optimizer to use because it is good optimizer that takes advantage of an adaptive learning rate. I also experimented with the Adam optimizer, as Adam combines RMSProp and momentum. However, for some reason, Adam performed worse than RMSProp, so I reverted back to RMSProp.\n",
        "\n",
        "It improved on the learning model by about 5%, achieving a validation accuracy of 0.67"
      ]
    },
    {
      "cell_type": "markdown",
      "metadata": {
        "id": "y49iI0-IlXyv"
      },
      "source": [
        "### Problem 2 (d)\n",
        "\n",
        "Does your final model show signs of underfitting or overfitting? Explain why you think so.\n",
        "\n"
      ]
    },
    {
      "cell_type": "markdown",
      "metadata": {
        "id": "Wf-_VgKhnxhU"
      },
      "source": [
        "**YOUR ANSWER**\n",
        "The model shows signs of very slight overfitting, based on the plots which show that the training accuracy is much greater than the validation accuracy which looks like the model is overfitting.\n",
        "However, the overfitting is not that prevalent and may vary slightly after each run but overall the model has about equivalent train and test accuracy."
      ]
    }
  ]
}